{
 "cells": [
  {
   "cell_type": "code",
   "execution_count": 1,
   "metadata": {},
   "outputs": [],
   "source": [
    "import os\n",
    "os.chdir('..')"
   ]
  },
  {
   "cell_type": "code",
   "execution_count": 3,
   "metadata": {},
   "outputs": [
    {
     "name": "stderr",
     "output_type": "stream",
     "text": [
      "/Library/Frameworks/Python.framework/Versions/3.7/lib/python3.7/site-packages/sklearn/externals/joblib/__init__.py:15: DeprecationWarning: sklearn.externals.joblib is deprecated in 0.21 and will be removed in 0.23. Please import this functionality directly from joblib, which can be installed with: pip install joblib. If this warning is raised when loading pickled models, you may need to re-serialize those models with scikit-learn 0.21+.\n",
      "  warnings.warn(msg, category=DeprecationWarning)\n"
     ]
    }
   ],
   "source": [
    "import convokit"
   ]
  },
  {
   "cell_type": "code",
   "execution_count": 4,
   "metadata": {},
   "outputs": [
    {
     "data": {
      "text/plain": [
       "<module 'convokit' from '/Users/calebchiam/Documents/GitHub/Cornell-Conversational-Analysis-Toolkit/convokit/__init__.py'>"
      ]
     },
     "execution_count": 4,
     "metadata": {},
     "output_type": "execute_result"
    }
   ],
   "source": [
    "convokit"
   ]
  },
  {
   "cell_type": "code",
   "execution_count": 6,
   "metadata": {},
   "outputs": [],
   "source": [
    "from convokit import Corpus, Utterance, User"
   ]
  },
  {
   "cell_type": "code",
   "execution_count": 7,
   "metadata": {},
   "outputs": [],
   "source": [
    "\"\"\"\n",
    "Basic Conversation tree (left to right within subtree => earliest to latest)\n",
    "           0\n",
    "    1      2      3\n",
    "  4 5 6   7 8     9\n",
    "10                11\n",
    "\"\"\"\n",
    "corpus = Corpus(utterances = [\n",
    "    Utterance(id=\"0\", reply_to=None, root=\"0\", user=User(name=\"alice\"), timestamp=0),\n",
    "\n",
    "    Utterance(id=\"2\", reply_to=\"0\", root=\"0\", user=User(name=\"alice\"), timestamp=2),\n",
    "    Utterance(id=\"1\", reply_to=\"0\", root=\"0\", user=User(name=\"alice\"), timestamp=1),\n",
    "    Utterance(id=\"3\", reply_to=\"0\", root=\"0\", user=User(name=\"alice\"), timestamp=3),\n",
    "\n",
    "    Utterance(id=\"4\", reply_to=\"1\", root=\"0\", user=User(name=\"alice\"), timestamp=4),\n",
    "    Utterance(id=\"5\", reply_to=\"1\", root=\"0\", user=User(name=\"alice\"), timestamp=5),\n",
    "    Utterance(id=\"6\", reply_to=\"1\", root=\"0\", user=User(name=\"alice\"), timestamp=6),\n",
    "\n",
    "    Utterance(id=\"7\", reply_to=\"2\", root=\"0\", user=User(name=\"alice\"), timestamp=4),\n",
    "    Utterance(id=\"8\", reply_to=\"2\", root=\"0\", user=User(name=\"alice\"), timestamp=5),\n",
    "\n",
    "    Utterance(id=\"9\", reply_to=\"3\", root=\"0\", user=User(name=\"alice\"), timestamp=4),\n",
    "\n",
    "    Utterance(id=\"10\", reply_to=\"4\", root=\"0\", user=User(name=\"alice\"), timestamp=5),\n",
    "\n",
    "    Utterance(id=\"11\", reply_to=\"9\", root=\"0\", user=User(name=\"alice\"), timestamp=10),\n",
    "\n",
    "    Utterance(id=\"other\", reply_to=None, root=\"other\", user=User(name=\"alice\"), timestamp=99)\n",
    "])"
   ]
  },
  {
   "cell_type": "markdown",
   "metadata": {},
   "source": [
    "Adding some simple metadata:"
   ]
  },
  {
   "cell_type": "code",
   "execution_count": 8,
   "metadata": {},
   "outputs": [],
   "source": [
    "corpus.get_conversation(\"0\").meta['hey'] = 'jude'\n",
    "corpus.meta['foo'] = 'bar'"
   ]
  },
  {
   "cell_type": "markdown",
   "metadata": {},
   "source": [
    "## Tree Traversals"
   ]
  },
  {
   "cell_type": "code",
   "execution_count": 11,
   "metadata": {},
   "outputs": [
    {
     "data": {
      "text/plain": [
       "['0', '1', '2', '3', '4', '5', '6', '7', '8', '9', '10', '11']"
      ]
     },
     "execution_count": 11,
     "metadata": {},
     "output_type": "execute_result"
    }
   ],
   "source": [
    "convo = corpus.get_conversation(\"0\")\n",
    "bfs_traversal = [utt.id for utt in convo.traverse(\"bfs\", as_utterance=True)]\n",
    "bfs_traversal"
   ]
  },
  {
   "cell_type": "markdown",
   "metadata": {},
   "source": [
    "traverse() returns an iterator of Utterances OR an iterator of UtteranceNodes"
   ]
  },
  {
   "cell_type": "code",
   "execution_count": 16,
   "metadata": {},
   "outputs": [
    {
     "name": "stdout",
     "output_type": "stream",
     "text": [
      "Utterance('id': '0', 'root': 0, 'reply-to': None, 'user': User('id': alice, 'meta': {}), 'timestamp': 0, 'text': None, 'meta': {})\n",
      "Utterance('id': '1', 'root': 0, 'reply-to': 0, 'user': User('id': alice, 'meta': {}), 'timestamp': 1, 'text': None, 'meta': {})\n",
      "Utterance('id': '2', 'root': 0, 'reply-to': 0, 'user': User('id': alice, 'meta': {}), 'timestamp': 2, 'text': None, 'meta': {})\n",
      "Utterance('id': '3', 'root': 0, 'reply-to': 0, 'user': User('id': alice, 'meta': {}), 'timestamp': 3, 'text': None, 'meta': {})\n",
      "Utterance('id': '4', 'root': 0, 'reply-to': 1, 'user': User('id': alice, 'meta': {}), 'timestamp': 4, 'text': None, 'meta': {})\n",
      "Utterance('id': '5', 'root': 0, 'reply-to': 1, 'user': User('id': alice, 'meta': {}), 'timestamp': 5, 'text': None, 'meta': {})\n",
      "Utterance('id': '6', 'root': 0, 'reply-to': 1, 'user': User('id': alice, 'meta': {}), 'timestamp': 6, 'text': None, 'meta': {})\n",
      "Utterance('id': '7', 'root': 0, 'reply-to': 2, 'user': User('id': alice, 'meta': {}), 'timestamp': 4, 'text': None, 'meta': {})\n",
      "Utterance('id': '8', 'root': 0, 'reply-to': 2, 'user': User('id': alice, 'meta': {}), 'timestamp': 5, 'text': None, 'meta': {})\n",
      "Utterance('id': '9', 'root': 0, 'reply-to': 3, 'user': User('id': alice, 'meta': {}), 'timestamp': 4, 'text': None, 'meta': {})\n",
      "Utterance('id': '10', 'root': 0, 'reply-to': 4, 'user': User('id': alice, 'meta': {}), 'timestamp': 5, 'text': None, 'meta': {})\n",
      "Utterance('id': '11', 'root': 0, 'reply-to': 9, 'user': User('id': alice, 'meta': {}), 'timestamp': 10, 'text': None, 'meta': {})\n"
     ]
    }
   ],
   "source": [
    "for utt in list(convo.traverse(\"bfs\", as_utterance=True)):\n",
    "    print(utt)"
   ]
  },
  {
   "cell_type": "code",
   "execution_count": 13,
   "metadata": {},
   "outputs": [
    {
     "data": {
      "text/plain": [
       "[<convokit.model.utteranceNodeWrapper.UtteranceNode at 0x13974fac8>,\n",
       " <convokit.model.utteranceNodeWrapper.UtteranceNode at 0x13974f978>,\n",
       " <convokit.model.utteranceNodeWrapper.UtteranceNode at 0x13974f588>,\n",
       " <convokit.model.utteranceNodeWrapper.UtteranceNode at 0x13974f9b0>,\n",
       " <convokit.model.utteranceNodeWrapper.UtteranceNode at 0x13974fc18>,\n",
       " <convokit.model.utteranceNodeWrapper.UtteranceNode at 0x13974fba8>,\n",
       " <convokit.model.utteranceNodeWrapper.UtteranceNode at 0x13974fc50>,\n",
       " <convokit.model.utteranceNodeWrapper.UtteranceNode at 0x13974fc88>,\n",
       " <convokit.model.utteranceNodeWrapper.UtteranceNode at 0x13974f4e0>,\n",
       " <convokit.model.utteranceNodeWrapper.UtteranceNode at 0x13974fcf8>,\n",
       " <convokit.model.utteranceNodeWrapper.UtteranceNode at 0x13974f9e8>,\n",
       " <convokit.model.utteranceNodeWrapper.UtteranceNode at 0x13974fda0>]"
      ]
     },
     "execution_count": 13,
     "metadata": {},
     "output_type": "execute_result"
    }
   ],
   "source": [
    "list(convo.traverse(\"bfs\", as_utterance=False))"
   ]
  },
  {
   "cell_type": "code",
   "execution_count": 18,
   "metadata": {},
   "outputs": [
    {
     "data": {
      "text/plain": [
       "['0', '1', '4', '10', '5', '6', '2', '7', '8', '3', '9', '11']"
      ]
     },
     "execution_count": 18,
     "metadata": {},
     "output_type": "execute_result"
    }
   ],
   "source": [
    "dfs_traversal = [utt.id for utt in convo.traverse(\"dfs\", as_utterance=True)]\n",
    "dfs_traversal"
   ]
  },
  {
   "cell_type": "code",
   "execution_count": 19,
   "metadata": {},
   "outputs": [
    {
     "data": {
      "text/plain": [
       "['10', '4', '5', '6', '1', '7', '8', '2', '11', '9', '3', '0']"
      ]
     },
     "execution_count": 19,
     "metadata": {},
     "output_type": "execute_result"
    }
   ],
   "source": [
    "postorder_traversal = [utt.id for utt in convo.traverse(\"postorder\", as_utterance=True)]\n",
    "postorder_traversal"
   ]
  },
  {
   "cell_type": "code",
   "execution_count": 20,
   "metadata": {},
   "outputs": [
    {
     "data": {
      "text/plain": [
       "['0', '1', '4', '10', '5', '6', '2', '7', '8', '3', '9', '11']"
      ]
     },
     "execution_count": 20,
     "metadata": {},
     "output_type": "execute_result"
    }
   ],
   "source": [
    "preorder_traversal = [utt.id for utt in convo.traverse(\"preorder\", as_utterance=True)]\n",
    "preorder_traversal"
   ]
  },
  {
   "cell_type": "markdown",
   "metadata": {},
   "source": [
    "## Root to leaf paths"
   ]
  },
  {
   "cell_type": "code",
   "execution_count": 23,
   "metadata": {},
   "outputs": [],
   "source": [
    "paths = convo.get_root_to_leaf_paths()"
   ]
  },
  {
   "cell_type": "code",
   "execution_count": 24,
   "metadata": {},
   "outputs": [
    {
     "data": {
      "text/plain": [
       "6"
      ]
     },
     "execution_count": 24,
     "metadata": {},
     "output_type": "execute_result"
    }
   ],
   "source": [
    "# Number of root to leaf paths\n",
    "len(paths)"
   ]
  },
  {
   "cell_type": "code",
   "execution_count": 25,
   "metadata": {},
   "outputs": [
    {
     "name": "stdout",
     "output_type": "stream",
     "text": [
      "['0', '1', '6']\n",
      "['0', '3', '9', '11']\n",
      "['0', '2', '7']\n",
      "['0', '1', '4', '10']\n",
      "['0', '2', '8']\n",
      "['0', '1', '5']\n"
     ]
    }
   ],
   "source": [
    "for path in paths:\n",
    "    print([utt.id for utt in path])"
   ]
  },
  {
   "cell_type": "markdown",
   "metadata": {},
   "source": [
    "## Subtree extraction"
   ]
  },
  {
   "cell_type": "code",
   "execution_count": 27,
   "metadata": {},
   "outputs": [],
   "source": [
    "subtree_node = convo.get_subtree(\"1\")"
   ]
  },
  {
   "cell_type": "code",
   "execution_count": 32,
   "metadata": {},
   "outputs": [
    {
     "data": {
      "text/plain": [
       "['1', '4', '5', '6', '10']"
      ]
     },
     "execution_count": 32,
     "metadata": {},
     "output_type": "execute_result"
    }
   ],
   "source": [
    "[node.utt.id for node in subtree_node.bfs_traversal()]"
   ]
  },
  {
   "cell_type": "code",
   "execution_count": 33,
   "metadata": {},
   "outputs": [
    {
     "data": {
      "text/plain": [
       "['1', '4', '10', '5', '6']"
      ]
     },
     "execution_count": 33,
     "metadata": {},
     "output_type": "execute_result"
    }
   ],
   "source": [
    "[node.utt.id for node in subtree_node.dfs_traversal()]"
   ]
  },
  {
   "cell_type": "code",
   "execution_count": 31,
   "metadata": {},
   "outputs": [
    {
     "data": {
      "text/plain": [
       "['1', '4', '10', '5', '6']"
      ]
     },
     "execution_count": 31,
     "metadata": {},
     "output_type": "execute_result"
    }
   ],
   "source": [
    "[node.utt.id for node in subtree_node.pre_order()]"
   ]
  },
  {
   "cell_type": "code",
   "execution_count": 34,
   "metadata": {},
   "outputs": [
    {
     "data": {
      "text/plain": [
       "['10', '4', '5', '6', '1']"
      ]
     },
     "execution_count": 34,
     "metadata": {},
     "output_type": "execute_result"
    }
   ],
   "source": [
    "[node.utt.id for node in subtree_node.post_order()]"
   ]
  },
  {
   "cell_type": "markdown",
   "metadata": {},
   "source": [
    "## Reindexing Conversations in a Corpus"
   ]
  },
  {
   "cell_type": "code",
   "execution_count": 37,
   "metadata": {},
   "outputs": [
    {
     "name": "stdout",
     "output_type": "stream",
     "text": [
      "Number of Users: 1\n",
      "Number of Utterances: 13\n",
      "Number of Conversations: 2\n"
     ]
    }
   ],
   "source": [
    "corpus.print_summary_stats()"
   ]
  },
  {
   "cell_type": "code",
   "execution_count": 35,
   "metadata": {},
   "outputs": [],
   "source": [
    "reindexed_corpus = corpus.reindex_conversations(new_convo_roots=[\"1\", \"2\", \"3\"])"
   ]
  },
  {
   "cell_type": "code",
   "execution_count": 36,
   "metadata": {},
   "outputs": [
    {
     "name": "stdout",
     "output_type": "stream",
     "text": [
      "Number of Users: 1\n",
      "Number of Utterances: 11\n",
      "Number of Conversations: 3\n"
     ]
    }
   ],
   "source": [
    "reindexed_corpus.print_summary_stats()"
   ]
  },
  {
   "cell_type": "code",
   "execution_count": 38,
   "metadata": {},
   "outputs": [
    {
     "name": "stdout",
     "output_type": "stream",
     "text": [
      "alice\n",
      "    alice\n",
      "        alice\n",
      "    alice\n",
      "    alice\n"
     ]
    }
   ],
   "source": [
    "reindexed_corpus.get_conversation(\"1\").print_conversation_structure()"
   ]
  },
  {
   "cell_type": "code",
   "execution_count": 40,
   "metadata": {},
   "outputs": [
    {
     "data": {
      "text/plain": [
       "['1', '4', '5', '6', '10']"
      ]
     },
     "execution_count": 40,
     "metadata": {},
     "output_type": "execute_result"
    }
   ],
   "source": [
    "[utt.id for utt in reindexed_corpus.get_conversation(\"1\").traverse(\"bfs\")]"
   ]
  },
  {
   "cell_type": "code",
   "execution_count": null,
   "metadata": {},
   "outputs": [],
   "source": []
  }
 ],
 "metadata": {
  "kernelspec": {
   "display_name": "Python 3",
   "language": "python",
   "name": "python3"
  },
  "language_info": {
   "codemirror_mode": {
    "name": "ipython",
    "version": 3
   },
   "file_extension": ".py",
   "mimetype": "text/x-python",
   "name": "python",
   "nbconvert_exporter": "python",
   "pygments_lexer": "ipython3",
   "version": "3.7.6"
  }
 },
 "nbformat": 4,
 "nbformat_minor": 2
}
