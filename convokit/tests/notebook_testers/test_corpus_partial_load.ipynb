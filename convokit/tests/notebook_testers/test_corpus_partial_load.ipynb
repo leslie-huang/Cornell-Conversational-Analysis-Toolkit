{
 "cells": [
  {
   "cell_type": "code",
   "execution_count": 1,
   "metadata": {},
   "outputs": [],
   "source": [
    "import convokit\n",
    "from convokit import Utterance, Corpus, Speaker"
   ]
  },
  {
   "cell_type": "code",
   "execution_count": 6,
   "metadata": {},
   "outputs": [
    {
     "name": "stdout",
     "output_type": "stream",
     "text": [
      "Dataset already exists at /Users/calebchiam/.convokit/downloads/wikiconv-2004\n"
     ]
    }
   ],
   "source": [
    "corpus = Corpus(filename=convokit.download(\"wikiconv-2004\"))\n"
   ]
  },
  {
   "cell_type": "code",
   "execution_count": 7,
   "metadata": {},
   "outputs": [
    {
     "name": "stdout",
     "output_type": "stream",
     "text": [
      "613608\n"
     ]
    }
   ],
   "source": [
    "num_utterances = len(list(corpus.iter_utterances()))\n",
    "print(num_utterances)"
   ]
  },
  {
   "cell_type": "code",
   "execution_count": 8,
   "metadata": {},
   "outputs": [
    {
     "name": "stdout",
     "output_type": "stream",
     "text": [
      "Number of Speakers: 34235\n",
      "Number of Utterances: 613608\n",
      "Number of Conversations: 303494\n"
     ]
    }
   ],
   "source": [
    "corpus.print_summary_stats()"
   ]
  },
  {
   "cell_type": "code",
   "execution_count": 10,
   "metadata": {},
   "outputs": [
    {
     "name": "stdout",
     "output_type": "stream",
     "text": [
      "Number of Utterances: 60\n",
      "Number of Conversations: 45\n"
     ]
    }
   ],
   "source": [
    "random_speaker = list(corpus.iter_speakers())[544]\n",
    "random_speaker.print_speaker_stats()"
   ]
  },
  {
   "cell_type": "code",
   "execution_count": 11,
   "metadata": {},
   "outputs": [
    {
     "name": "stdout",
     "output_type": "stream",
     "text": [
      "Dataset already exists at /Users/calebchiam/.convokit/downloads/wikiconv-2004\n"
     ]
    }
   ],
   "source": [
    "corpus1 = Corpus(filename=convokit.download(\"wikiconv-2004\"), utterance_end_index=num_utterances//2)"
   ]
  },
  {
   "cell_type": "code",
   "execution_count": 12,
   "metadata": {},
   "outputs": [
    {
     "name": "stdout",
     "output_type": "stream",
     "text": [
      "Number of Speakers: 21232\n",
      "Number of Utterances: 306805\n",
      "Number of Conversations: 152778\n"
     ]
    }
   ],
   "source": [
    "corpus1.print_summary_stats()"
   ]
  },
  {
   "cell_type": "code",
   "execution_count": 14,
   "metadata": {},
   "outputs": [
    {
     "name": "stdout",
     "output_type": "stream",
     "text": [
      "Number of Utterances: 20\n",
      "Number of Conversations: 18\n"
     ]
    }
   ],
   "source": [
    "corpus1.get_speaker('Jonel').print_speaker_stats()"
   ]
  },
  {
   "cell_type": "code",
   "execution_count": 15,
   "metadata": {},
   "outputs": [
    {
     "name": "stdout",
     "output_type": "stream",
     "text": [
      "Dataset already exists at /Users/calebchiam/.convokit/downloads/wikiconv-2004\n"
     ]
    }
   ],
   "source": [
    "# just for kicks, we start the index a little earlier so we have some overlap\n",
    "corpus2 = Corpus(filename=convokit.download(\"wikiconv-2004\"), utterance_start_index=num_utterances//2 - 100)"
   ]
  },
  {
   "cell_type": "code",
   "execution_count": 16,
   "metadata": {},
   "outputs": [
    {
     "name": "stdout",
     "output_type": "stream",
     "text": [
      "Number of Speakers: 20936\n",
      "Number of Utterances: 306904\n",
      "Number of Conversations: 150742\n"
     ]
    }
   ],
   "source": [
    "corpus2.print_summary_stats()"
   ]
  },
  {
   "cell_type": "code",
   "execution_count": 17,
   "metadata": {},
   "outputs": [
    {
     "name": "stdout",
     "output_type": "stream",
     "text": [
      "Number of Utterances: 40\n",
      "Number of Conversations: 27\n"
     ]
    }
   ],
   "source": [
    "corpus2.get_speaker('Jonel').print_speaker_stats()"
   ]
  },
  {
   "cell_type": "code",
   "execution_count": 20,
   "metadata": {},
   "outputs": [],
   "source": [
    "corpus3 = corpus1.merge(corpus2)"
   ]
  },
  {
   "cell_type": "code",
   "execution_count": 21,
   "metadata": {},
   "outputs": [
    {
     "name": "stdout",
     "output_type": "stream",
     "text": [
      "Number of Speakers: 34235\n",
      "Number of Utterances: 613608\n",
      "Number of Conversations: 303494\n"
     ]
    }
   ],
   "source": [
    "corpus3.print_summary_stats()"
   ]
  },
  {
   "cell_type": "code",
   "execution_count": 22,
   "metadata": {},
   "outputs": [
    {
     "name": "stdout",
     "output_type": "stream",
     "text": [
      "Number of Utterances: 60\n",
      "Number of Conversations: 45\n"
     ]
    }
   ],
   "source": [
    "corpus3.get_speaker('Jonel').print_speaker_stats()"
   ]
  },
  {
   "cell_type": "code",
   "execution_count": 23,
   "metadata": {},
   "outputs": [],
   "source": [
    "random_user_from_new_corpus = corpus3.get_speaker('Jonel')"
   ]
  },
  {
   "cell_type": "code",
   "execution_count": 24,
   "metadata": {},
   "outputs": [
    {
     "data": {
      "text/plain": [
       "True"
      ]
     },
     "execution_count": 24,
     "metadata": {},
     "output_type": "execute_result"
    }
   ],
   "source": [
    "random_speaker == random_user_from_new_corpus"
   ]
  },
  {
   "cell_type": "code",
   "execution_count": 26,
   "metadata": {},
   "outputs": [
    {
     "name": "stdout",
     "output_type": "stream",
     "text": [
      "Utterance('id': '7129041.0.5925', 'root': 6500567.3731.3731, 'reply-to': None, 'speaker': Speaker('id': 216.99.65.10, 'meta': {'user_id': None}), 'timestamp': 1099670498.0, 'text': ' ', 'meta': {'is_section_header': False, 'indentation': '3', 'toxicity': 0.1043122, 'sever_toxicity': 0.05604938, 'ancestor_id': '6533471.5925.5925', 'rev_id': '6533471', 'parent_id': None, 'original': ({'id': '6533471.5925.5925', 'user': ({'_name': 'JamesMLane', '_info': {'user_id': '38027'}, '_split_attribs': set(), '_uid': \"User([('name', 'JamesMLane')])\"}), 'root': '6500567.3731.3731', 'reply_to': '6506176.5405.5405', 'timestamp': 1097540270.0, 'text': \"Addendum: I couldn't find it on the ABC News site, which has been redesigned.  I've emailed ABC asking if they can provide a valid link.  If they can't, the ''Nightline'' story was picked up and quoted extensively here on the website of a liberal columnist, but I'd rather link to (and credit) ABC as the original source.  If ABC doesn't get back to me, I'll substitute the other link. \", 'meta': {'is_section_header': False, 'indentation': '3', 'toxicity': 0.1043122, 'sever_toxicity': 0.05604938, 'ancestor_id': '6533471.5925.5925', 'rev_id': '6533471', 'parent_id': None, 'original': None, 'modification': [], 'deletion': [], 'restoration': []}}), 'modification': [], 'deletion': [({'id': '7129041.0.5925', 'user': ({'_name': '216.99.65.10', '_info': {'user_id': None}, '_split_attribs': set(), '_uid': \"User([('name', '216.99.65.10')])\"}), 'root': '6500567.3731.3731', 'reply_to': None, 'timestamp': 1099670498.0, 'text': \"Addendum: I couldn't find it on the ABC News site, which has been redesigned.  I've emailed ABC asking if they can provide a valid link.  If they can't, the ''Nightline'' story was picked up and quoted extensively here on the website of a liberal columnist, but I'd rather link to (and credit) ABC as the original source.  If ABC doesn't get back to me, I'll substitute the other link. \", 'meta': {'is_section_header': False, 'indentation': '3', 'toxicity': 0.1043122, 'sever_toxicity': 0.05604938, 'ancestor_id': '6533471.5925.5925', 'rev_id': '7129041', 'parent_id': '6533471.5925.5925', 'original': None, 'modification': [], 'deletion': [], 'restoration': []}})], 'restoration': []})\n"
     ]
    }
   ],
   "source": [
    "random_utt = list(corpus.iter_utterances())[35456]\n",
    "print(random_utt)"
   ]
  },
  {
   "cell_type": "code",
   "execution_count": 27,
   "metadata": {},
   "outputs": [],
   "source": [
    "random_utt_from_new_corpus = corpus3.get_utterance(random_utt.id)"
   ]
  },
  {
   "cell_type": "code",
   "execution_count": 28,
   "metadata": {},
   "outputs": [
    {
     "data": {
      "text/plain": [
       "True"
      ]
     },
     "execution_count": 28,
     "metadata": {},
     "output_type": "execute_result"
    }
   ],
   "source": [
    "random_utt == random_utt_from_new_corpus"
   ]
  },
  {
   "cell_type": "code",
   "execution_count": 29,
   "metadata": {},
   "outputs": [],
   "source": [
    "random_convo = list(corpus.iter_conversations())[199999]"
   ]
  },
  {
   "cell_type": "code",
   "execution_count": 30,
   "metadata": {},
   "outputs": [
    {
     "data": {
      "text/plain": [
       "Conversation({'obj_type': 'conversation', '_owner': <convokit.model.corpus.Corpus object at 0x128f7c610>, 'meta': {'page_id': '47853827', 'page_title': '209.221.83.92', 'page_type': 'user_talk'}, '_id': '16957422.0.0', '_utterance_ids': ['16957422.0.0'], '_speaker_ids': None, 'tree': None})"
      ]
     },
     "execution_count": 30,
     "metadata": {},
     "output_type": "execute_result"
    }
   ],
   "source": [
    "random_convo"
   ]
  },
  {
   "cell_type": "code",
   "execution_count": 31,
   "metadata": {},
   "outputs": [],
   "source": [
    "random_convo_from_new_corpus = corpus3.get_conversation(random_convo.id)"
   ]
  },
  {
   "cell_type": "code",
   "execution_count": null,
   "metadata": {},
   "outputs": [],
   "source": []
  },
  {
   "cell_type": "code",
   "execution_count": 32,
   "metadata": {},
   "outputs": [
    {
     "data": {
      "text/plain": [
       "Conversation({'obj_type': 'conversation', '_owner': <convokit.model.corpus.Corpus object at 0x153abc610>, 'meta': {'page_id': '47853827', 'page_title': '209.221.83.92', 'page_type': 'user_talk'}, '_id': '16957422.0.0', '_utterance_ids': ['16957422.0.0'], '_speaker_ids': None, 'tree': None})"
      ]
     },
     "execution_count": 32,
     "metadata": {},
     "output_type": "execute_result"
    }
   ],
   "source": [
    "random_convo_from_new_corpus"
   ]
  },
  {
   "cell_type": "markdown",
   "metadata": {},
   "source": [
    "## Testing user's convo / utt iterators explicitly"
   ]
  },
  {
   "cell_type": "code",
   "execution_count": 33,
   "metadata": {},
   "outputs": [],
   "source": [
    "utts = list(random_speaker.iter_utterances())"
   ]
  },
  {
   "cell_type": "code",
   "execution_count": 34,
   "metadata": {},
   "outputs": [],
   "source": [
    "utts1 = utts[:33]"
   ]
  },
  {
   "cell_type": "code",
   "execution_count": 35,
   "metadata": {},
   "outputs": [
    {
     "data": {
      "text/plain": [
       "Utterance({'obj_type': 'utterance', '_owner': <convokit.model.corpus.Corpus object at 0x128f7c610>, 'meta': {'is_section_header': True, 'indentation': '0', 'toxicity': 0.1090915, 'sever_toxicity': 0.04738847, 'ancestor_id': '5065463.1949.1935', 'rev_id': '5065463', 'parent_id': None, 'original': None, 'modification': [], 'deletion': [], 'restoration': []}, '_id': '5065463.1949.1935', 'speaker': Speaker({'obj_type': 'speaker', '_owner': <convokit.model.corpus.Corpus object at 0x128f7c610>, 'meta': {'user_id': '56176'}, '_id': 'Jonel'}), 'user': Speaker({'obj_type': 'speaker', '_owner': <convokit.model.corpus.Corpus object at 0x128f7c610>, 'meta': {'user_id': '56176'}, '_id': 'Jonel'}), 'root': '5065463.1935.1935', 'reply_to': '5065463.1935.1935', 'timestamp': 1089783950.0, 'text': 'Most of my info is from Politics1.  They tend to include everyone who has claimed to be running for an office, even if the candidate will not be on the ballot. - \\nTexas - Texas official candidates list'})"
      ]
     },
     "execution_count": 35,
     "metadata": {},
     "output_type": "execute_result"
    }
   ],
   "source": [
    "utts1[-1]"
   ]
  },
  {
   "cell_type": "code",
   "execution_count": 36,
   "metadata": {},
   "outputs": [],
   "source": [
    "utts2 = utts[33:]"
   ]
  },
  {
   "cell_type": "code",
   "execution_count": 37,
   "metadata": {},
   "outputs": [
    {
     "data": {
      "text/plain": [
       "Utterance({'obj_type': 'utterance', '_owner': <convokit.model.corpus.Corpus object at 0x128f7c610>, 'meta': {'is_section_header': False, 'indentation': '-1', 'toxicity': 0.006724888, 'sever_toxicity': 0.00369792, 'ancestor_id': '5065463.1935.1935', 'rev_id': '5065463', 'parent_id': None, 'original': None, 'modification': [], 'deletion': [], 'restoration': []}, '_id': '5065463.1935.1935', 'speaker': Speaker({'obj_type': 'speaker', '_owner': <convokit.model.corpus.Corpus object at 0x128f7c610>, 'meta': {'user_id': '56176'}, '_id': 'Jonel'}), 'user': Speaker({'obj_type': 'speaker', '_owner': <convokit.model.corpus.Corpus object at 0x128f7c610>, 'meta': {'user_id': '56176'}, '_id': 'Jonel'}), 'root': '5065463.1935.1935', 'reply_to': None, 'timestamp': 1089783950.0, 'text': ' Sources '})"
      ]
     },
     "execution_count": 37,
     "metadata": {},
     "output_type": "execute_result"
    }
   ],
   "source": [
    "utts2[0]"
   ]
  },
  {
   "cell_type": "markdown",
   "metadata": {},
   "source": [
    "Notice that the two sets of utterances have an overlapping conversation."
   ]
  },
  {
   "cell_type": "code",
   "execution_count": 38,
   "metadata": {},
   "outputs": [],
   "source": [
    "corpus4 = Corpus(utterances=utts1)"
   ]
  },
  {
   "cell_type": "code",
   "execution_count": 40,
   "metadata": {},
   "outputs": [
    {
     "name": "stdout",
     "output_type": "stream",
     "text": [
      "Number of Utterances: 33\n",
      "Number of Conversations: 30\n"
     ]
    }
   ],
   "source": [
    "corpus4.get_speaker('Jonel').print_speaker_stats()"
   ]
  },
  {
   "cell_type": "code",
   "execution_count": 41,
   "metadata": {},
   "outputs": [],
   "source": [
    "corpus5 = Corpus(utterances=utts2)"
   ]
  },
  {
   "cell_type": "code",
   "execution_count": 42,
   "metadata": {},
   "outputs": [
    {
     "name": "stdout",
     "output_type": "stream",
     "text": [
      "Number of Utterances: 27\n",
      "Number of Conversations: 16\n"
     ]
    }
   ],
   "source": [
    "corpus5.get_speaker('Jonel').print_speaker_stats()"
   ]
  },
  {
   "cell_type": "code",
   "execution_count": 43,
   "metadata": {},
   "outputs": [],
   "source": [
    "corpus6 = corpus4.merge(corpus5)"
   ]
  },
  {
   "cell_type": "code",
   "execution_count": 44,
   "metadata": {},
   "outputs": [
    {
     "name": "stdout",
     "output_type": "stream",
     "text": [
      "Number of Utterances: 60\n",
      "Number of Conversations: 45\n"
     ]
    }
   ],
   "source": [
    "corpus6.get_speaker('Jonel').print_speaker_stats()"
   ]
  },
  {
   "cell_type": "code",
   "execution_count": null,
   "metadata": {},
   "outputs": [],
   "source": []
  }
 ],
 "metadata": {
  "kernelspec": {
   "display_name": "Python 3",
   "language": "python",
   "name": "python3"
  },
  "language_info": {
   "codemirror_mode": {
    "name": "ipython",
    "version": 3
   },
   "file_extension": ".py",
   "mimetype": "text/x-python",
   "name": "python",
   "nbconvert_exporter": "python",
   "pygments_lexer": "ipython3",
   "version": "3.7.6"
  }
 },
 "nbformat": 4,
 "nbformat_minor": 4
}
