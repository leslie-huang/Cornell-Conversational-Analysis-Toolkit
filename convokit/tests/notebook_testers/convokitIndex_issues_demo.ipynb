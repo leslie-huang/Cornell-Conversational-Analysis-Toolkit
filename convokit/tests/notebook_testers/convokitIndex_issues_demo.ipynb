{
 "cells": [
  {
   "cell_type": "code",
   "execution_count": 7,
   "metadata": {},
   "outputs": [],
   "source": [
    "import os\n",
    "os.chdir('../..')"
   ]
  },
  {
   "cell_type": "code",
   "execution_count": 8,
   "metadata": {},
   "outputs": [],
   "source": [
    "import convokit\n",
    "from convokit import Corpus, download, Utterance, Speaker, User"
   ]
  },
  {
   "cell_type": "code",
   "execution_count": 9,
   "metadata": {},
   "outputs": [],
   "source": [
    "utterances = [Utterance(id=str(i), speaker=User(id='speaker'+str(i))) for i in range(10)]"
   ]
  },
  {
   "cell_type": "code",
   "execution_count": 11,
   "metadata": {},
   "outputs": [
    {
     "name": "stderr",
     "output_type": "stream",
     "text": [
      "/Users/calebchiam/Documents/GitHub/Cornell-Conversational-Analysis-Toolkit/convokit/model/speaker.py:50: FutureWarning: speaker.name is deprecated and will be removed in a future release. Please use speaker.id instead.\n"
     ]
    },
    {
     "data": {
      "text/plain": [
       "'speaker2'"
      ]
     },
     "execution_count": 11,
     "metadata": {},
     "output_type": "execute_result"
    }
   ],
   "source": [
    "corpus.random_user().name"
   ]
  },
  {
   "cell_type": "code",
   "execution_count": 4,
   "metadata": {},
   "outputs": [],
   "source": [
    "corpus = Corpus(utterances=utterances)"
   ]
  },
  {
   "cell_type": "code",
   "execution_count": 5,
   "metadata": {},
   "outputs": [
    {
     "name": "stdout",
     "output_type": "stream",
     "text": [
      "Speaker('id': speaker0, 'meta': {})\n",
      "Speaker('id': speaker1, 'meta': {})\n",
      "Speaker('id': speaker2, 'meta': {})\n",
      "Speaker('id': speaker3, 'meta': {})\n",
      "Speaker('id': speaker4, 'meta': {})\n",
      "Speaker('id': speaker5, 'meta': {})\n",
      "Speaker('id': speaker6, 'meta': {})\n",
      "Speaker('id': speaker7, 'meta': {})\n",
      "Speaker('id': speaker8, 'meta': {})\n",
      "Speaker('id': speaker9, 'meta': {})\n"
     ]
    },
    {
     "name": "stderr",
     "output_type": "stream",
     "text": [
      "/Users/calebchiam/Documents/GitHub/Cornell-Conversational-Analysis-Toolkit/convokit/model/corpus.py:348: FutureWarning: iter_users() is deprecated and will be removed in a future release. Please use iter_speakers() instead.\n",
      "  deprecation(\"iter_users()\", \"iter_speakers()\")\n"
     ]
    }
   ],
   "source": [
    "for user in corpus.iter_users():\n",
    "    print(user)"
   ]
  },
  {
   "cell_type": "code",
   "execution_count": 6,
   "metadata": {},
   "outputs": [
    {
     "name": "stdout",
     "output_type": "stream",
     "text": [
      "{'utterances-index': {}, 'speakers-index': {}, 'conversations-index': {}, 'overall-index': {}, 'version': 0}\n"
     ]
    }
   ],
   "source": [
    "print(corpus.meta_index)"
   ]
  },
  {
   "cell_type": "code",
   "execution_count": 7,
   "metadata": {},
   "outputs": [
    {
     "name": "stdout",
     "output_type": "stream",
     "text": [
      "Number of Speakers: 10\n",
      "Number of Utterances: 10\n",
      "Number of Conversations: 1\n"
     ]
    }
   ],
   "source": [
    "corpus.print_summary_stats()"
   ]
  },
  {
   "cell_type": "markdown",
   "metadata": {},
   "source": [
    "## Addition / Updating behavior"
   ]
  },
  {
   "cell_type": "markdown",
   "metadata": {},
   "source": [
    "### Normal behavior"
   ]
  },
  {
   "cell_type": "code",
   "execution_count": 8,
   "metadata": {},
   "outputs": [],
   "source": [
    "for utt in corpus.iter_utterances():\n",
    "    utt.meta['good_meta'] = 1"
   ]
  },
  {
   "cell_type": "code",
   "execution_count": 9,
   "metadata": {},
   "outputs": [
    {
     "name": "stdout",
     "output_type": "stream",
     "text": [
      "{'utterances-index': {'good_meta': \"<class 'int'>\"}, 'speakers-index': {}, 'conversations-index': {}, 'overall-index': {}, 'version': 0}\n"
     ]
    }
   ],
   "source": [
    "print(corpus.meta_index)"
   ]
  },
  {
   "cell_type": "markdown",
   "metadata": {},
   "source": [
    "### Selective add"
   ]
  },
  {
   "cell_type": "code",
   "execution_count": 10,
   "metadata": {},
   "outputs": [],
   "source": [
    "for utt in corpus.iter_utterances(): # annotate first utt\n",
    "    utt.meta['okay_meta'] = 1\n",
    "    break"
   ]
  },
  {
   "cell_type": "code",
   "execution_count": 11,
   "metadata": {},
   "outputs": [
    {
     "name": "stdout",
     "output_type": "stream",
     "text": [
      "{'utterances-index': {'good_meta': \"<class 'int'>\", 'okay_meta': \"<class 'int'>\"}, 'speakers-index': {}, 'conversations-index': {}, 'overall-index': {}, 'version': 0}\n"
     ]
    }
   ],
   "source": [
    "print(corpus.meta_index)"
   ]
  },
  {
   "cell_type": "markdown",
   "metadata": {},
   "source": [
    "### ConvoKit 2.0 would have failed on this selective add"
   ]
  },
  {
   "cell_type": "code",
   "execution_count": 12,
   "metadata": {},
   "outputs": [],
   "source": [
    "idx = 1 ## \n",
    "for utt in corpus.iter_utterances(): # annotate second utt\n",
    "    if idx == 2:\n",
    "        utt.meta['okay_meta2'] = 1\n",
    "    idx += 1"
   ]
  },
  {
   "cell_type": "code",
   "execution_count": 13,
   "metadata": {},
   "outputs": [
    {
     "name": "stdout",
     "output_type": "stream",
     "text": [
      "{'utterances-index': {'good_meta': \"<class 'int'>\", 'okay_meta': \"<class 'int'>\", 'okay_meta2': \"<class 'int'>\"}, 'speakers-index': {}, 'conversations-index': {}, 'overall-index': {}, 'version': 0}\n"
     ]
    }
   ],
   "source": [
    "print(corpus.meta_index)"
   ]
  },
  {
   "cell_type": "markdown",
   "metadata": {},
   "source": [
    "### ConvoKit 2.0 / 2.3 fails on this inconsistent metadata type"
   ]
  },
  {
   "cell_type": "code",
   "execution_count": 14,
   "metadata": {},
   "outputs": [],
   "source": [
    "for idx, utt in enumerate(corpus.iter_utterances()): # annotate alternating utts\n",
    "    if idx % 2:\n",
    "        utt.meta['bad_meta'] = 1\n",
    "    else:\n",
    "        utt.meta['bad_meta'] = None\n"
   ]
  },
  {
   "cell_type": "code",
   "execution_count": 15,
   "metadata": {},
   "outputs": [
    {
     "name": "stdout",
     "output_type": "stream",
     "text": [
      "{'utterances-index': {'good_meta': \"<class 'int'>\", 'okay_meta': \"<class 'int'>\", 'okay_meta2': \"<class 'int'>\", 'bad_meta': \"<class 'NoneType'>\"}, 'speakers-index': {}, 'conversations-index': {}, 'overall-index': {}, 'version': 0}\n"
     ]
    }
   ],
   "source": [
    "print(corpus.meta_index)"
   ]
  },
  {
   "cell_type": "markdown",
   "metadata": {},
   "source": [
    "Can't enforce types without an utterance-by-utterance metadata type check. (How does Pandas do it? Cython)\n",
    "\n",
    "Can't add new types (e.g. Union) either without an utterance-by-utterance type check.\n",
    "\n",
    "Things currently work because of luck or because meta_index working is not crucial except for binary data loading."
   ]
  },
  {
   "cell_type": "code",
   "execution_count": null,
   "metadata": {},
   "outputs": [],
   "source": []
  },
  {
   "cell_type": "markdown",
   "metadata": {},
   "source": [
    "## Deletion"
   ]
  },
  {
   "cell_type": "code",
   "execution_count": 16,
   "metadata": {},
   "outputs": [],
   "source": [
    "for utt in corpus.iter_utterances():\n",
    "    utt.meta['to_be_deleted'] = 1"
   ]
  },
  {
   "cell_type": "code",
   "execution_count": 17,
   "metadata": {},
   "outputs": [
    {
     "name": "stdout",
     "output_type": "stream",
     "text": [
      "{'utterances-index': {'good_meta': \"<class 'int'>\", 'okay_meta': \"<class 'int'>\", 'okay_meta2': \"<class 'int'>\", 'bad_meta': \"<class 'NoneType'>\", 'to_be_deleted': \"<class 'int'>\"}, 'speakers-index': {}, 'conversations-index': {}, 'overall-index': {}, 'version': 0}\n"
     ]
    }
   ],
   "source": [
    "print(corpus.meta_index)"
   ]
  },
  {
   "cell_type": "markdown",
   "metadata": {},
   "source": [
    "### 2.3 Deleting metadata from one obj deletes from all objs (no such behavior in 2.0)"
   ]
  },
  {
   "cell_type": "code",
   "execution_count": 18,
   "metadata": {},
   "outputs": [],
   "source": [
    "del corpus.random_utterance().meta['to_be_deleted']"
   ]
  },
  {
   "cell_type": "code",
   "execution_count": 19,
   "metadata": {},
   "outputs": [
    {
     "name": "stdout",
     "output_type": "stream",
     "text": [
      "None\n",
      "None\n",
      "None\n",
      "None\n",
      "None\n",
      "None\n",
      "None\n",
      "None\n",
      "None\n",
      "None\n"
     ]
    }
   ],
   "source": [
    "for utt in corpus.iter_utterances():\n",
    "    print(utt.meta.get('to_be_deleted', None))"
   ]
  },
  {
   "cell_type": "code",
   "execution_count": 20,
   "metadata": {},
   "outputs": [
    {
     "name": "stdout",
     "output_type": "stream",
     "text": [
      "Speaker('id': speaker6, 'meta': {})\n",
      "Speaker('id': speaker8, 'meta': {})\n",
      "Speaker('id': speaker5, 'meta': {})\n",
      "Speaker('id': speaker9, 'meta': {})\n",
      "Speaker('id': speaker4, 'meta': {})\n",
      "Speaker('id': speaker2, 'meta': {})\n",
      "Speaker('id': speaker0, 'meta': {})\n",
      "Speaker('id': speaker1, 'meta': {})\n",
      "Speaker('id': speaker7, 'meta': {})\n",
      "Speaker('id': speaker3, 'meta': {})\n"
     ]
    },
    {
     "name": "stderr",
     "output_type": "stream",
     "text": [
      "/Users/calebchiam/Documents/GitHub/Cornell-Conversational-Analysis-Toolkit/convokit/model/conversation.py:136: FutureWarning: iter_users() is deprecated and will be removed in a future release. Please use iter_speakers() instead.\n",
      "  deprecation(\"iter_users()\", \"iter_speakers()\")\n"
     ]
    }
   ],
   "source": [
    "for user in corpus.random_conversation().iter_users():\n",
    "    print(user)"
   ]
  },
  {
   "cell_type": "code",
   "execution_count": 21,
   "metadata": {},
   "outputs": [
    {
     "name": "stdout",
     "output_type": "stream",
     "text": [
      "{'utterances-index': {'good_meta': \"<class 'int'>\", 'okay_meta': \"<class 'int'>\", 'okay_meta2': \"<class 'int'>\", 'bad_meta': \"<class 'NoneType'>\"}, 'speakers-index': {}, 'conversations-index': {}, 'overall-index': {}, 'version': 0}\n"
     ]
    }
   ],
   "source": [
    "print(corpus.meta_index)"
   ]
  }
 ],
 "metadata": {
  "kernelspec": {
   "display_name": "Python 3",
   "language": "python",
   "name": "python3"
  },
  "language_info": {
   "codemirror_mode": {
    "name": "ipython",
    "version": 3
   },
   "file_extension": ".py",
   "mimetype": "text/x-python",
   "name": "python",
   "nbconvert_exporter": "python",
   "pygments_lexer": "ipython3",
   "version": "3.7.6"
  }
 },
 "nbformat": 4,
 "nbformat_minor": 2
}
