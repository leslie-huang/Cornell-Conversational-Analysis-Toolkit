{
 "cells": [
  {
   "cell_type": "code",
   "execution_count": 1,
   "metadata": {},
   "outputs": [],
   "source": [
    "import os\n",
    "os.chdir('../../..')\n",
    "import convokit"
   ]
  },
  {
   "cell_type": "code",
   "execution_count": 2,
   "metadata": {},
   "outputs": [],
   "source": [
    "from convokit import Corpus, download"
   ]
  },
  {
   "cell_type": "code",
   "execution_count": 3,
   "metadata": {},
   "outputs": [
    {
     "name": "stdout",
     "output_type": "stream",
     "text": [
      "Dataset already exists at /Users/calebchiam/.convokit/downloads/subreddit-lol\n"
     ]
    }
   ],
   "source": [
    "corpus = Corpus(filename=download('subreddit-lol'))"
   ]
  },
  {
   "cell_type": "code",
   "execution_count": 4,
   "metadata": {},
   "outputs": [
    {
     "data": {
      "text/plain": [
       "{'title': 'This guy must be the wittiest man on television.',\n",
       " 'num_comments': 2,\n",
       " 'domain': 'youtube.com',\n",
       " 'timestamp': 1444850415,\n",
       " 'subreddit': 'lol',\n",
       " 'gilded': 0,\n",
       " 'gildings': None,\n",
       " 'stickied': False,\n",
       " 'author_flair_text': ''}"
      ]
     },
     "execution_count": 4,
     "metadata": {},
     "output_type": "execute_result"
    }
   ],
   "source": [
    "corpus.random_conversation().meta"
   ]
  },
  {
   "cell_type": "code",
   "execution_count": 5,
   "metadata": {},
   "outputs": [
    {
     "name": "stdout",
     "output_type": "stream",
     "text": [
      "Dataset already exists at /Users/calebchiam/.convokit/downloads/subreddit-lol\n"
     ]
    }
   ],
   "source": [
    "corpus2 = Corpus(filename=download('subreddit-lol'), exclude_conversation_meta=['subreddit'],\n",
    "                exclude_speaker_meta=['num_posts'],\n",
    "                exclude_utterance_meta=['score'],\n",
    "                exclude_overall_meta=['num_posts'])"
   ]
  },
  {
   "cell_type": "code",
   "execution_count": 6,
   "metadata": {},
   "outputs": [
    {
     "data": {
      "text/plain": [
       "{'title': 'Everybody in Colorado... (Sorry for the quality)',\n",
       " 'num_comments': 0,\n",
       " 'domain': 'i.imgur.com',\n",
       " 'timestamp': 1388881413,\n",
       " 'gilded': 0,\n",
       " 'gildings': None,\n",
       " 'stickied': False,\n",
       " 'author_flair_text': ''}"
      ]
     },
     "execution_count": 6,
     "metadata": {},
     "output_type": "execute_result"
    }
   ],
   "source": [
    "corpus2.random_conversation().meta"
   ]
  },
  {
   "cell_type": "code",
   "execution_count": 7,
   "metadata": {},
   "outputs": [
    {
     "data": {
      "text/plain": [
       "{'num_posts': 1, 'num_comments': 0}"
      ]
     },
     "execution_count": 7,
     "metadata": {},
     "output_type": "execute_result"
    }
   ],
   "source": [
    "corpus.random_speaker().meta"
   ]
  },
  {
   "cell_type": "code",
   "execution_count": 8,
   "metadata": {},
   "outputs": [
    {
     "data": {
      "text/plain": [
       "{'num_comments': 0}"
      ]
     },
     "execution_count": 8,
     "metadata": {},
     "output_type": "execute_result"
    }
   ],
   "source": [
    "corpus2.random_speaker().meta"
   ]
  },
  {
   "cell_type": "code",
   "execution_count": 9,
   "metadata": {},
   "outputs": [
    {
     "data": {
      "text/plain": [
       "{'score': 1,\n",
       " 'top_level_comment': None,\n",
       " 'retrieved_on': 1515321574,\n",
       " 'gilded': 0,\n",
       " 'gildings': None,\n",
       " 'subreddit': 'lol',\n",
       " 'stickied': False,\n",
       " 'permalink': '/r/lol/comments/7jc0bs/is_this_funny/',\n",
       " 'author_flair_text': ''}"
      ]
     },
     "execution_count": 9,
     "metadata": {},
     "output_type": "execute_result"
    }
   ],
   "source": [
    "corpus.random_utterance().meta"
   ]
  },
  {
   "cell_type": "code",
   "execution_count": 10,
   "metadata": {},
   "outputs": [
    {
     "data": {
      "text/plain": [
       "{'top_level_comment': None,\n",
       " 'retrieved_on': 1413253622,\n",
       " 'gilded': 0,\n",
       " 'gildings': None,\n",
       " 'subreddit': 'lol',\n",
       " 'stickied': False,\n",
       " 'permalink': '/r/lol/comments/15k0n9/i_see_your_talk_with_siri_and_raise_you/',\n",
       " 'author_flair_text': ''}"
      ]
     },
     "execution_count": 10,
     "metadata": {},
     "output_type": "execute_result"
    }
   ],
   "source": [
    "corpus2.random_utterance().meta"
   ]
  },
  {
   "cell_type": "code",
   "execution_count": 11,
   "metadata": {},
   "outputs": [
    {
     "data": {
      "text/plain": [
       "{'subreddit': 'lol',\n",
       " 'num_posts': 17607,\n",
       " 'num_comments': 14767,\n",
       " 'num_user': 14046}"
      ]
     },
     "execution_count": 11,
     "metadata": {},
     "output_type": "execute_result"
    }
   ],
   "source": [
    "corpus.meta"
   ]
  },
  {
   "cell_type": "code",
   "execution_count": 12,
   "metadata": {},
   "outputs": [
    {
     "data": {
      "text/plain": [
       "{'subreddit': 'lol', 'num_comments': 14767, 'num_user': 14046}"
      ]
     },
     "execution_count": 12,
     "metadata": {},
     "output_type": "execute_result"
    }
   ],
   "source": [
    "corpus2.meta"
   ]
  },
  {
   "cell_type": "code",
   "execution_count": 14,
   "metadata": {},
   "outputs": [
    {
     "data": {
      "text/plain": [
       "{'top_level_comment': \"<class 'str'>\",\n",
       " 'retrieved_on': \"<class 'int'>\",\n",
       " 'gilded': \"<class 'int'>\",\n",
       " 'gildings': \"<class 'dict'>\",\n",
       " 'subreddit': \"<class 'str'>\",\n",
       " 'stickied': \"<class 'bool'>\",\n",
       " 'permalink': \"<class 'str'>\",\n",
       " 'author_flair_text': \"<class 'str'>\"}"
      ]
     },
     "execution_count": 14,
     "metadata": {},
     "output_type": "execute_result"
    }
   ],
   "source": [
    "corpus2.meta_index.utterances_index"
   ]
  },
  {
   "cell_type": "code",
   "execution_count": 15,
   "metadata": {},
   "outputs": [
    {
     "data": {
      "text/plain": [
       "{'title': \"<class 'str'>\",\n",
       " 'num_comments': \"<class 'int'>\",\n",
       " 'domain': \"<class 'str'>\",\n",
       " 'timestamp': \"<class 'int'>\",\n",
       " 'gilded': \"<class 'int'>\",\n",
       " 'gildings': \"<class 'dict'>\",\n",
       " 'stickied': \"<class 'bool'>\",\n",
       " 'author_flair_text': \"<class 'str'>\"}"
      ]
     },
     "execution_count": 15,
     "metadata": {},
     "output_type": "execute_result"
    }
   ],
   "source": [
    "corpus2.meta_index.conversations_index"
   ]
  },
  {
   "cell_type": "code",
   "execution_count": 16,
   "metadata": {},
   "outputs": [
    {
     "data": {
      "text/plain": [
       "{'num_comments': \"<class 'int'>\"}"
      ]
     },
     "execution_count": 16,
     "metadata": {},
     "output_type": "execute_result"
    }
   ],
   "source": [
    "corpus2.meta_index.speakers_index"
   ]
  },
  {
   "cell_type": "code",
   "execution_count": 17,
   "metadata": {},
   "outputs": [
    {
     "data": {
      "text/plain": [
       "{'subreddit': \"<class 'str'>\",\n",
       " 'num_comments': \"<class 'int'>\",\n",
       " 'num_users': \"<class 'int'>\"}"
      ]
     },
     "execution_count": 17,
     "metadata": {},
     "output_type": "execute_result"
    }
   ],
   "source": [
    "corpus2.meta_index.overall_index"
   ]
  },
  {
   "cell_type": "code",
   "execution_count": null,
   "metadata": {},
   "outputs": [],
   "source": []
  }
 ],
 "metadata": {
  "kernelspec": {
   "display_name": "Python 3",
   "language": "python",
   "name": "python3"
  },
  "language_info": {
   "codemirror_mode": {
    "name": "ipython",
    "version": 3
   },
   "file_extension": ".py",
   "mimetype": "text/x-python",
   "name": "python",
   "nbconvert_exporter": "python",
   "pygments_lexer": "ipython3",
   "version": "3.7.6"
  }
 },
 "nbformat": 4,
 "nbformat_minor": 2
}
