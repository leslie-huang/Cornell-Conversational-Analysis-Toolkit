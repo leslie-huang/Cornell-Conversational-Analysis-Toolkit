{
 "cells": [
  {
   "cell_type": "code",
   "execution_count": 1,
   "metadata": {},
   "outputs": [],
   "source": [
    "import os\n",
    "os.chdir('../..')"
   ]
  },
  {
   "cell_type": "code",
   "execution_count": 2,
   "metadata": {},
   "outputs": [],
   "source": [
    "import convokit"
   ]
  },
  {
   "cell_type": "code",
   "execution_count": 3,
   "metadata": {},
   "outputs": [
    {
     "data": {
      "text/plain": [
       "<module 'convokit' from '/Users/calebchiam/Documents/GitHub/Cornell-Conversational-Analysis-Toolkit/convokit/__init__.py'>"
      ]
     },
     "execution_count": 3,
     "metadata": {},
     "output_type": "execute_result"
    }
   ],
   "source": [
    "convokit"
   ]
  },
  {
   "cell_type": "code",
   "execution_count": 4,
   "metadata": {},
   "outputs": [],
   "source": [
    "from convokit import Corpus, Utterance, Speaker, download"
   ]
  },
  {
   "cell_type": "code",
   "execution_count": 5,
   "metadata": {},
   "outputs": [
    {
     "name": "stdout",
     "output_type": "stream",
     "text": [
      "Dataset already exists at /Users/calebchiam/Documents/GitHub/Cornell-Conversational-Analysis-Toolkit/convokit/tensors/reddit-corpus-small\n"
     ]
    }
   ],
   "source": [
    "reddit_corpus = Corpus(filename=download('reddit-corpus-small'))"
   ]
  },
  {
   "cell_type": "code",
   "execution_count": 6,
   "metadata": {},
   "outputs": [
    {
     "name": "stdout",
     "output_type": "stream",
     "text": [
      "Number of Users: 119889\n",
      "Number of Utterances: 297132\n",
      "Number of Conversations: 8286\n"
     ]
    }
   ],
   "source": [
    "reddit_corpus.print_summary_stats()"
   ]
  },
  {
   "cell_type": "code",
   "execution_count": 7,
   "metadata": {},
   "outputs": [],
   "source": [
    "import timeit"
   ]
  },
  {
   "cell_type": "code",
   "execution_count": 8,
   "metadata": {},
   "outputs": [
    {
     "name": "stdout",
     "output_type": "stream",
     "text": [
      "Dataset already exists at /Users/calebchiam/Documents/GitHub/Cornell-Conversational-Analysis-Toolkit/convokit/tensors/reddit-corpus-small\n",
      "Dataset already exists at /Users/calebchiam/Documents/GitHub/Cornell-Conversational-Analysis-Toolkit/convokit/tensors/reddit-corpus-small\n",
      "The start time is : 38.506806846\n",
      "The time difference is : 19.589590421999993\n",
      "Number of Users: 119889\n",
      "Number of Utterances: 297132\n",
      "Number of Conversations: 8286\n"
     ]
    }
   ],
   "source": [
    "reddit_corpus1 = Corpus(filename=download('reddit-corpus-small'), utterance_end_index=150000)\n",
    "reddit_corpus2 = Corpus(filename=download('reddit-corpus-small'), utterance_start_index=150001)\n",
    "starttime = timeit.default_timer()\n",
    "print(\"The start time is :\",starttime)\n",
    "added_corpus_with_checks = reddit_corpus1.add_utterances(list(reddit_corpus2.iter_utterances()), with_checks=True)\n",
    "print(\"The time difference is :\", timeit.default_timer() - starttime)\n",
    "added_corpus_with_checks.print_summary_stats()"
   ]
  },
  {
   "cell_type": "code",
   "execution_count": 10,
   "metadata": {},
   "outputs": [
    {
     "name": "stdout",
     "output_type": "stream",
     "text": [
      "Dataset already exists at /Users/calebchiam/Documents/GitHub/Cornell-Conversational-Analysis-Toolkit/convokit/tensors/reddit-corpus-small\n",
      "Dataset already exists at /Users/calebchiam/Documents/GitHub/Cornell-Conversational-Analysis-Toolkit/convokit/tensors/reddit-corpus-small\n",
      "The start time is : 210.833814927\n",
      "The time difference is : 4.602039382000015\n",
      "Number of Users: 119889\n",
      "Number of Utterances: 297132\n",
      "Number of Conversations: 8286\n"
     ]
    }
   ],
   "source": [
    "reddit_corpus1 = Corpus(filename=download('reddit-corpus-small'), utterance_end_index=150000)\n",
    "reddit_corpus2 = Corpus(filename=download('reddit-corpus-small'), utterance_start_index=150001)\n",
    "starttime = timeit.default_timer()\n",
    "print(\"The start time is :\",starttime)\n",
    "added_corpus_wo_checks = reddit_corpus1.add_utterances(list(reddit_corpus2.iter_utterances()), with_checks=False)\n",
    "print(\"The time difference is :\", timeit.default_timer() - starttime)\n",
    "added_corpus_wo_checks.print_summary_stats()"
   ]
  },
  {
   "cell_type": "code",
   "execution_count": null,
   "metadata": {},
   "outputs": [],
   "source": []
  },
  {
   "cell_type": "code",
   "execution_count": null,
   "metadata": {},
   "outputs": [],
   "source": []
  },
  {
   "cell_type": "code",
   "execution_count": null,
   "metadata": {},
   "outputs": [],
   "source": []
  },
  {
   "cell_type": "code",
   "execution_count": 12,
   "metadata": {},
   "outputs": [
    {
     "data": {
      "text/plain": [
       "Conversation({'obj_type': 'conversation', '_owner': <convokit.model.corpus.Corpus object at 0x153a4be90>, 'meta': {'title': 'My (27M) girlfriend (25F) of three years wants to go to a concert without me.', 'num_comments': 23, 'domain': 'self.relationships', 'timestamp': 1535839947, 'subreddit': 'relationships', 'gilded': 0, 'gildings': {'gid_1': 0, 'gid_2': 0, 'gid_3': 0}, 'stickied': False, 'author_flair_text': ''}, '_id': '9c72st', '_utterance_ids': ['9c72st', 'e58j773', 'e58jv3q', 'e58jwlh', 'e58mifu', 'e58n8av', 'e58olmz', 'e58oz6e', 'e58p50h', 'e597h75', 'e59b96x', 'e59egur', 'e59trih', 'e5a3qws'], '_user_ids': None, 'tree': None})"
      ]
     },
     "execution_count": 12,
     "metadata": {},
     "output_type": "execute_result"
    }
   ],
   "source": [
    "added_corpus_with_checks.random_conversation()"
   ]
  },
  {
   "cell_type": "code",
   "execution_count": 13,
   "metadata": {},
   "outputs": [
    {
     "name": "stdout",
     "output_type": "stream",
     "text": [
      "[deleted]\n",
      "    funk-\n",
      "        bbyronUn\n",
      "            Paulie_Lazzaro\n",
      "                bbyronUn\n",
      "                funk-\n",
      "            funk-\n",
      "                bbyronUn\n",
      "            normalina\n",
      "                bbyronUn\n",
      "        [deleted]\n",
      "        Paulie_Lazzaro\n",
      "            YourFriendlySpidy\n",
      "            EvyEarthling\n"
     ]
    }
   ],
   "source": [
    "added_corpus_with_checks.get_conversation('9c72st').print_conversation_structure()"
   ]
  },
  {
   "cell_type": "code",
   "execution_count": 14,
   "metadata": {},
   "outputs": [
    {
     "name": "stdout",
     "output_type": "stream",
     "text": [
      "[deleted]\n",
      "    funk-\n",
      "        bbyronUn\n",
      "            Paulie_Lazzaro\n",
      "                bbyronUn\n",
      "                funk-\n",
      "            funk-\n",
      "                bbyronUn\n",
      "            normalina\n",
      "                bbyronUn\n",
      "        [deleted]\n",
      "        Paulie_Lazzaro\n",
      "            YourFriendlySpidy\n",
      "            EvyEarthling\n"
     ]
    }
   ],
   "source": [
    "added_corpus_wo_checks.get_conversation('9c72st').print_conversation_structure()"
   ]
  },
  {
   "cell_type": "code",
   "execution_count": 15,
   "metadata": {},
   "outputs": [
    {
     "data": {
      "text/plain": [
       "Utterance({'obj_type': 'utterance', '_owner': <convokit.model.corpus.Corpus object at 0x141cd6f50>, 'meta': {'score': 5, 'top_level_comment': 'e660qag', 'retrieved_on': 1539195310, 'gilded': 0, 'gildings': {'gid_1': 0, 'gid_2': 0, 'gid_3': 0}, 'subreddit': 'malefashionadvice', 'stickied': False, 'permalink': '/r/malefashionadvice/comments/9gpk76/psa_go_out_of_your_way_to_compliment_someone/e67icwf/', 'author_flair_text': ''}, '_id': 'e67icwf', 'user': Speaker({'obj_type': 'user', '_owner': <convokit.model.corpus.Corpus object at 0x141cd6f50>, 'meta': {'num_posts': 0, 'num_comments': 6}, '_id': 'SaxRohmer'}), 'root': '9gpk76', 'reply_to': 'e66wu3j', 'timestamp': 1537295409, 'text': 'He was digging your pheromones '})"
      ]
     },
     "execution_count": 15,
     "metadata": {},
     "output_type": "execute_result"
    }
   ],
   "source": [
    "reddit_corpus2.random_utterance()"
   ]
  },
  {
   "cell_type": "code",
   "execution_count": 17,
   "metadata": {},
   "outputs": [
    {
     "name": "stdout",
     "output_type": "stream",
     "text": [
      "BespokeDebtor\n",
      "    okinawa09\n",
      "        DS_Item_Inscription\n",
      "        andkeener\n",
      "            CazadorOscuro\n",
      "                Noblesseux\n",
      "        Pupsinmytub\n",
      "            okinawa09\n",
      "                Pupsinmytub\n",
      "                    okinawa09\n",
      "        RobbKyro\n",
      "        jetpacktuxedo\n",
      "            okinawa09\n",
      "            SaxRohmer\n",
      "            ladylima1\n",
      "            Rodrat\n",
      "            jtm_sea\n"
     ]
    }
   ],
   "source": [
    "added_corpus_with_checks.get_conversation('9gpk76').print_conversation_structure()"
   ]
  },
  {
   "cell_type": "code",
   "execution_count": 18,
   "metadata": {},
   "outputs": [
    {
     "name": "stdout",
     "output_type": "stream",
     "text": [
      "BespokeDebtor\n",
      "    okinawa09\n",
      "        DS_Item_Inscription\n",
      "        andkeener\n",
      "            CazadorOscuro\n",
      "                Noblesseux\n",
      "        Pupsinmytub\n",
      "            okinawa09\n",
      "                Pupsinmytub\n",
      "                    okinawa09\n",
      "        RobbKyro\n",
      "        jetpacktuxedo\n",
      "            okinawa09\n",
      "            SaxRohmer\n",
      "            ladylima1\n",
      "            Rodrat\n",
      "            jtm_sea\n"
     ]
    }
   ],
   "source": [
    "added_corpus_wo_checks.get_conversation('9gpk76').print_conversation_structure()"
   ]
  },
  {
   "cell_type": "code",
   "execution_count": 22,
   "metadata": {},
   "outputs": [
    {
     "name": "stdout",
     "output_type": "stream",
     "text": [
      "Utterance('id': 'e67icwf', 'root': 9gpk76, 'reply-to': e66wu3j, 'user': Speaker('id': SaxRohmer, 'meta': {'num_posts': 0, 'num_comments': 6}), 'timestamp': 1537295409, 'text': 'He was digging your pheromones ', 'meta': {'score': 5, 'top_level_comment': 'e660qag', 'retrieved_on': 1539195310, 'gilded': 0, 'gildings': {'gid_1': 0, 'gid_2': 0, 'gid_3': 0}, 'subreddit': 'malefashionadvice', 'stickied': False, 'permalink': '/r/malefashionadvice/comments/9gpk76/psa_go_out_of_your_way_to_compliment_someone/e67icwf/', 'author_flair_text': ''})\n",
      "\n",
      "Utterance('id': 'e5yfcoh', 'root': 9fncuu, 'reply-to': e5yb78w, 'user': Speaker('id': SaxRohmer, 'meta': {'num_posts': 0, 'num_comments': 6}), 'timestamp': 1536915427, 'text': 'This exercise is not really affected by height. Limb length also doesn’t really matter a ton either (like 10% of your lift). Being bigger means you have more room to add weight which means greater potential. A lot of high level powerlifters are pretty tall now. No one 7’ is top-flight off the top of my head but those disadvantages are extremely overstated.', 'meta': {'score': 0, 'top_level_comment': 'e5y1mqa', 'retrieved_on': 1539042173, 'gilded': 0, 'gildings': {'gid_1': 0, 'gid_2': 0, 'gid_3': 0}, 'subreddit': 'nba', 'stickied': False, 'permalink': '/r/nba/comments/9fncuu/past_giannis_and_present_giannis/e5yfcoh/', 'author_flair_text': 'Cavaliers'})\n",
      "\n",
      "Utterance('id': 'e5yfqbs', 'root': 9fncuu, 'reply-to': e5y6hlj, 'user': Speaker('id': SaxRohmer, 'meta': {'num_posts': 0, 'num_comments': 6}), 'timestamp': 1536916304, 'text': 'I don’t think he’s lifting a weight that’s even his body weight in these videos. You can load up hip thrusts with a shitload of weight once you get them down, so he’s not really doing much.', 'meta': {'score': -2, 'top_level_comment': 'e5y1mqa', 'retrieved_on': 1539042333, 'gilded': 0, 'gildings': {'gid_1': 0, 'gid_2': 0, 'gid_3': 0}, 'subreddit': 'nba', 'stickied': False, 'permalink': '/r/nba/comments/9fncuu/past_giannis_and_present_giannis/e5yfqbs/', 'author_flair_text': 'Cavaliers'})\n",
      "\n"
     ]
    }
   ],
   "source": [
    "for utt in added_corpus_wo_checks.get_utterance('e67icwf').user.iter_utterances():\n",
    "    print(utt)\n",
    "    print()"
   ]
  },
  {
   "cell_type": "code",
   "execution_count": null,
   "metadata": {},
   "outputs": [],
   "source": []
  }
 ],
 "metadata": {
  "kernelspec": {
   "display_name": "Python 3",
   "language": "python",
   "name": "python3"
  },
  "language_info": {
   "codemirror_mode": {
    "name": "ipython",
    "version": 3
   },
   "file_extension": ".py",
   "mimetype": "text/x-python",
   "name": "python",
   "nbconvert_exporter": "python",
   "pygments_lexer": "ipython3",
   "version": "3.7.6"
  }
 },
 "nbformat": 4,
 "nbformat_minor": 2
}
