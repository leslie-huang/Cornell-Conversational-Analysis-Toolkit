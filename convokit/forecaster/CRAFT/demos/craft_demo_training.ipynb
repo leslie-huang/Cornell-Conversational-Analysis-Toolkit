{
 "cells": [
  {
   "cell_type": "code",
   "execution_count": 1,
   "metadata": {},
   "outputs": [],
   "source": [
    "import convokit"
   ]
  },
  {
   "cell_type": "code",
   "execution_count": 2,
   "metadata": {},
   "outputs": [],
   "source": [
    "from convokit import Forecaster, Corpus, download"
   ]
  },
  {
   "cell_type": "code",
   "execution_count": 3,
   "metadata": {},
   "outputs": [],
   "source": [
    "MAX_LENGTH = 80"
   ]
  },
  {
   "cell_type": "code",
   "execution_count": 5,
   "metadata": {},
   "outputs": [],
   "source": [
    "from convokit.forecaster.CRAFTModel import CRAFTModel"
   ]
  },
  {
   "cell_type": "code",
   "execution_count": 6,
   "metadata": {},
   "outputs": [
    {
     "name": "stdout",
     "output_type": "stream",
     "text": [
      "Initializing CRAFT model with options:\n",
      "{'validation_size': 0.2, 'train_epochs': 5, 'hidden_size': 500, 'encoder_n_layers': 2, 'context_encoder_n_layers': 2, 'decoder_n_layers': 2, 'dropout': 0.1, 'batch_size': 64, 'clip': 50.0, 'learning_rate': 1e-05, 'print_every': 10, 'max_length': 80, 'trained_model_output_filepath': 'finetuned_model.tar'}\n",
      "Loading saved parameters...\n",
      "Building encoders, decoder, and classifier...\n",
      "Models built and ready to go!\n"
     ]
    }
   ],
   "source": [
    "craft_model = CRAFTModel(device_type=\"cpu\", options={'validation_size': 0.2,\n",
    "                                                              'train_epochs': 5\n",
    "                                                             })"
   ]
  },
  {
   "cell_type": "code",
   "execution_count": 7,
   "metadata": {},
   "outputs": [],
   "source": [
    "forecaster = Forecaster(forecaster_model = craft_model,\n",
    "                        forecast_mode = 'past',\n",
    "                        convo_structure=\"linear\",\n",
    "                        text_func = lambda utt: utt.meta[\"tokens\"][:(MAX_LENGTH-1)],\n",
    "                        label_func = lambda utt: int(utt.meta['comment_has_personal_attack']),\n",
    "                        forecast_attribute_name=\"prediction\", forecast_prob_attribute_name=\"pred_score\",\n",
    "                        use_last_only = True,\n",
    "                        skip_broken_convos=False\n",
    "                       )"
   ]
  },
  {
   "cell_type": "code",
   "execution_count": 8,
   "metadata": {},
   "outputs": [
    {
     "name": "stdout",
     "output_type": "stream",
     "text": [
      "Dataset already exists at /Users/calebchiam/.convokit/downloads/conversations-gone-awry-corpus\n"
     ]
    }
   ],
   "source": [
    "corpus = Corpus(filename=download(\"conversations-gone-awry-corpus\"))"
   ]
  },
  {
   "cell_type": "code",
   "execution_count": 10,
   "metadata": {},
   "outputs": [],
   "source": [
    "from convokit.forecaster.CRAFT import craft_tokenize"
   ]
  },
  {
   "cell_type": "code",
   "execution_count": 11,
   "metadata": {},
   "outputs": [],
   "source": [
    "for utt in corpus.iter_utterances():\n",
    "    utt.add_meta(\"tokens\", craft_tokenize(craft_model.voc, utt.text))"
   ]
  },
  {
   "cell_type": "code",
   "execution_count": 15,
   "metadata": {
    "scrolled": true
   },
   "outputs": [
    {
     "name": "stdout",
     "output_type": "stream",
     "text": [
      "Building optimizers...\n",
      "Starting Training!\n",
      "Will train for 155 iterations\n",
      "Initializing ...\n",
      "Training...\n",
      "Iteration: 10; Percent complete: 6.5%; Average loss: 0.3124\n",
      "Iteration: 20; Percent complete: 12.9%; Average loss: 0.2967\n",
      "Iteration: 30; Percent complete: 19.4%; Average loss: 0.3131\n",
      "Validating!\n",
      "Iteration: 1; Percent complete: 12.5%\n",
      "Iteration: 2; Percent complete: 25.0%\n",
      "Iteration: 3; Percent complete: 37.5%\n",
      "Iteration: 4; Percent complete: 50.0%\n",
      "Iteration: 5; Percent complete: 62.5%\n",
      "Iteration: 6; Percent complete: 75.0%\n",
      "Iteration: 7; Percent complete: 87.5%\n",
      "Iteration: 8; Percent complete: 100.0%\n",
      "Validation set accuracy: 86.65%\n",
      "Validation accuracy better than current best; saving model...\n",
      "Iteration: 40; Percent complete: 25.8%; Average loss: 0.2850\n",
      "Iteration: 50; Percent complete: 32.3%; Average loss: 0.2896\n",
      "Iteration: 60; Percent complete: 38.7%; Average loss: 0.3033\n",
      "Validating!\n",
      "Iteration: 1; Percent complete: 12.5%\n",
      "Iteration: 2; Percent complete: 25.0%\n",
      "Iteration: 3; Percent complete: 37.5%\n",
      "Iteration: 4; Percent complete: 50.0%\n",
      "Iteration: 5; Percent complete: 62.5%\n",
      "Iteration: 6; Percent complete: 75.0%\n",
      "Iteration: 7; Percent complete: 87.5%\n",
      "Iteration: 8; Percent complete: 100.0%\n",
      "Validation set accuracy: 87.05%\n",
      "Validation accuracy better than current best; saving model...\n",
      "Iteration: 70; Percent complete: 45.2%; Average loss: 0.2748\n",
      "Iteration: 80; Percent complete: 51.6%; Average loss: 0.2740\n",
      "Iteration: 90; Percent complete: 58.1%; Average loss: 0.2711\n",
      "Validating!\n",
      "Iteration: 1; Percent complete: 12.5%\n",
      "Iteration: 2; Percent complete: 25.0%\n",
      "Iteration: 3; Percent complete: 37.5%\n",
      "Iteration: 4; Percent complete: 50.0%\n",
      "Iteration: 5; Percent complete: 62.5%\n",
      "Iteration: 6; Percent complete: 75.0%\n",
      "Iteration: 7; Percent complete: 87.5%\n",
      "Iteration: 8; Percent complete: 100.0%\n",
      "Validation set accuracy: 86.65%\n",
      "Iteration: 100; Percent complete: 64.5%; Average loss: 0.2460\n",
      "Iteration: 110; Percent complete: 71.0%; Average loss: 0.2362\n",
      "Iteration: 120; Percent complete: 77.4%; Average loss: 0.2683\n",
      "Validating!\n",
      "Iteration: 1; Percent complete: 12.5%\n",
      "Iteration: 2; Percent complete: 25.0%\n",
      "Iteration: 3; Percent complete: 37.5%\n",
      "Iteration: 4; Percent complete: 50.0%\n",
      "Iteration: 5; Percent complete: 62.5%\n",
      "Iteration: 6; Percent complete: 75.0%\n",
      "Iteration: 7; Percent complete: 87.5%\n",
      "Iteration: 8; Percent complete: 100.0%\n",
      "Validation set accuracy: 87.85%\n",
      "Validation accuracy better than current best; saving model...\n",
      "Iteration: 130; Percent complete: 83.9%; Average loss: 0.2442\n",
      "Iteration: 140; Percent complete: 90.3%; Average loss: 0.2221\n",
      "Iteration: 150; Percent complete: 96.8%; Average loss: 0.2393\n",
      "Validating!\n",
      "Iteration: 1; Percent complete: 12.5%\n",
      "Iteration: 2; Percent complete: 25.0%\n",
      "Iteration: 3; Percent complete: 37.5%\n",
      "Iteration: 4; Percent complete: 50.0%\n",
      "Iteration: 5; Percent complete: 62.5%\n",
      "Iteration: 6; Percent complete: 75.0%\n",
      "Iteration: 7; Percent complete: 87.5%\n",
      "Iteration: 8; Percent complete: 100.0%\n",
      "Validation set accuracy: 86.85%\n"
     ]
    }
   ],
   "source": [
    "forecaster.fit(corpus, selector = lambda convo: convo.meta[\"split\"] == \"train\",\n",
    "               ignore_utterances = lambda utt: utt.meta[\"is_section_header\"])"
   ]
  },
  {
   "cell_type": "code",
   "execution_count": 16,
   "metadata": {},
   "outputs": [],
   "source": [
    "forecaster.forecast_mode = \"past\""
   ]
  },
  {
   "cell_type": "code",
   "execution_count": 17,
   "metadata": {},
   "outputs": [
    {
     "name": "stdout",
     "output_type": "stream",
     "text": [
      "Iteration: 1; Percent complete: 1.5%\n",
      "Iteration: 2; Percent complete: 3.0%\n",
      "Iteration: 3; Percent complete: 4.5%\n",
      "Iteration: 4; Percent complete: 6.1%\n",
      "Iteration: 5; Percent complete: 7.6%\n",
      "Iteration: 6; Percent complete: 9.1%\n",
      "Iteration: 7; Percent complete: 10.6%\n",
      "Iteration: 8; Percent complete: 12.1%\n",
      "Iteration: 9; Percent complete: 13.6%\n",
      "Iteration: 10; Percent complete: 15.2%\n",
      "Iteration: 11; Percent complete: 16.7%\n",
      "Iteration: 12; Percent complete: 18.2%\n",
      "Iteration: 13; Percent complete: 19.7%\n",
      "Iteration: 14; Percent complete: 21.2%\n",
      "Iteration: 15; Percent complete: 22.7%\n",
      "Iteration: 16; Percent complete: 24.2%\n",
      "Iteration: 17; Percent complete: 25.8%\n",
      "Iteration: 18; Percent complete: 27.3%\n",
      "Iteration: 19; Percent complete: 28.8%\n",
      "Iteration: 20; Percent complete: 30.3%\n",
      "Iteration: 21; Percent complete: 31.8%\n",
      "Iteration: 22; Percent complete: 33.3%\n",
      "Iteration: 23; Percent complete: 34.8%\n",
      "Iteration: 24; Percent complete: 36.4%\n",
      "Iteration: 25; Percent complete: 37.9%\n",
      "Iteration: 26; Percent complete: 39.4%\n",
      "Iteration: 27; Percent complete: 40.9%\n",
      "Iteration: 28; Percent complete: 42.4%\n",
      "Iteration: 29; Percent complete: 43.9%\n",
      "Iteration: 30; Percent complete: 45.5%\n",
      "Iteration: 31; Percent complete: 47.0%\n",
      "Iteration: 32; Percent complete: 48.5%\n",
      "Iteration: 33; Percent complete: 50.0%\n",
      "Iteration: 34; Percent complete: 51.5%\n",
      "Iteration: 35; Percent complete: 53.0%\n",
      "Iteration: 36; Percent complete: 54.5%\n",
      "Iteration: 37; Percent complete: 56.1%\n",
      "Iteration: 38; Percent complete: 57.6%\n",
      "Iteration: 39; Percent complete: 59.1%\n",
      "Iteration: 40; Percent complete: 60.6%\n",
      "Iteration: 41; Percent complete: 62.1%\n",
      "Iteration: 42; Percent complete: 63.6%\n",
      "Iteration: 43; Percent complete: 65.2%\n",
      "Iteration: 44; Percent complete: 66.7%\n",
      "Iteration: 45; Percent complete: 68.2%\n",
      "Iteration: 46; Percent complete: 69.7%\n",
      "Iteration: 47; Percent complete: 71.2%\n",
      "Iteration: 48; Percent complete: 72.7%\n",
      "Iteration: 49; Percent complete: 74.2%\n",
      "Iteration: 50; Percent complete: 75.8%\n",
      "Iteration: 51; Percent complete: 77.3%\n",
      "Iteration: 52; Percent complete: 78.8%\n",
      "Iteration: 53; Percent complete: 80.3%\n",
      "Iteration: 54; Percent complete: 81.8%\n",
      "Iteration: 55; Percent complete: 83.3%\n",
      "Iteration: 56; Percent complete: 84.8%\n",
      "Iteration: 57; Percent complete: 86.4%\n",
      "Iteration: 58; Percent complete: 87.9%\n",
      "Iteration: 59; Percent complete: 89.4%\n",
      "Iteration: 60; Percent complete: 90.9%\n",
      "Iteration: 61; Percent complete: 92.4%\n",
      "Iteration: 62; Percent complete: 93.9%\n",
      "Iteration: 63; Percent complete: 95.5%\n",
      "Iteration: 64; Percent complete: 97.0%\n",
      "Iteration: 65; Percent complete: 98.5%\n",
      "Iteration: 66; Percent complete: 100.0%\n"
     ]
    },
    {
     "data": {
      "text/plain": [
       "<convokit.model.corpus.Corpus at 0x12184e110>"
      ]
     },
     "execution_count": 17,
     "metadata": {},
     "output_type": "execute_result"
    }
   ],
   "source": [
    "forecaster.transform(corpus)"
   ]
  },
  {
   "cell_type": "code",
   "execution_count": null,
   "metadata": {},
   "outputs": [],
   "source": []
  }
 ],
 "metadata": {
  "kernelspec": {
   "display_name": "test_venv",
   "language": "python",
   "name": "test_venv"
  },
  "pycharm": {
   "stem_cell": {
    "cell_type": "raw",
    "metadata": {
     "collapsed": false
    },
    "source": []
   }
  }
 },
 "nbformat": 4,
 "nbformat_minor": 2
}
