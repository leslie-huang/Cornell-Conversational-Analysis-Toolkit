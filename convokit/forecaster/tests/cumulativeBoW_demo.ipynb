{
 "cells": [
  {
   "cell_type": "code",
   "execution_count": 1,
   "metadata": {},
   "outputs": [],
   "source": [
    "from convokit import Corpus, download"
   ]
  },
  {
   "cell_type": "code",
   "execution_count": 2,
   "metadata": {},
   "outputs": [
    {
     "name": "stdout",
     "output_type": "stream",
     "text": [
      "Dataset already exists at /Users/calebchiam/.convokit/downloads/subreddit-Cornell\n"
     ]
    }
   ],
   "source": [
    "corpus = Corpus(filename=download('subreddit-Cornell'))"
   ]
  },
  {
   "cell_type": "code",
   "execution_count": 3,
   "metadata": {},
   "outputs": [
    {
     "name": "stdout",
     "output_type": "stream",
     "text": [
      "Number of Users: 7568\n",
      "Number of Utterances: 74467\n",
      "Number of Conversations: 10744\n"
     ]
    }
   ],
   "source": [
    "corpus.print_summary_stats()"
   ]
  },
  {
   "cell_type": "markdown",
   "metadata": {},
   "source": [
    "## Some new Conversation functionality"
   ]
  },
  {
   "cell_type": "code",
   "execution_count": 4,
   "metadata": {},
   "outputs": [],
   "source": [
    "convo = corpus.get_conversation('o31u0')"
   ]
  },
  {
   "cell_type": "code",
   "execution_count": 5,
   "metadata": {},
   "outputs": [
    {
     "name": "stdout",
     "output_type": "stream",
     "text": [
      "cchambo\n",
      "    jklol\n",
      "    djnap\n",
      "    Brimwoodboy\n",
      "        jklol\n"
     ]
    }
   ],
   "source": [
    "convo.print_conversation_structure()"
   ]
  },
  {
   "cell_type": "code",
   "execution_count": 6,
   "metadata": {},
   "outputs": [
    {
     "name": "stdout",
     "output_type": "stream",
     "text": [
      "o31u0\n",
      "    c3dzmtu\n",
      "    c3e0ou0\n",
      "    c3f7l5b\n",
      "        c3feqc4\n"
     ]
    }
   ],
   "source": [
    "convo.print_conversation_structure(lambda utt: utt.id)"
   ]
  },
  {
   "cell_type": "code",
   "execution_count": 7,
   "metadata": {},
   "outputs": [
    {
     "data": {
      "text/plain": [
       "[Utterance({'obj_type': 'utterance', '_owner': <convokit.model.corpus.Corpus object at 0x130afd7d0>, 'meta': {'score': 27, 'top_level_comment': None, 'retrieved_on': -1, 'gilded': -1, 'gildings': None, 'subreddit': 'Cornell', 'stickied': False, 'permalink': '/r/Cornell/comments/o31u0/cornell_scientists_create_hole_in_time_where/', 'author_flair_text': 'SNES 2015'}, '_id': 'o31u0', 'user': Speaker({'obj_type': 'user', '_owner': <convokit.model.corpus.Corpus object at 0x130afd7d0>, 'meta': {'num_posts': 10, 'num_comments': 29}, '_id': 'cchambo', '_name': 'cchambo'}), 'root': 'o31u0', 'reply_to': None, 'timestamp': 1325714498, 'text': ''}),\n",
       " Utterance({'obj_type': 'utterance', '_owner': <convokit.model.corpus.Corpus object at 0x130afd7d0>, 'meta': {'score': 3, 'top_level_comment': 'c3dzmtu', 'retrieved_on': 1428124647, 'gilded': 0, 'gildings': None, 'subreddit': 'Cornell', 'stickied': False, 'permalink': '', 'author_flair_text': 'AEP 2011'}, '_id': 'c3dzmtu', 'user': Speaker({'obj_type': 'user', '_owner': <convokit.model.corpus.Corpus object at 0x130afd7d0>, 'meta': {'num_posts': 3, 'num_comments': 32}, '_id': 'jklol', '_name': 'jklol'}), 'root': 'o31u0', 'reply_to': 'o31u0', 'timestamp': 1325721216, 'text': 'wooo! aep!'}),\n",
       " Utterance({'obj_type': 'utterance', '_owner': <convokit.model.corpus.Corpus object at 0x130afd7d0>, 'meta': {'score': 2, 'top_level_comment': 'c3e0ou0', 'retrieved_on': 1428125150, 'gilded': 0, 'gildings': None, 'subreddit': 'Cornell', 'stickied': False, 'permalink': '', 'author_flair_text': 'Engineering 2015'}, '_id': 'c3e0ou0', 'user': Speaker({'obj_type': 'user', '_owner': <convokit.model.corpus.Corpus object at 0x130afd7d0>, 'meta': {'num_posts': 2, 'num_comments': 30}, '_id': 'djnap', '_name': 'djnap'}), 'root': 'o31u0', 'reply_to': 'o31u0', 'timestamp': 1325727478, 'text': \"it's always nice to see Cornell in the news\"}),\n",
       " Utterance({'obj_type': 'utterance', '_owner': <convokit.model.corpus.Corpus object at 0x130afd7d0>, 'meta': {'score': 1, 'top_level_comment': 'c3f7l5b', 'retrieved_on': 1428145709, 'gilded': 0, 'gildings': None, 'subreddit': 'Cornell', 'stickied': False, 'permalink': '', 'author_flair_text': ''}, '_id': 'c3f7l5b', 'user': Speaker({'obj_type': 'user', '_owner': <convokit.model.corpus.Corpus object at 0x130afd7d0>, 'meta': {'num_posts': 0, 'num_comments': 3}, '_id': 'Brimwoodboy', '_name': 'Brimwoodboy'}), 'root': 'o31u0', 'reply_to': 'o31u0', 'timestamp': 1326062425, 'text': \"Nice article. The professor whose research group discovered this is Alexander Gaeta. Great prof. I took AEP 1100: Lasers and Photonics with him this past semester. One of the best ENGRI courses, imo.\\n\\n[Here's](http://www.scribd.com/doc/77578600/Temporal-Cloaking) the powerpoint on temporal cloaking he presented to us in class. It's pretty fascinating stuff.\"}),\n",
       " Utterance({'obj_type': 'utterance', '_owner': <convokit.model.corpus.Corpus object at 0x130afd7d0>, 'meta': {'score': 1, 'top_level_comment': 'c3f7l5b', 'retrieved_on': 1428149155, 'gilded': 0, 'gildings': None, 'subreddit': 'Cornell', 'stickied': False, 'permalink': '', 'author_flair_text': 'AEP 2011'}, '_id': 'c3feqc4', 'user': Speaker({'obj_type': 'user', '_owner': <convokit.model.corpus.Corpus object at 0x130afd7d0>, 'meta': {'num_posts': 3, 'num_comments': 32}, '_id': 'jklol', '_name': 'jklol'}), 'root': 'o31u0', 'reply_to': 'c3f7l5b', 'timestamp': 1326120237, 'text': \"you should take quantum and nonlinear optics with frank wise or gaeta once you get all the necessary prereqs out of the way. it'll teach you pretty rigorously about all the mechanisms at play in the temporal cloaking experiment.  \"})]"
      ]
     },
     "execution_count": 7,
     "metadata": {},
     "output_type": "execute_result"
    }
   ],
   "source": [
    "convo.get_chronological_utterance_list()"
   ]
  },
  {
   "cell_type": "code",
   "execution_count": 8,
   "metadata": {},
   "outputs": [
    {
     "data": {
      "text/plain": [
       "['cchambo', 'jklol', 'djnap', 'Brimwoodboy', 'jklol']"
      ]
     },
     "execution_count": 8,
     "metadata": {},
     "output_type": "execute_result"
    }
   ],
   "source": [
    "[utt.user.id for utt in convo.get_chronological_utterance_list()]"
   ]
  },
  {
   "cell_type": "code",
   "execution_count": 9,
   "metadata": {},
   "outputs": [
    {
     "data": {
      "text/plain": [
       "[[Utterance({'obj_type': 'utterance', '_owner': <convokit.model.corpus.Corpus object at 0x130afd7d0>, 'meta': {'score': 27, 'top_level_comment': None, 'retrieved_on': -1, 'gilded': -1, 'gildings': None, 'subreddit': 'Cornell', 'stickied': False, 'permalink': '/r/Cornell/comments/o31u0/cornell_scientists_create_hole_in_time_where/', 'author_flair_text': 'SNES 2015'}, '_id': 'o31u0', 'user': Speaker({'obj_type': 'user', '_owner': <convokit.model.corpus.Corpus object at 0x130afd7d0>, 'meta': {'num_posts': 10, 'num_comments': 29}, '_id': 'cchambo', '_name': 'cchambo'}), 'root': 'o31u0', 'reply_to': None, 'timestamp': 1325714498, 'text': ''}),\n",
       "  Utterance({'obj_type': 'utterance', '_owner': <convokit.model.corpus.Corpus object at 0x130afd7d0>, 'meta': {'score': 3, 'top_level_comment': 'c3dzmtu', 'retrieved_on': 1428124647, 'gilded': 0, 'gildings': None, 'subreddit': 'Cornell', 'stickied': False, 'permalink': '', 'author_flair_text': 'AEP 2011'}, '_id': 'c3dzmtu', 'user': Speaker({'obj_type': 'user', '_owner': <convokit.model.corpus.Corpus object at 0x130afd7d0>, 'meta': {'num_posts': 3, 'num_comments': 32}, '_id': 'jklol', '_name': 'jklol'}), 'root': 'o31u0', 'reply_to': 'o31u0', 'timestamp': 1325721216, 'text': 'wooo! aep!'})],\n",
       " [Utterance({'obj_type': 'utterance', '_owner': <convokit.model.corpus.Corpus object at 0x130afd7d0>, 'meta': {'score': 27, 'top_level_comment': None, 'retrieved_on': -1, 'gilded': -1, 'gildings': None, 'subreddit': 'Cornell', 'stickied': False, 'permalink': '/r/Cornell/comments/o31u0/cornell_scientists_create_hole_in_time_where/', 'author_flair_text': 'SNES 2015'}, '_id': 'o31u0', 'user': Speaker({'obj_type': 'user', '_owner': <convokit.model.corpus.Corpus object at 0x130afd7d0>, 'meta': {'num_posts': 10, 'num_comments': 29}, '_id': 'cchambo', '_name': 'cchambo'}), 'root': 'o31u0', 'reply_to': None, 'timestamp': 1325714498, 'text': ''}),\n",
       "  Utterance({'obj_type': 'utterance', '_owner': <convokit.model.corpus.Corpus object at 0x130afd7d0>, 'meta': {'score': 2, 'top_level_comment': 'c3e0ou0', 'retrieved_on': 1428125150, 'gilded': 0, 'gildings': None, 'subreddit': 'Cornell', 'stickied': False, 'permalink': '', 'author_flair_text': 'Engineering 2015'}, '_id': 'c3e0ou0', 'user': Speaker({'obj_type': 'user', '_owner': <convokit.model.corpus.Corpus object at 0x130afd7d0>, 'meta': {'num_posts': 2, 'num_comments': 30}, '_id': 'djnap', '_name': 'djnap'}), 'root': 'o31u0', 'reply_to': 'o31u0', 'timestamp': 1325727478, 'text': \"it's always nice to see Cornell in the news\"})],\n",
       " [Utterance({'obj_type': 'utterance', '_owner': <convokit.model.corpus.Corpus object at 0x130afd7d0>, 'meta': {'score': 27, 'top_level_comment': None, 'retrieved_on': -1, 'gilded': -1, 'gildings': None, 'subreddit': 'Cornell', 'stickied': False, 'permalink': '/r/Cornell/comments/o31u0/cornell_scientists_create_hole_in_time_where/', 'author_flair_text': 'SNES 2015'}, '_id': 'o31u0', 'user': Speaker({'obj_type': 'user', '_owner': <convokit.model.corpus.Corpus object at 0x130afd7d0>, 'meta': {'num_posts': 10, 'num_comments': 29}, '_id': 'cchambo', '_name': 'cchambo'}), 'root': 'o31u0', 'reply_to': None, 'timestamp': 1325714498, 'text': ''}),\n",
       "  Utterance({'obj_type': 'utterance', '_owner': <convokit.model.corpus.Corpus object at 0x130afd7d0>, 'meta': {'score': 1, 'top_level_comment': 'c3f7l5b', 'retrieved_on': 1428145709, 'gilded': 0, 'gildings': None, 'subreddit': 'Cornell', 'stickied': False, 'permalink': '', 'author_flair_text': ''}, '_id': 'c3f7l5b', 'user': Speaker({'obj_type': 'user', '_owner': <convokit.model.corpus.Corpus object at 0x130afd7d0>, 'meta': {'num_posts': 0, 'num_comments': 3}, '_id': 'Brimwoodboy', '_name': 'Brimwoodboy'}), 'root': 'o31u0', 'reply_to': 'o31u0', 'timestamp': 1326062425, 'text': \"Nice article. The professor whose research group discovered this is Alexander Gaeta. Great prof. I took AEP 1100: Lasers and Photonics with him this past semester. One of the best ENGRI courses, imo.\\n\\n[Here's](http://www.scribd.com/doc/77578600/Temporal-Cloaking) the powerpoint on temporal cloaking he presented to us in class. It's pretty fascinating stuff.\"}),\n",
       "  Utterance({'obj_type': 'utterance', '_owner': <convokit.model.corpus.Corpus object at 0x130afd7d0>, 'meta': {'score': 1, 'top_level_comment': 'c3f7l5b', 'retrieved_on': 1428149155, 'gilded': 0, 'gildings': None, 'subreddit': 'Cornell', 'stickied': False, 'permalink': '', 'author_flair_text': 'AEP 2011'}, '_id': 'c3feqc4', 'user': Speaker({'obj_type': 'user', '_owner': <convokit.model.corpus.Corpus object at 0x130afd7d0>, 'meta': {'num_posts': 3, 'num_comments': 32}, '_id': 'jklol', '_name': 'jklol'}), 'root': 'o31u0', 'reply_to': 'c3f7l5b', 'timestamp': 1326120237, 'text': \"you should take quantum and nonlinear optics with frank wise or gaeta once you get all the necessary prereqs out of the way. it'll teach you pretty rigorously about all the mechanisms at play in the temporal cloaking experiment.  \"})]]"
      ]
     },
     "execution_count": 9,
     "metadata": {},
     "output_type": "execute_result"
    }
   ],
   "source": [
    "convo.get_root_to_leaf_paths()"
   ]
  },
  {
   "cell_type": "code",
   "execution_count": 10,
   "metadata": {},
   "outputs": [
    {
     "name": "stdout",
     "output_type": "stream",
     "text": [
      "['cchambo', 'jklol']\n",
      "['cchambo', 'djnap']\n",
      "['cchambo', 'Brimwoodboy', 'jklol']\n"
     ]
    }
   ],
   "source": [
    "for path in convo.get_root_to_leaf_paths():\n",
    "    print([utt.user.id for utt in path])"
   ]
  },
  {
   "cell_type": "markdown",
   "metadata": {},
   "source": [
    "## Cumulative BoW"
   ]
  },
  {
   "cell_type": "code",
   "execution_count": 11,
   "metadata": {},
   "outputs": [],
   "source": [
    "from convokit import Forecaster"
   ]
  },
  {
   "cell_type": "markdown",
   "metadata": {},
   "source": [
    "Let's set up a forecasting task to predict for whether a Reddit comment will have a positive score, i.e. upvotes > downvotes."
   ]
  },
  {
   "cell_type": "code",
   "execution_count": 12,
   "metadata": {},
   "outputs": [],
   "source": [
    "# Adding a 'y' feature to fit to\n",
    "for utt in corpus.iter_utterances():\n",
    "    utt.add_meta('pos_score', int(utt.meta['score'] > 0))"
   ]
  },
  {
   "cell_type": "code",
   "execution_count": 14,
   "metadata": {},
   "outputs": [
    {
     "name": "stdout",
     "output_type": "stream",
     "text": [
      "No model passed to Forecaster. Initializing default forecaster model: Cumulative Bag-of-words...\n",
      "Initializing default unigram CountVectorizer...\n",
      "Initializing default classification model (standard scaled logistic regression)\n"
     ]
    }
   ],
   "source": [
    "forecaster = Forecaster(label_func=lambda utt: utt.meta['pos_score'], skip_broken_convos=True)"
   ]
  },
  {
   "cell_type": "code",
   "execution_count": 15,
   "metadata": {},
   "outputs": [
    {
     "name": "stdout",
     "output_type": "stream",
     "text": [
      "Fitting cumulative BoW classification model...\n",
      "Done.\n"
     ]
    },
    {
     "name": "stderr",
     "output_type": "stream",
     "text": [
      "/Library/Frameworks/Python.framework/Versions/3.7/lib/python3.7/site-packages/sklearn/svm/base.py:929: ConvergenceWarning: Liblinear failed to converge, increase the number of iterations.\n",
      "  \"the number of iterations.\", ConvergenceWarning)\n"
     ]
    }
   ],
   "source": [
    "forecaster.fit(corpus)"
   ]
  },
  {
   "cell_type": "code",
   "execution_count": null,
   "metadata": {},
   "outputs": [],
   "source": [
    "forecaster.transform(corpus)"
   ]
  },
  {
   "cell_type": "code",
   "execution_count": null,
   "metadata": {},
   "outputs": [],
   "source": [
    "forecast_df = forecaster.summarize(corpus)"
   ]
  },
  {
   "cell_type": "code",
   "execution_count": null,
   "metadata": {},
   "outputs": [],
   "source": [
    "forecast_df.shape"
   ]
  },
  {
   "cell_type": "code",
   "execution_count": null,
   "metadata": {},
   "outputs": [],
   "source": [
    "forecast_df.head()"
   ]
  },
  {
   "cell_type": "code",
   "execution_count": null,
   "metadata": {},
   "outputs": [],
   "source": [
    "forecast_df.tail(10)"
   ]
  },
  {
   "cell_type": "markdown",
   "metadata": {},
   "source": [
    "Let's examine a Conversation that has an utterance forecasted to have negative score."
   ]
  },
  {
   "cell_type": "code",
   "execution_count": null,
   "metadata": {},
   "outputs": [],
   "source": [
    "corpus.get_utterance('dpn8e4v')"
   ]
  },
  {
   "cell_type": "code",
   "execution_count": null,
   "metadata": {},
   "outputs": [],
   "source": [
    "corpus.get_utterance('dpn8e4v').root"
   ]
  },
  {
   "cell_type": "code",
   "execution_count": null,
   "metadata": {},
   "outputs": [],
   "source": [
    "corpus.get_conversation(corpus.get_utterance('dpn8e4v').root).print_conversation_structure()"
   ]
  },
  {
   "cell_type": "markdown",
   "metadata": {},
   "source": [
    "### Forecasted"
   ]
  },
  {
   "cell_type": "code",
   "execution_count": null,
   "metadata": {},
   "outputs": [],
   "source": [
    "corpus.get_conversation(corpus.get_utterance('dpn8e4v').root).print_conversation_structure(lambda utt: str(utt.meta['forecast']))"
   ]
  },
  {
   "cell_type": "markdown",
   "metadata": {},
   "source": [
    "### Actual"
   ]
  },
  {
   "cell_type": "code",
   "execution_count": null,
   "metadata": {},
   "outputs": [],
   "source": [
    "corpus.get_conversation(corpus.get_utterance('dpn8e4v').root).print_conversation_structure(lambda utt: str(utt.meta['pos_score']))"
   ]
  },
  {
   "cell_type": "code",
   "execution_count": null,
   "metadata": {},
   "outputs": [],
   "source": [
    "forecasts = [utt.meta['forecast'] for utt in corpus.iter_utterances()]\n",
    "actual = [utt.meta['pos_score'] for utt in corpus.iter_utterances()]"
   ]
  },
  {
   "cell_type": "code",
   "execution_count": null,
   "metadata": {},
   "outputs": [],
   "source": [
    "y_true_pred = [(forecast, actual) for forecast, actual in zip(forecasts, actual) if forecast is not None]"
   ]
  },
  {
   "cell_type": "code",
   "execution_count": null,
   "metadata": {},
   "outputs": [],
   "source": [
    "import numpy as np\n",
    "from collections import Counter"
   ]
  },
  {
   "cell_type": "code",
   "execution_count": null,
   "metadata": {},
   "outputs": [],
   "source": [
    "y_pred = np.array([x[0] for x in y_true_pred])"
   ]
  },
  {
   "cell_type": "code",
   "execution_count": null,
   "metadata": {},
   "outputs": [],
   "source": [
    "y_true = np.array([x[1] for x in y_true_pred])"
   ]
  },
  {
   "cell_type": "code",
   "execution_count": null,
   "metadata": {},
   "outputs": [],
   "source": [
    "# baseline accuracy: assume all positive\n",
    "np.mean(y_true)"
   ]
  },
  {
   "cell_type": "code",
   "execution_count": null,
   "metadata": {},
   "outputs": [],
   "source": [
    "# achieved accuracy\n",
    "np.mean(y_true == y_pred)"
   ]
  },
  {
   "cell_type": "code",
   "execution_count": null,
   "metadata": {},
   "outputs": [],
   "source": [
    "from sklearn.metrics import confusion_matrix"
   ]
  },
  {
   "cell_type": "code",
   "execution_count": null,
   "metadata": {},
   "outputs": [],
   "source": [
    "confusion_matrix(y_true=y_true, y_pred=y_pred)"
   ]
  },
  {
   "cell_type": "code",
   "execution_count": null,
   "metadata": {},
   "outputs": [],
   "source": []
  }
 ],
 "metadata": {
  "kernelspec": {
   "display_name": "Python 3",
   "language": "python",
   "name": "python3"
  },
  "language_info": {
   "codemirror_mode": {
    "name": "ipython",
    "version": 3
   },
   "file_extension": ".py",
   "mimetype": "text/x-python",
   "name": "python",
   "nbconvert_exporter": "python",
   "pygments_lexer": "ipython3",
   "version": "3.7.6"
  },
  "pycharm": {
   "stem_cell": {
    "cell_type": "raw",
    "metadata": {
     "collapsed": false
    },
    "source": []
   }
  }
 },
 "nbformat": 4,
 "nbformat_minor": 2
}
