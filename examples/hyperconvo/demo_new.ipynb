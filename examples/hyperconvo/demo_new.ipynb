{
 "cells": [
  {
   "cell_type": "markdown",
   "metadata": {},
   "source": [
    "This notebook provides examples of how to call the hyperconvo functions from Convokit and perform analyses similar to the ones presented in the corresponding paper (http://www.cs.cornell.edu/~cristian/Patterns_of_participant_interactions.html), which describes the hypergraph methodology for modeling and analyzing online public discussions.\n",
    "\n",
    "Note that due to limitations in what data we can access and distribute, the beta version of the hypergraph methodology presented here currently supports less functionality:\n",
    "\n",
    "* Instead of Facebook data, we release a dataset of discussions from Reddit (the 1000 most recent threads, with at least 10 comments, from 100 highly active subreddits -- more details in the corresponding readme here: https://github.com/CornellNLP/Cornell-Conversational-Analysis-Toolkit/tree/master/datasets/reddit-corpus). For demonstration purposes, we here use a small subset of this dataset (\"reddit-corpus-small\") containing 100 threads per subreddit.\n",
    "* Since Reddit does not provide information on who reacted to (i.e., upvoted) each comment, we are presently unable to support reaction-edges in the hypergraph. As such, we can only compute features over in/outdegree distributions of _reply_-edges, and the feature set derived from motifs in the hypergraph is limited to counts and binary indicators or whether or not a motif is present. We will work  towards supporting reactions as well."
   ]
  },
  {
   "cell_type": "code",
   "execution_count": 2,
   "metadata": {},
   "outputs": [],
   "source": [
    "import convokit"
   ]
  },
  {
   "cell_type": "code",
   "execution_count": 3,
   "metadata": {},
   "outputs": [],
   "source": [
    "%matplotlib inline\n",
    "import matplotlib.pyplot as plt\n",
    "import numpy as np\n",
    "import pandas as pd\n",
    "# import warnings\n",
    "# warnings.filterwarnings('ignore')"
   ]
  },
  {
   "cell_type": "markdown",
   "metadata": {},
   "source": [
    "First we download the reddit corpus:"
   ]
  },
  {
   "cell_type": "code",
   "execution_count": 6,
   "metadata": {},
   "outputs": [
    {
     "name": "stdout",
     "output_type": "stream",
     "text": [
      "Dataset already exists at /Users/calebchiam/Documents/GitHub/Cornell-Conversational-Analysis-Toolkit/convokit/tensors/reddit-corpus-small\n"
     ]
    }
   ],
   "source": [
    "corpus = convokit.Corpus(filename=convokit.download(\"reddit-corpus-small\"))"
   ]
  },
  {
   "cell_type": "code",
   "execution_count": 7,
   "metadata": {},
   "outputs": [
    {
     "data": {
      "text/plain": [
       "{'subreddit': 'reddit-corpus-small',\n",
       " 'num_posts': 8286,\n",
       " 'num_comments': 288846,\n",
       " 'num_user': 119889}"
      ]
     },
     "execution_count": 7,
     "metadata": {},
     "output_type": "execute_result"
    }
   ],
   "source": [
    "corpus.meta"
   ]
  },
  {
   "cell_type": "code",
   "execution_count": 8,
   "metadata": {},
   "outputs": [
    {
     "name": "stdout",
     "output_type": "stream",
     "text": [
      "Number of Users: 119889\n",
      "Number of Utterances: 297132\n",
      "Number of Conversations: 8286\n"
     ]
    }
   ],
   "source": [
    "corpus.print_summary_stats()"
   ]
  },
  {
   "cell_type": "code",
   "execution_count": 9,
   "metadata": {},
   "outputs": [],
   "source": [
    "top_level_utterance_ids = [utt.id for utt in corpus.iter_utterances() if utt.id == utt.meta['top_level_comment']]"
   ]
  },
  {
   "cell_type": "code",
   "execution_count": 10,
   "metadata": {},
   "outputs": [
    {
     "data": {
      "text/plain": [
       "10000"
      ]
     },
     "execution_count": 10,
     "metadata": {},
     "output_type": "execute_result"
    }
   ],
   "source": [
    "len(top_level_utterance_ids)"
   ]
  },
  {
   "cell_type": "code",
   "execution_count": 11,
   "metadata": {},
   "outputs": [
    {
     "data": {
      "text/plain": [
       "{'subreddit': 'reddit-corpus-small',\n",
       " 'num_posts': 8286,\n",
       " 'num_comments': 288846,\n",
       " 'num_user': 119889}"
      ]
     },
     "execution_count": 11,
     "metadata": {},
     "output_type": "execute_result"
    }
   ],
   "source": [
    "corpus.meta"
   ]
  },
  {
   "cell_type": "code",
   "execution_count": 10,
   "metadata": {},
   "outputs": [
    {
     "data": {
      "text/plain": [
       "{'title': '/r/singapore random discussion and small questions thread for September 02, 2018',\n",
       " 'num_comments': 745,\n",
       " 'domain': 'self.singapore',\n",
       " 'timestamp': 1535839576,\n",
       " 'subreddit': 'singapore',\n",
       " 'gilded': 0,\n",
       " 'gildings': {'gid_1': 0, 'gid_2': 0, 'gid_3': 0},\n",
       " 'stickied': False,\n",
       " 'author_flair_text': ''}"
      ]
     },
     "execution_count": 10,
     "metadata": {},
     "output_type": "execute_result"
    }
   ],
   "source": [
    "next(corpus.iter_conversations()).meta"
   ]
  },
  {
   "cell_type": "code",
   "execution_count": 12,
   "metadata": {},
   "outputs": [],
   "source": [
    "threads_corpus = corpus.reindex_conversations(new_convo_roots=top_level_utterance_ids, \n",
    "                                              preserve_convo_meta=True,\n",
    "                                              preserve_corpus_meta=False)"
   ]
  },
  {
   "cell_type": "markdown",
   "metadata": {},
   "source": [
    "We will compute features over only the first 10 comments that occur in a thread, for  threads which are at least 10 comments long (controling for thread length in this way). Notice that we set include_root to False as we are interested in comment threads, i.e. threads that begin from a top-level comment, not from the post itself."
   ]
  },
  {
   "cell_type": "code",
   "execution_count": 13,
   "metadata": {},
   "outputs": [
    {
     "data": {
      "text/plain": [
       "Utterance({'obj_type': 'utterance', '_owner': <convokit.model.corpus.Corpus object at 0x124178c50>, 'meta': {'score': 4091, 'top_level_comment': None, 'retrieved_on': 1540057333, 'gilded': 0, 'gildings': {'gid_1': 0, 'gid_2': 0, 'gid_3': 0}, 'subreddit': 'tifu', 'stickied': False, 'permalink': '/r/tifu/comments/9bzh9g/tifu_by_masturbating_with_my_dads_penis/', 'author_flair_text': ''}, '_id': '9bzh9g', 'user': User({'obj_type': 'user', '_owner': <convokit.model.corpus.Corpus object at 0x124178c50>, 'meta': {'num_posts': 1, 'num_comments': 0}, '_id': 'gerbalt', '_name': 'gerbalt'}), 'root': '9bzh9g', 'reply_to': None, 'timestamp': 1535767318, 'text': '[removed]'})"
      ]
     },
     "execution_count": 13,
     "metadata": {},
     "output_type": "execute_result"
    }
   ],
   "source": [
    "corpus.get_utterance('9bzh9g')"
   ]
  },
  {
   "cell_type": "code",
   "execution_count": 14,
   "metadata": {},
   "outputs": [
    {
     "name": "stdout",
     "output_type": "stream",
     "text": [
      "Number of Users: 119889\n",
      "Number of Utterances: 297132\n",
      "Number of Conversations: 8286\n"
     ]
    }
   ],
   "source": [
    "corpus.print_summary_stats()"
   ]
  },
  {
   "cell_type": "code",
   "execution_count": 15,
   "metadata": {},
   "outputs": [
    {
     "name": "stdout",
     "output_type": "stream",
     "text": [
      "Number of Users: 116643\n",
      "Number of Utterances: 288846\n",
      "Number of Conversations: 10000\n"
     ]
    }
   ],
   "source": [
    "threads_corpus.print_summary_stats()"
   ]
  },
  {
   "cell_type": "markdown",
   "metadata": {},
   "source": [
    "The following are threads that come from the /r/canada subreddit. "
   ]
  },
  {
   "cell_type": "markdown",
   "metadata": {},
   "source": [
    "We print the structure of the thread: the reply-structure (where subsequent replies in the comment tree are indented), and the authors of each comment. There are some high-level qualitative differences that you might immediately see; our goal is to automatically extract a superset of these intuitive distinctions. For instance, some threads have a very linear structure, while others are flatter; to capture this difference, we might compute statistics on the distribution of in-degrees of nodes in the reply tree. We also intuit that some conversations involve a few people replying repeatedly to each other, whereas others may involve users stopping by to chime in once and then leaving; we'll later codify this difference via statistics on the indegrees and outdegrees of hypernodes (users)."
   ]
  },
  {
   "cell_type": "code",
   "execution_count": 16,
   "metadata": {},
   "outputs": [],
   "source": [
    "demo_threads = ['e57u6ft', 'e56rtrx']"
   ]
  },
  {
   "cell_type": "code",
   "execution_count": 17,
   "metadata": {},
   "outputs": [
    {
     "name": "stdout",
     "output_type": "stream",
     "text": [
      "45ReasonsWhy\n",
      "    WhatTheFisthatshit\n",
      "        [deleted]\n",
      "            WhatTheFisthatshit\n",
      "                45ReasonsWhy\n",
      "                    WhatTheFisthatshit\n",
      "                        45ReasonsWhy\n",
      "            JamesColesPardon\n",
      "                45ReasonsWhy\n",
      "                    JamesColesPardon\n",
      "        armorkingII\n",
      "    eleven4for20\n",
      "        45ReasonsWhy\n",
      "            ganooosh\n",
      "                45ReasonsWhy\n",
      "                    ganooosh\n",
      "            eleven4for20\n",
      "    CaptainObivous\n",
      "        45ReasonsWhy\n",
      "            eleven4for20\n",
      "                45ReasonsWhy\n",
      "                    eleven4for20\n",
      "                        45ReasonsWhy\n",
      "                            eleven4for20\n",
      "                                45ReasonsWhy\n",
      "                                    eleven4for20\n",
      "                                        45ReasonsWhy\n",
      "                                            eleven4for20\n",
      "                                                45ReasonsWhy\n",
      "                                                    eleven4for20\n",
      "                                            William_Harzia\n",
      "                                                45ReasonsWhy\n",
      "                                                    William_Harzia\n",
      "                                                        [deleted]\n",
      "                                                            [deleted]\n",
      "                                                                JamesColesPardon\n",
      "                                                            JamesColesPardon\n",
      "                                        William_Harzia\n",
      "                            William_Harzia\n",
      "                                45ReasonsWhy\n",
      "                                    [deleted]\n",
      "                                        JamesColesPardon\n",
      "                William_Harzia\n",
      "                    45ReasonsWhy\n",
      "                        William_Harzia\n"
     ]
    }
   ],
   "source": [
    "threads_corpus.get_conversation('e57u6ft').print_conversation_structure()"
   ]
  },
  {
   "cell_type": "code",
   "execution_count": 18,
   "metadata": {},
   "outputs": [
    {
     "name": "stdout",
     "output_type": "stream",
     "text": [
      "Calculated_Lamp\n",
      "    VincentRivera\n",
      "        Calculated_Lamp\n",
      "            VincentRivera\n",
      "            VincentRivera\n",
      "                Calculated_Lamp\n",
      "                    VincentRivera\n",
      "                        Calculated_Lamp\n",
      "                            VincentRivera\n",
      "                                Calculated_Lamp\n",
      "                                    VincentRivera\n",
      "                                    VincentRivera\n",
      "                                        Calculated_Lamp\n",
      "                                            VincentRivera\n"
     ]
    }
   ],
   "source": [
    "threads_corpus.get_conversation('e56rtrx').print_conversation_structure()"
   ]
  },
  {
   "cell_type": "code",
   "execution_count": 19,
   "metadata": {},
   "outputs": [
    {
     "name": "stdout",
     "output_type": "stream",
     "text": [
      "I'm not sure what that code is, but I can get you everything other than the weavile!\n",
      "    Awesome I just added you on DS\n",
      "        Let me find everything and breed you a mon real fast.\n",
      "            Alright sounds good\n",
      "            Do you have the item razor claw?\n",
      "                You can find one... Somewhere.. Idr where. But the weavile i have is for the livingdex.\n",
      "                    Can I just see the weavile? I’ll trade it back \n",
      "                        Oh, that'll work.\n",
      "                            Alright cool, let me know when I should head to plaza \n",
      "                                Your order is ready for pick up! We will trade back the weavile first and then you can keep everything else.\n",
      "                                    Alright sounds good heading to plaza now\n",
      "                                    Thanks a lot man! I really appreciate it. Do you want the Kg code?\n",
      "                                        Sure!\n",
      "                                            PMing code now, thanks again \n"
     ]
    }
   ],
   "source": [
    "threads_corpus.get_conversation('e56rtrx').print_conversation_structure(lambda utt: utt.text)"
   ]
  },
  {
   "cell_type": "markdown",
   "metadata": {},
   "source": [
    "One technical note: Since we don't have access to the author of deleted comments, we make the assumption for now that each deleted comment in a particular thread was written by the same author -- a potential source of noise in the subsequent analyses."
   ]
  },
  {
   "cell_type": "markdown",
   "metadata": {},
   "source": [
    "Typically, to extract hypergraph features, we would simply:"
   ]
  },
  {
   "cell_type": "code",
   "execution_count": null,
   "metadata": {},
   "outputs": [],
   "source": []
  },
  {
   "cell_type": "code",
   "execution_count": 20,
   "metadata": {},
   "outputs": [
    {
     "data": {
      "text/plain": [
       "<convokit.model.corpus.Corpus at 0x14973f050>"
      ]
     },
     "execution_count": 20,
     "metadata": {},
     "output_type": "execute_result"
    }
   ],
   "source": [
    "# create a hyperconvo object and use it to extract features\n",
    "hc = convokit.HyperConvo(prefix_len=10, min_thread_len=10)\n",
    "hc.fit_transform(threads_corpus)"
   ]
  },
  {
   "cell_type": "code",
   "execution_count": 21,
   "metadata": {},
   "outputs": [
    {
     "name": "stdout",
     "output_type": "stream",
     "text": [
      "e58sxt3\n"
     ]
    },
    {
     "data": {
      "text/plain": [
       "{'max[indegree over c->c responses]': 2,\n",
       " 'argmax[indegree over c->c responses]': 3,\n",
       " 'norm.max[indegree over c->c responses]': 0.2222222222222222,\n",
       " '2nd-largest[indegree over c->c responses]': 1,\n",
       " '2nd-argmax[indegree over c->c responses]': 0,\n",
       " 'norm.2nd-largest[indegree over c->c responses]': 0.1111111111111111,\n",
       " 'mean[indegree over c->c responses]': 0.9,\n",
       " 'mean-nonzero[indegree over c->c responses]': 1.125,\n",
       " 'prop-nonzero[indegree over c->c responses]': 0.8,\n",
       " 'prop-multiple[indegree over c->c responses]': 0.125,\n",
       " 'entropy[indegree over c->c responses]': 2.04319187054512,\n",
       " '2nd-largest / max[indegree over c->c responses]': 0.5,\n",
       " 'max[outdegree over C->c responses]': 4,\n",
       " 'max[indegree over C->c responses]': 2,\n",
       " 'argmax[outdegree over C->c responses]': 0,\n",
       " 'argmax[indegree over C->c responses]': 3,\n",
       " 'norm.max[outdegree over C->c responses]': 0.4444444444444444,\n",
       " 'norm.max[indegree over C->c responses]': 0.2222222222222222,\n",
       " '2nd-largest[outdegree over C->c responses]': 4,\n",
       " '2nd-largest[indegree over C->c responses]': 1,\n",
       " '2nd-argmax[outdegree over C->c responses]': 1,\n",
       " '2nd-argmax[indegree over C->c responses]': 0,\n",
       " 'norm.2nd-largest[outdegree over C->c responses]': 0.4444444444444444,\n",
       " 'norm.2nd-largest[indegree over C->c responses]': 0.1111111111111111,\n",
       " 'mean[outdegree over C->c responses]': 3.0,\n",
       " 'mean[indegree over C->c responses]': 0.9,\n",
       " 'mean-nonzero[outdegree over C->c responses]': 3.0,\n",
       " 'mean-nonzero[indegree over C->c responses]': 1.125,\n",
       " 'prop-nonzero[outdegree over C->c responses]': 1.0,\n",
       " 'prop-nonzero[indegree over C->c responses]': 0.8,\n",
       " 'prop-multiple[outdegree over C->c responses]': 0.6666666666666666,\n",
       " 'prop-multiple[indegree over C->c responses]': 0.125,\n",
       " 'entropy[outdegree over C->c responses]': 0.9649629230074277,\n",
       " 'entropy[indegree over C->c responses]': 2.04319187054512,\n",
       " '2nd-largest / max[outdegree over C->c responses]': 1.0,\n",
       " '2nd-largest / max[indegree over C->c responses]': 0.5,\n",
       " 'max[outdegree over C->C responses]': 1,\n",
       " 'max[indegree over C->C responses]': 2,\n",
       " 'argmax[outdegree over C->C responses]': 0,\n",
       " 'argmax[indegree over C->C responses]': 1,\n",
       " 'norm.max[outdegree over C->C responses]': 0.3333333333333333,\n",
       " 'norm.max[indegree over C->C responses]': 0.6666666666666666,\n",
       " '2nd-largest[outdegree over C->C responses]': 1,\n",
       " '2nd-largest[indegree over C->C responses]': 1,\n",
       " '2nd-argmax[outdegree over C->C responses]': 1,\n",
       " '2nd-argmax[indegree over C->C responses]': 0,\n",
       " 'norm.2nd-largest[outdegree over C->C responses]': 0.3333333333333333,\n",
       " 'norm.2nd-largest[indegree over C->C responses]': 0.3333333333333333,\n",
       " 'mean[outdegree over C->C responses]': 1.0,\n",
       " 'mean[indegree over C->C responses]': 1.0,\n",
       " 'mean-nonzero[outdegree over C->C responses]': 1.0,\n",
       " 'mean-nonzero[indegree over C->C responses]': 1.5,\n",
       " 'prop-nonzero[outdegree over C->C responses]': 1.0,\n",
       " 'prop-nonzero[indegree over C->C responses]': 0.6666666666666666,\n",
       " 'prop-multiple[outdegree over C->C responses]': 0.0,\n",
       " 'prop-multiple[indegree over C->C responses]': 0.5,\n",
       " 'entropy[outdegree over C->C responses]': 1.0986122886681096,\n",
       " 'entropy[indegree over C->C responses]': 0.6365141682948128,\n",
       " '2nd-largest / max[outdegree over C->C responses]': 1.0,\n",
       " '2nd-largest / max[indegree over C->C responses]': 0.5,\n",
       " 'is-present[reciprocity motif]': True,\n",
       " 'count[reciprocity motif]': 7,\n",
       " 'is-present[external reciprocity motif]': True,\n",
       " 'count[external reciprocity motif]': 1,\n",
       " 'is-present[dyadic interaction motif]': True,\n",
       " 'count[dyadic interaction motif]': 1,\n",
       " 'is-present[incoming triads]': True,\n",
       " 'count[incoming triads]': 1,\n",
       " 'is-present[outgoing triads]': False,\n",
       " 'count[outgoing triads]': 0,\n",
       " 'max[indegree over c->c mid-thread responses]': 2,\n",
       " 'argmax[indegree over c->c mid-thread responses]': 2,\n",
       " 'norm.max[indegree over c->c mid-thread responses]': 0.25,\n",
       " '2nd-largest[indegree over c->c mid-thread responses]': 1,\n",
       " '2nd-argmax[indegree over c->c mid-thread responses]': 0,\n",
       " 'norm.2nd-largest[indegree over c->c mid-thread responses]': 0.125,\n",
       " 'mean[indegree over c->c mid-thread responses]': 0.8888888888888888,\n",
       " 'mean-nonzero[indegree over c->c mid-thread responses]': 1.1428571428571428,\n",
       " 'prop-nonzero[indegree over c->c mid-thread responses]': 0.7777777777777778,\n",
       " 'prop-multiple[indegree over c->c mid-thread responses]': 0.14285714285714285,\n",
       " 'entropy[indegree over c->c mid-thread responses]': 1.9061547465398494,\n",
       " '2nd-largest / max[indegree over c->c mid-thread responses]': 0.5,\n",
       " 'max[outdegree over C->c mid-thread responses]': 4,\n",
       " 'max[indegree over C->c mid-thread responses]': 2,\n",
       " 'argmax[outdegree over C->c mid-thread responses]': 1,\n",
       " 'argmax[indegree over C->c mid-thread responses]': 2,\n",
       " 'norm.max[outdegree over C->c mid-thread responses]': 0.5,\n",
       " 'norm.max[indegree over C->c mid-thread responses]': 0.25,\n",
       " '2nd-largest[outdegree over C->c mid-thread responses]': 3,\n",
       " '2nd-largest[indegree over C->c mid-thread responses]': 1,\n",
       " '2nd-argmax[outdegree over C->c mid-thread responses]': 0,\n",
       " '2nd-argmax[indegree over C->c mid-thread responses]': 0,\n",
       " 'norm.2nd-largest[outdegree over C->c mid-thread responses]': 0.375,\n",
       " 'norm.2nd-largest[indegree over C->c mid-thread responses]': 0.125,\n",
       " 'mean[outdegree over C->c mid-thread responses]': 2.6666666666666665,\n",
       " 'mean[indegree over C->c mid-thread responses]': 0.8888888888888888,\n",
       " 'mean-nonzero[outdegree over C->c mid-thread responses]': 2.6666666666666665,\n",
       " 'mean-nonzero[indegree over C->c mid-thread responses]': 1.1428571428571428,\n",
       " 'prop-nonzero[outdegree over C->c mid-thread responses]': 1.0,\n",
       " 'prop-nonzero[indegree over C->c mid-thread responses]': 0.7777777777777778,\n",
       " 'prop-multiple[outdegree over C->c mid-thread responses]': 0.6666666666666666,\n",
       " 'prop-multiple[indegree over C->c mid-thread responses]': 0.14285714285714285,\n",
       " 'entropy[outdegree over C->c mid-thread responses]': 0.9743147528693494,\n",
       " 'entropy[indegree over C->c mid-thread responses]': 1.9061547465398494,\n",
       " '2nd-largest / max[outdegree over C->c mid-thread responses]': 0.75,\n",
       " '2nd-largest / max[indegree over C->c mid-thread responses]': 0.5,\n",
       " 'max[outdegree over C->C mid-thread responses]': 1,\n",
       " 'max[indegree over C->C mid-thread responses]': 2,\n",
       " 'argmax[outdegree over C->C mid-thread responses]': 0,\n",
       " 'argmax[indegree over C->C mid-thread responses]': 0,\n",
       " 'norm.max[outdegree over C->C mid-thread responses]': 0.3333333333333333,\n",
       " 'norm.max[indegree over C->C mid-thread responses]': 0.6666666666666666,\n",
       " '2nd-largest[outdegree over C->C mid-thread responses]': 1,\n",
       " '2nd-largest[indegree over C->C mid-thread responses]': 1,\n",
       " '2nd-argmax[outdegree over C->C mid-thread responses]': 1,\n",
       " '2nd-argmax[indegree over C->C mid-thread responses]': 1,\n",
       " 'norm.2nd-largest[outdegree over C->C mid-thread responses]': 0.3333333333333333,\n",
       " 'norm.2nd-largest[indegree over C->C mid-thread responses]': 0.3333333333333333,\n",
       " 'mean[outdegree over C->C mid-thread responses]': 1.0,\n",
       " 'mean[indegree over C->C mid-thread responses]': 1.0,\n",
       " 'mean-nonzero[outdegree over C->C mid-thread responses]': 1.0,\n",
       " 'mean-nonzero[indegree over C->C mid-thread responses]': 1.5,\n",
       " 'prop-nonzero[outdegree over C->C mid-thread responses]': 1.0,\n",
       " 'prop-nonzero[indegree over C->C mid-thread responses]': 0.6666666666666666,\n",
       " 'prop-multiple[outdegree over C->C mid-thread responses]': 0.0,\n",
       " 'prop-multiple[indegree over C->C mid-thread responses]': 0.5,\n",
       " 'entropy[outdegree over C->C mid-thread responses]': 1.0986122886681096,\n",
       " 'entropy[indegree over C->C mid-thread responses]': 0.6365141682948128,\n",
       " '2nd-largest / max[outdegree over C->C mid-thread responses]': 1.0,\n",
       " '2nd-largest / max[indegree over C->C mid-thread responses]': 0.5,\n",
       " 'is-present[reciprocity motif over mid-thread]': True,\n",
       " 'count[reciprocity motif over mid-thread]': 6,\n",
       " 'is-present[external reciprocity motif over mid-thread]': True,\n",
       " 'count[external reciprocity motif over mid-thread]': 1,\n",
       " 'is-present[dyadic interaction motif over mid-thread]': True,\n",
       " 'count[dyadic interaction motif over mid-thread]': 1,\n",
       " 'is-present[incoming triads over mid-thread]': True,\n",
       " 'count[incoming triads over mid-thread]': 1,\n",
       " 'is-present[outgoing triads over mid-thread]': False,\n",
       " 'count[outgoing triads over mid-thread]': 0}"
      ]
     },
     "execution_count": 21,
     "metadata": {},
     "output_type": "execute_result"
    }
   ],
   "source": [
    "convo1 = next(threads_corpus.iter_conversations())\n",
    "print(convo1.id)\n",
    "convo1.meta['hyperconvo']"
   ]
  },
  {
   "cell_type": "markdown",
   "metadata": {},
   "source": [
    "Hyperconvo's fit_transform() method generates features data for each thread (either starting with the post or top-level comment) and stores it in the corresponding Conversation's (which is indexed by post id) metadata. We collect the thread features from each Conversation to do some aggregated analysis."
   ]
  },
  {
   "cell_type": "code",
   "execution_count": 22,
   "metadata": {},
   "outputs": [],
   "source": [
    "threads_feats = dict()\n",
    "\n",
    "for convo in threads_corpus.iter_conversations():\n",
    "    threads_feats[convo.id] = convo.meta['hyperconvo']"
   ]
  },
  {
   "cell_type": "code",
   "execution_count": 23,
   "metadata": {},
   "outputs": [],
   "source": [
    "def clean_value(x):\n",
    "    if np.isinf(x) or np.isnan(x):\n",
    "        return -1\n",
    "    return x"
   ]
  },
  {
   "cell_type": "code",
   "execution_count": 24,
   "metadata": {},
   "outputs": [],
   "source": [
    "feat_names = list(next(iter(threads_feats.values())).keys())"
   ]
  },
  {
   "cell_type": "code",
   "execution_count": 25,
   "metadata": {},
   "outputs": [
    {
     "data": {
      "text/plain": [
       "['max[indegree over c->c responses]',\n",
       " 'argmax[indegree over c->c responses]',\n",
       " 'norm.max[indegree over c->c responses]',\n",
       " '2nd-largest[indegree over c->c responses]',\n",
       " '2nd-argmax[indegree over c->c responses]',\n",
       " 'norm.2nd-largest[indegree over c->c responses]',\n",
       " 'mean[indegree over c->c responses]',\n",
       " 'mean-nonzero[indegree over c->c responses]',\n",
       " 'prop-nonzero[indegree over c->c responses]',\n",
       " 'prop-multiple[indegree over c->c responses]']"
      ]
     },
     "execution_count": 25,
     "metadata": {},
     "output_type": "execute_result"
    }
   ],
   "source": [
    "feat_names[:10]"
   ]
  },
  {
   "cell_type": "code",
   "execution_count": 26,
   "metadata": {},
   "outputs": [],
   "source": [
    "thread_ids = []\n",
    "feats = []\n",
    "for key, feat_dict in threads_feats.items():\n",
    "    thread_ids.append(key)\n",
    "    feats.append([clean_value(feat_dict[k]) for k in feat_names])"
   ]
  },
  {
   "cell_type": "markdown",
   "metadata": {},
   "source": [
    "For later convenience we will store feature values in a dataframe:"
   ]
  },
  {
   "cell_type": "code",
   "execution_count": 27,
   "metadata": {},
   "outputs": [],
   "source": [
    "feat_df = pd.DataFrame(data=feats, index=thread_ids, columns=feat_names)"
   ]
  },
  {
   "cell_type": "markdown",
   "metadata": {},
   "source": [
    "Here are some examples of features computed over the three example threads from before:"
   ]
  },
  {
   "cell_type": "code",
   "execution_count": 28,
   "metadata": {},
   "outputs": [],
   "source": [
    "C_C_indegree_feats = [x for x in feat_names if 'indegree over C->C responses' in x]\n",
    "C_C_mid_outdegree_feats = [x for x in feat_names if 'outdegree over C->C mid-thread responses' in x]\n",
    "motif_count_feats = [x for x in feat_names if ('count' in x) and ('mid' not in x)]"
   ]
  },
  {
   "cell_type": "markdown",
   "metadata": {},
   "source": [
    "Features derived from the distribution of hypernode to hypernode indegrees (i.e., \"how many other people are responding to a particular discussion participant?\"). As in the paper, we compute various summary statistics over the distribution. \n",
    "\n",
    "As noted at the start of this notebook, since we do not have access to reaction information, these distributions encompass only the reply structure within the thread."
   ]
  },
  {
   "cell_type": "code",
   "execution_count": 29,
   "metadata": {
    "scrolled": true
   },
   "outputs": [
    {
     "data": {
      "text/html": [
       "<div>\n",
       "<style scoped>\n",
       "    .dataframe tbody tr th:only-of-type {\n",
       "        vertical-align: middle;\n",
       "    }\n",
       "\n",
       "    .dataframe tbody tr th {\n",
       "        vertical-align: top;\n",
       "    }\n",
       "\n",
       "    .dataframe thead th {\n",
       "        text-align: right;\n",
       "    }\n",
       "</style>\n",
       "<table border=\"1\" class=\"dataframe\">\n",
       "  <thead>\n",
       "    <tr style=\"text-align: right;\">\n",
       "      <th></th>\n",
       "      <th>e57u6ft</th>\n",
       "      <th>e56rtrx</th>\n",
       "    </tr>\n",
       "  </thead>\n",
       "  <tbody>\n",
       "    <tr>\n",
       "      <th>2nd-argmax[indegree over C-&gt;C responses]</th>\n",
       "      <td>1.000000</td>\n",
       "      <td>1.000000</td>\n",
       "    </tr>\n",
       "    <tr>\n",
       "      <th>2nd-largest / max[indegree over C-&gt;C responses]</th>\n",
       "      <td>0.500000</td>\n",
       "      <td>1.000000</td>\n",
       "    </tr>\n",
       "    <tr>\n",
       "      <th>2nd-largest[indegree over C-&gt;C responses]</th>\n",
       "      <td>2.000000</td>\n",
       "      <td>1.000000</td>\n",
       "    </tr>\n",
       "    <tr>\n",
       "      <th>argmax[indegree over C-&gt;C responses]</th>\n",
       "      <td>0.000000</td>\n",
       "      <td>0.000000</td>\n",
       "    </tr>\n",
       "    <tr>\n",
       "      <th>entropy[indegree over C-&gt;C responses]</th>\n",
       "      <td>1.213008</td>\n",
       "      <td>0.693147</td>\n",
       "    </tr>\n",
       "    <tr>\n",
       "      <th>max[indegree over C-&gt;C responses]</th>\n",
       "      <td>4.000000</td>\n",
       "      <td>1.000000</td>\n",
       "    </tr>\n",
       "    <tr>\n",
       "      <th>mean-nonzero[indegree over C-&gt;C responses]</th>\n",
       "      <td>2.000000</td>\n",
       "      <td>1.000000</td>\n",
       "    </tr>\n",
       "    <tr>\n",
       "      <th>mean[indegree over C-&gt;C responses]</th>\n",
       "      <td>1.333333</td>\n",
       "      <td>1.000000</td>\n",
       "    </tr>\n",
       "    <tr>\n",
       "      <th>norm.2nd-largest[indegree over C-&gt;C responses]</th>\n",
       "      <td>0.250000</td>\n",
       "      <td>0.500000</td>\n",
       "    </tr>\n",
       "    <tr>\n",
       "      <th>norm.max[indegree over C-&gt;C responses]</th>\n",
       "      <td>0.500000</td>\n",
       "      <td>0.500000</td>\n",
       "    </tr>\n",
       "    <tr>\n",
       "      <th>prop-multiple[indegree over C-&gt;C responses]</th>\n",
       "      <td>0.500000</td>\n",
       "      <td>0.000000</td>\n",
       "    </tr>\n",
       "    <tr>\n",
       "      <th>prop-nonzero[indegree over C-&gt;C responses]</th>\n",
       "      <td>0.666667</td>\n",
       "      <td>1.000000</td>\n",
       "    </tr>\n",
       "  </tbody>\n",
       "</table>\n",
       "</div>"
      ],
      "text/plain": [
       "                                                  e57u6ft   e56rtrx\n",
       "2nd-argmax[indegree over C->C responses]         1.000000  1.000000\n",
       "2nd-largest / max[indegree over C->C responses]  0.500000  1.000000\n",
       "2nd-largest[indegree over C->C responses]        2.000000  1.000000\n",
       "argmax[indegree over C->C responses]             0.000000  0.000000\n",
       "entropy[indegree over C->C responses]            1.213008  0.693147\n",
       "max[indegree over C->C responses]                4.000000  1.000000\n",
       "mean-nonzero[indegree over C->C responses]       2.000000  1.000000\n",
       "mean[indegree over C->C responses]               1.333333  1.000000\n",
       "norm.2nd-largest[indegree over C->C responses]   0.250000  0.500000\n",
       "norm.max[indegree over C->C responses]           0.500000  0.500000\n",
       "prop-multiple[indegree over C->C responses]      0.500000  0.000000\n",
       "prop-nonzero[indegree over C->C responses]       0.666667  1.000000"
      ]
     },
     "execution_count": 29,
     "metadata": {},
     "output_type": "execute_result"
    }
   ],
   "source": [
    "feat_df.loc[demo_threads][C_C_indegree_feats].T.sort_index()"
   ]
  },
  {
   "cell_type": "markdown",
   "metadata": {},
   "source": [
    "Features derived from the distribution of hypernode to hypernode outdegrees in the _middle_ of the thread (i.e., \"beyond the root comment, how many other people is each participant responding to?\"). "
   ]
  },
  {
   "cell_type": "code",
   "execution_count": 30,
   "metadata": {},
   "outputs": [
    {
     "data": {
      "text/html": [
       "<div>\n",
       "<style scoped>\n",
       "    .dataframe tbody tr th:only-of-type {\n",
       "        vertical-align: middle;\n",
       "    }\n",
       "\n",
       "    .dataframe tbody tr th {\n",
       "        vertical-align: top;\n",
       "    }\n",
       "\n",
       "    .dataframe thead th {\n",
       "        text-align: right;\n",
       "    }\n",
       "</style>\n",
       "<table border=\"1\" class=\"dataframe\">\n",
       "  <thead>\n",
       "    <tr style=\"text-align: right;\">\n",
       "      <th></th>\n",
       "      <th>e57u6ft</th>\n",
       "      <th>e56rtrx</th>\n",
       "    </tr>\n",
       "  </thead>\n",
       "  <tbody>\n",
       "    <tr>\n",
       "      <th>2nd-argmax[outdegree over C-&gt;C mid-thread responses]</th>\n",
       "      <td>0.000000</td>\n",
       "      <td>1.000000</td>\n",
       "    </tr>\n",
       "    <tr>\n",
       "      <th>2nd-largest / max[outdegree over C-&gt;C mid-thread responses]</th>\n",
       "      <td>0.500000</td>\n",
       "      <td>1.000000</td>\n",
       "    </tr>\n",
       "    <tr>\n",
       "      <th>2nd-largest[outdegree over C-&gt;C mid-thread responses]</th>\n",
       "      <td>1.000000</td>\n",
       "      <td>1.000000</td>\n",
       "    </tr>\n",
       "    <tr>\n",
       "      <th>argmax[outdegree over C-&gt;C mid-thread responses]</th>\n",
       "      <td>3.000000</td>\n",
       "      <td>0.000000</td>\n",
       "    </tr>\n",
       "    <tr>\n",
       "      <th>entropy[outdegree over C-&gt;C mid-thread responses]</th>\n",
       "      <td>1.560710</td>\n",
       "      <td>0.693147</td>\n",
       "    </tr>\n",
       "    <tr>\n",
       "      <th>max[outdegree over C-&gt;C mid-thread responses]</th>\n",
       "      <td>2.000000</td>\n",
       "      <td>1.000000</td>\n",
       "    </tr>\n",
       "    <tr>\n",
       "      <th>mean-nonzero[outdegree over C-&gt;C mid-thread responses]</th>\n",
       "      <td>1.200000</td>\n",
       "      <td>1.000000</td>\n",
       "    </tr>\n",
       "    <tr>\n",
       "      <th>mean[outdegree over C-&gt;C mid-thread responses]</th>\n",
       "      <td>1.000000</td>\n",
       "      <td>1.000000</td>\n",
       "    </tr>\n",
       "    <tr>\n",
       "      <th>norm.2nd-largest[outdegree over C-&gt;C mid-thread responses]</th>\n",
       "      <td>0.166667</td>\n",
       "      <td>0.500000</td>\n",
       "    </tr>\n",
       "    <tr>\n",
       "      <th>norm.max[outdegree over C-&gt;C mid-thread responses]</th>\n",
       "      <td>0.333333</td>\n",
       "      <td>0.500000</td>\n",
       "    </tr>\n",
       "    <tr>\n",
       "      <th>prop-multiple[outdegree over C-&gt;C mid-thread responses]</th>\n",
       "      <td>0.200000</td>\n",
       "      <td>0.000000</td>\n",
       "    </tr>\n",
       "    <tr>\n",
       "      <th>prop-nonzero[outdegree over C-&gt;C mid-thread responses]</th>\n",
       "      <td>0.833333</td>\n",
       "      <td>1.000000</td>\n",
       "    </tr>\n",
       "  </tbody>\n",
       "</table>\n",
       "</div>"
      ],
      "text/plain": [
       "                                                     e57u6ft   e56rtrx\n",
       "2nd-argmax[outdegree over C->C mid-thread respo...  0.000000  1.000000\n",
       "2nd-largest / max[outdegree over C->C mid-threa...  0.500000  1.000000\n",
       "2nd-largest[outdegree over C->C mid-thread resp...  1.000000  1.000000\n",
       "argmax[outdegree over C->C mid-thread responses]    3.000000  0.000000\n",
       "entropy[outdegree over C->C mid-thread responses]   1.560710  0.693147\n",
       "max[outdegree over C->C mid-thread responses]       2.000000  1.000000\n",
       "mean-nonzero[outdegree over C->C mid-thread res...  1.200000  1.000000\n",
       "mean[outdegree over C->C mid-thread responses]      1.000000  1.000000\n",
       "norm.2nd-largest[outdegree over C->C mid-thread...  0.166667  0.500000\n",
       "norm.max[outdegree over C->C mid-thread responses]  0.333333  0.500000\n",
       "prop-multiple[outdegree over C->C mid-thread re...  0.200000  0.000000\n",
       "prop-nonzero[outdegree over C->C mid-thread res...  0.833333  1.000000"
      ]
     },
     "execution_count": 30,
     "metadata": {},
     "output_type": "execute_result"
    }
   ],
   "source": [
    "feat_df.loc[demo_threads][C_C_mid_outdegree_feats].T.sort_index()"
   ]
  },
  {
   "cell_type": "markdown",
   "metadata": {},
   "source": [
    "Features derived from the 5 motifs considered in the paper. Note that because we do not have reply information, we instead take as features _counts_ of each motif (in the paper, we would additionally compare reply or reaction edge types within motifs of a particular form)"
   ]
  },
  {
   "cell_type": "code",
   "execution_count": 31,
   "metadata": {},
   "outputs": [
    {
     "data": {
      "text/html": [
       "<div>\n",
       "<style scoped>\n",
       "    .dataframe tbody tr th:only-of-type {\n",
       "        vertical-align: middle;\n",
       "    }\n",
       "\n",
       "    .dataframe tbody tr th {\n",
       "        vertical-align: top;\n",
       "    }\n",
       "\n",
       "    .dataframe thead th {\n",
       "        text-align: right;\n",
       "    }\n",
       "</style>\n",
       "<table border=\"1\" class=\"dataframe\">\n",
       "  <thead>\n",
       "    <tr style=\"text-align: right;\">\n",
       "      <th></th>\n",
       "      <th>e57u6ft</th>\n",
       "      <th>e56rtrx</th>\n",
       "    </tr>\n",
       "  </thead>\n",
       "  <tbody>\n",
       "    <tr>\n",
       "      <th>count[dyadic interaction motif]</th>\n",
       "      <td>3</td>\n",
       "      <td>1</td>\n",
       "    </tr>\n",
       "    <tr>\n",
       "      <th>count[external reciprocity motif]</th>\n",
       "      <td>3</td>\n",
       "      <td>0</td>\n",
       "    </tr>\n",
       "    <tr>\n",
       "      <th>count[incoming triads]</th>\n",
       "      <td>7</td>\n",
       "      <td>0</td>\n",
       "    </tr>\n",
       "    <tr>\n",
       "      <th>count[outgoing triads]</th>\n",
       "      <td>2</td>\n",
       "      <td>0</td>\n",
       "    </tr>\n",
       "    <tr>\n",
       "      <th>count[reciprocity motif]</th>\n",
       "      <td>3</td>\n",
       "      <td>8</td>\n",
       "    </tr>\n",
       "  </tbody>\n",
       "</table>\n",
       "</div>"
      ],
      "text/plain": [
       "                                   e57u6ft  e56rtrx\n",
       "count[dyadic interaction motif]          3        1\n",
       "count[external reciprocity motif]        3        0\n",
       "count[incoming triads]                   7        0\n",
       "count[outgoing triads]                   2        0\n",
       "count[reciprocity motif]                 3        8"
      ]
     },
     "execution_count": 31,
     "metadata": {},
     "output_type": "execute_result"
    }
   ],
   "source": [
    "feat_df.loc[demo_threads][motif_count_feats].T.sort_index()"
   ]
  },
  {
   "cell_type": "code",
   "execution_count": null,
   "metadata": {},
   "outputs": [],
   "source": []
  },
  {
   "cell_type": "markdown",
   "metadata": {},
   "source": [
    "While the features generated above can be used as is (e.g., as features in a prediction task), we can also interpret them by projecting them into a low-dimensional space. "
   ]
  },
  {
   "cell_type": "code",
   "execution_count": 35,
   "metadata": {},
   "outputs": [],
   "source": [
    "from sklearn.preprocessing import Normalizer, StandardScaler\n",
    "from sklearn.impute import SimpleImputer\n",
    "from sklearn.decomposition import TruncatedSVD\n",
    "from sklearn.manifold import TSNE\n",
    "from sklearn.metrics.pairwise import pairwise_distances"
   ]
  },
  {
   "cell_type": "code",
   "execution_count": 37,
   "metadata": {},
   "outputs": [],
   "source": [
    "feat_mtx = SimpleImputer(missing_values=-1).fit_transform(feat_df.values)\n",
    "feat_mtx = StandardScaler().fit_transform(feat_mtx)"
   ]
  },
  {
   "cell_type": "code",
   "execution_count": 38,
   "metadata": {},
   "outputs": [],
   "source": [
    "svd = TruncatedSVD(n_components=7, algorithm='arpack') # deals with an issue where the randomized alg hangs\n",
    "svd.fit(feat_mtx)\n",
    "U, s, V = svd.transform(feat_mtx) / svd.singular_values_, \\\n",
    "        svd.singular_values_, \\\n",
    "        svd.components_.T"
   ]
  },
  {
   "cell_type": "code",
   "execution_count": 39,
   "metadata": {},
   "outputs": [],
   "source": [
    "U_norm = Normalizer().fit_transform(U)\n",
    "V_norm = Normalizer().fit_transform(V)\n",
    "U_df = pd.DataFrame(data=U_norm, index=feat_df.index)\n",
    "V_df = pd.DataFrame(data=V_norm, index=feat_names)"
   ]
  },
  {
   "cell_type": "markdown",
   "metadata": {},
   "source": [
    "This embedding procedure produces embeddings of threads in the low-dimensional space:"
   ]
  },
  {
   "cell_type": "code",
   "execution_count": 40,
   "metadata": {},
   "outputs": [
    {
     "data": {
      "text/html": [
       "<div>\n",
       "<style scoped>\n",
       "    .dataframe tbody tr th:only-of-type {\n",
       "        vertical-align: middle;\n",
       "    }\n",
       "\n",
       "    .dataframe tbody tr th {\n",
       "        vertical-align: top;\n",
       "    }\n",
       "\n",
       "    .dataframe thead th {\n",
       "        text-align: right;\n",
       "    }\n",
       "</style>\n",
       "<table border=\"1\" class=\"dataframe\">\n",
       "  <thead>\n",
       "    <tr style=\"text-align: right;\">\n",
       "      <th></th>\n",
       "      <th>e57u6ft</th>\n",
       "      <th>e56rtrx</th>\n",
       "    </tr>\n",
       "  </thead>\n",
       "  <tbody>\n",
       "    <tr>\n",
       "      <th>0</th>\n",
       "      <td>-0.103850</td>\n",
       "      <td>-0.568261</td>\n",
       "    </tr>\n",
       "    <tr>\n",
       "      <th>1</th>\n",
       "      <td>-0.278065</td>\n",
       "      <td>0.401445</td>\n",
       "    </tr>\n",
       "    <tr>\n",
       "      <th>2</th>\n",
       "      <td>0.426513</td>\n",
       "      <td>-0.709231</td>\n",
       "    </tr>\n",
       "    <tr>\n",
       "      <th>3</th>\n",
       "      <td>-0.113025</td>\n",
       "      <td>0.087347</td>\n",
       "    </tr>\n",
       "    <tr>\n",
       "      <th>4</th>\n",
       "      <td>0.005008</td>\n",
       "      <td>0.057562</td>\n",
       "    </tr>\n",
       "    <tr>\n",
       "      <th>5</th>\n",
       "      <td>0.592298</td>\n",
       "      <td>0.040781</td>\n",
       "    </tr>\n",
       "    <tr>\n",
       "      <th>6</th>\n",
       "      <td>-0.605281</td>\n",
       "      <td>0.017527</td>\n",
       "    </tr>\n",
       "  </tbody>\n",
       "</table>\n",
       "</div>"
      ],
      "text/plain": [
       "    e57u6ft   e56rtrx\n",
       "0 -0.103850 -0.568261\n",
       "1 -0.278065  0.401445\n",
       "2  0.426513 -0.709231\n",
       "3 -0.113025  0.087347\n",
       "4  0.005008  0.057562\n",
       "5  0.592298  0.040781\n",
       "6 -0.605281  0.017527"
      ]
     },
     "execution_count": 40,
     "metadata": {},
     "output_type": "execute_result"
    }
   ],
   "source": [
    "U_df.loc[demo_threads].T"
   ]
  },
  {
   "cell_type": "markdown",
   "metadata": {},
   "source": [
    "As well as embeddings of features:"
   ]
  },
  {
   "cell_type": "code",
   "execution_count": 41,
   "metadata": {},
   "outputs": [
    {
     "data": {
      "text/html": [
       "<div>\n",
       "<style scoped>\n",
       "    .dataframe tbody tr th:only-of-type {\n",
       "        vertical-align: middle;\n",
       "    }\n",
       "\n",
       "    .dataframe tbody tr th {\n",
       "        vertical-align: top;\n",
       "    }\n",
       "\n",
       "    .dataframe thead th {\n",
       "        text-align: right;\n",
       "    }\n",
       "</style>\n",
       "<table border=\"1\" class=\"dataframe\">\n",
       "  <thead>\n",
       "    <tr style=\"text-align: right;\">\n",
       "      <th></th>\n",
       "      <th>0</th>\n",
       "      <th>1</th>\n",
       "      <th>2</th>\n",
       "      <th>3</th>\n",
       "      <th>4</th>\n",
       "      <th>5</th>\n",
       "      <th>6</th>\n",
       "    </tr>\n",
       "  </thead>\n",
       "  <tbody>\n",
       "    <tr>\n",
       "      <th>max[indegree over C-&gt;C responses]</th>\n",
       "      <td>0.574040</td>\n",
       "      <td>0.331249</td>\n",
       "      <td>0.451891</td>\n",
       "      <td>0.298591</td>\n",
       "      <td>-0.098847</td>\n",
       "      <td>-0.345627</td>\n",
       "      <td>-0.371700</td>\n",
       "    </tr>\n",
       "    <tr>\n",
       "      <th>argmax[indegree over C-&gt;C responses]</th>\n",
       "      <td>0.021994</td>\n",
       "      <td>-0.548696</td>\n",
       "      <td>-0.072024</td>\n",
       "      <td>0.348774</td>\n",
       "      <td>-0.487366</td>\n",
       "      <td>-0.578004</td>\n",
       "      <td>0.001900</td>\n",
       "    </tr>\n",
       "    <tr>\n",
       "      <th>norm.max[indegree over C-&gt;C responses]</th>\n",
       "      <td>0.136265</td>\n",
       "      <td>0.633611</td>\n",
       "      <td>-0.054505</td>\n",
       "      <td>0.660700</td>\n",
       "      <td>0.089491</td>\n",
       "      <td>-0.360409</td>\n",
       "      <td>-0.050698</td>\n",
       "    </tr>\n",
       "    <tr>\n",
       "      <th>2nd-largest[indegree over C-&gt;C responses]</th>\n",
       "      <td>0.264775</td>\n",
       "      <td>-0.595095</td>\n",
       "      <td>-0.177363</td>\n",
       "      <td>-0.032607</td>\n",
       "      <td>0.369844</td>\n",
       "      <td>0.636419</td>\n",
       "      <td>0.037712</td>\n",
       "    </tr>\n",
       "    <tr>\n",
       "      <th>2nd-argmax[indegree over C-&gt;C responses]</th>\n",
       "      <td>0.139340</td>\n",
       "      <td>0.113322</td>\n",
       "      <td>0.106261</td>\n",
       "      <td>-0.316196</td>\n",
       "      <td>0.261848</td>\n",
       "      <td>0.887307</td>\n",
       "      <td>-0.024356</td>\n",
       "    </tr>\n",
       "    <tr>\n",
       "      <th>norm.2nd-largest[indegree over C-&gt;C responses]</th>\n",
       "      <td>-0.206815</td>\n",
       "      <td>-0.210187</td>\n",
       "      <td>-0.667660</td>\n",
       "      <td>0.126509</td>\n",
       "      <td>0.418324</td>\n",
       "      <td>0.523214</td>\n",
       "      <td>0.050272</td>\n",
       "    </tr>\n",
       "    <tr>\n",
       "      <th>mean[indegree over C-&gt;C responses]</th>\n",
       "      <td>-0.303707</td>\n",
       "      <td>-0.230767</td>\n",
       "      <td>0.639219</td>\n",
       "      <td>0.266533</td>\n",
       "      <td>0.317526</td>\n",
       "      <td>-0.027597</td>\n",
       "      <td>-0.522766</td>\n",
       "    </tr>\n",
       "    <tr>\n",
       "      <th>mean-nonzero[indegree over C-&gt;C responses]</th>\n",
       "      <td>0.561474</td>\n",
       "      <td>0.246293</td>\n",
       "      <td>0.073209</td>\n",
       "      <td>0.492266</td>\n",
       "      <td>0.272666</td>\n",
       "      <td>-0.249315</td>\n",
       "      <td>-0.489793</td>\n",
       "    </tr>\n",
       "    <tr>\n",
       "      <th>prop-nonzero[indegree over C-&gt;C responses]</th>\n",
       "      <td>-0.945359</td>\n",
       "      <td>-0.101535</td>\n",
       "      <td>0.238357</td>\n",
       "      <td>-0.078078</td>\n",
       "      <td>-0.107471</td>\n",
       "      <td>0.146344</td>\n",
       "      <td>-0.010486</td>\n",
       "    </tr>\n",
       "    <tr>\n",
       "      <th>prop-multiple[indegree over C-&gt;C responses]</th>\n",
       "      <td>0.355365</td>\n",
       "      <td>-0.438412</td>\n",
       "      <td>-0.063833</td>\n",
       "      <td>0.156168</td>\n",
       "      <td>0.692934</td>\n",
       "      <td>-0.008221</td>\n",
       "      <td>-0.415719</td>\n",
       "    </tr>\n",
       "    <tr>\n",
       "      <th>entropy[indegree over C-&gt;C responses]</th>\n",
       "      <td>-0.001602</td>\n",
       "      <td>-0.493754</td>\n",
       "      <td>0.383985</td>\n",
       "      <td>-0.657503</td>\n",
       "      <td>-0.376240</td>\n",
       "      <td>0.178189</td>\n",
       "      <td>0.056053</td>\n",
       "    </tr>\n",
       "    <tr>\n",
       "      <th>2nd-largest / max[indegree over C-&gt;C responses]</th>\n",
       "      <td>-0.189063</td>\n",
       "      <td>-0.433123</td>\n",
       "      <td>-0.472973</td>\n",
       "      <td>-0.252028</td>\n",
       "      <td>0.338874</td>\n",
       "      <td>0.598865</td>\n",
       "      <td>0.126351</td>\n",
       "    </tr>\n",
       "  </tbody>\n",
       "</table>\n",
       "</div>"
      ],
      "text/plain": [
       "                                                        0         1         2  \\\n",
       "max[indegree over C->C responses]                0.574040  0.331249  0.451891   \n",
       "argmax[indegree over C->C responses]             0.021994 -0.548696 -0.072024   \n",
       "norm.max[indegree over C->C responses]           0.136265  0.633611 -0.054505   \n",
       "2nd-largest[indegree over C->C responses]        0.264775 -0.595095 -0.177363   \n",
       "2nd-argmax[indegree over C->C responses]         0.139340  0.113322  0.106261   \n",
       "norm.2nd-largest[indegree over C->C responses]  -0.206815 -0.210187 -0.667660   \n",
       "mean[indegree over C->C responses]              -0.303707 -0.230767  0.639219   \n",
       "mean-nonzero[indegree over C->C responses]       0.561474  0.246293  0.073209   \n",
       "prop-nonzero[indegree over C->C responses]      -0.945359 -0.101535  0.238357   \n",
       "prop-multiple[indegree over C->C responses]      0.355365 -0.438412 -0.063833   \n",
       "entropy[indegree over C->C responses]           -0.001602 -0.493754  0.383985   \n",
       "2nd-largest / max[indegree over C->C responses] -0.189063 -0.433123 -0.472973   \n",
       "\n",
       "                                                        3         4         5  \\\n",
       "max[indegree over C->C responses]                0.298591 -0.098847 -0.345627   \n",
       "argmax[indegree over C->C responses]             0.348774 -0.487366 -0.578004   \n",
       "norm.max[indegree over C->C responses]           0.660700  0.089491 -0.360409   \n",
       "2nd-largest[indegree over C->C responses]       -0.032607  0.369844  0.636419   \n",
       "2nd-argmax[indegree over C->C responses]        -0.316196  0.261848  0.887307   \n",
       "norm.2nd-largest[indegree over C->C responses]   0.126509  0.418324  0.523214   \n",
       "mean[indegree over C->C responses]               0.266533  0.317526 -0.027597   \n",
       "mean-nonzero[indegree over C->C responses]       0.492266  0.272666 -0.249315   \n",
       "prop-nonzero[indegree over C->C responses]      -0.078078 -0.107471  0.146344   \n",
       "prop-multiple[indegree over C->C responses]      0.156168  0.692934 -0.008221   \n",
       "entropy[indegree over C->C responses]           -0.657503 -0.376240  0.178189   \n",
       "2nd-largest / max[indegree over C->C responses] -0.252028  0.338874  0.598865   \n",
       "\n",
       "                                                        6  \n",
       "max[indegree over C->C responses]               -0.371700  \n",
       "argmax[indegree over C->C responses]             0.001900  \n",
       "norm.max[indegree over C->C responses]          -0.050698  \n",
       "2nd-largest[indegree over C->C responses]        0.037712  \n",
       "2nd-argmax[indegree over C->C responses]        -0.024356  \n",
       "norm.2nd-largest[indegree over C->C responses]   0.050272  \n",
       "mean[indegree over C->C responses]              -0.522766  \n",
       "mean-nonzero[indegree over C->C responses]      -0.489793  \n",
       "prop-nonzero[indegree over C->C responses]      -0.010486  \n",
       "prop-multiple[indegree over C->C responses]     -0.415719  \n",
       "entropy[indegree over C->C responses]            0.056053  \n",
       "2nd-largest / max[indegree over C->C responses]  0.126351  "
      ]
     },
     "execution_count": 41,
     "metadata": {},
     "output_type": "execute_result"
    }
   ],
   "source": [
    "V_df.loc[C_C_indegree_feats]"
   ]
  },
  {
   "cell_type": "code",
   "execution_count": 42,
   "metadata": {},
   "outputs": [
    {
     "data": {
      "text/plain": [
       "{'original_convo_meta': {'title': 'FT: PAL Celebi code and all NA codes LF: Something',\n",
       "  'num_comments': 10,\n",
       "  'domain': 'self.pokemontrades',\n",
       "  'timestamp': 1535851597,\n",
       "  'subreddit': 'pokemontrades',\n",
       "  'gilded': 0,\n",
       "  'gildings': {'gid_1': 0, 'gid_2': 0, 'gid_3': 0},\n",
       "  'stickied': False,\n",
       "  'author_flair_text': '1435-7956-6256 || PJ (UM, S)'},\n",
       " 'original_convo_id': '9c8e46',\n",
       " 'hyperconvo': {'max[indegree over c->c responses]': 2,\n",
       "  'argmax[indegree over c->c responses]': 3,\n",
       "  'norm.max[indegree over c->c responses]': 0.2222222222222222,\n",
       "  '2nd-largest[indegree over c->c responses]': 1,\n",
       "  '2nd-argmax[indegree over c->c responses]': 0,\n",
       "  'norm.2nd-largest[indegree over c->c responses]': 0.1111111111111111,\n",
       "  'mean[indegree over c->c responses]': 0.9,\n",
       "  'mean-nonzero[indegree over c->c responses]': 1.125,\n",
       "  'prop-nonzero[indegree over c->c responses]': 0.8,\n",
       "  'prop-multiple[indegree over c->c responses]': 0.125,\n",
       "  'entropy[indegree over c->c responses]': 2.04319187054512,\n",
       "  '2nd-largest / max[indegree over c->c responses]': 0.5,\n",
       "  'max[outdegree over C->c responses]': 4,\n",
       "  'max[indegree over C->c responses]': 2,\n",
       "  'argmax[outdegree over C->c responses]': 0,\n",
       "  'argmax[indegree over C->c responses]': 3,\n",
       "  'norm.max[outdegree over C->c responses]': 0.4444444444444444,\n",
       "  'norm.max[indegree over C->c responses]': 0.2222222222222222,\n",
       "  '2nd-largest[outdegree over C->c responses]': 4,\n",
       "  '2nd-largest[indegree over C->c responses]': 1,\n",
       "  '2nd-argmax[outdegree over C->c responses]': 1,\n",
       "  '2nd-argmax[indegree over C->c responses]': 0,\n",
       "  'norm.2nd-largest[outdegree over C->c responses]': 0.4444444444444444,\n",
       "  'norm.2nd-largest[indegree over C->c responses]': 0.1111111111111111,\n",
       "  'mean[outdegree over C->c responses]': 3.0,\n",
       "  'mean[indegree over C->c responses]': 0.9,\n",
       "  'mean-nonzero[outdegree over C->c responses]': 3.0,\n",
       "  'mean-nonzero[indegree over C->c responses]': 1.125,\n",
       "  'prop-nonzero[outdegree over C->c responses]': 1.0,\n",
       "  'prop-nonzero[indegree over C->c responses]': 0.8,\n",
       "  'prop-multiple[outdegree over C->c responses]': 0.6666666666666666,\n",
       "  'prop-multiple[indegree over C->c responses]': 0.125,\n",
       "  'entropy[outdegree over C->c responses]': 0.9649629230074277,\n",
       "  'entropy[indegree over C->c responses]': 2.04319187054512,\n",
       "  '2nd-largest / max[outdegree over C->c responses]': 1.0,\n",
       "  '2nd-largest / max[indegree over C->c responses]': 0.5,\n",
       "  'max[outdegree over C->C responses]': 1,\n",
       "  'max[indegree over C->C responses]': 2,\n",
       "  'argmax[outdegree over C->C responses]': 0,\n",
       "  'argmax[indegree over C->C responses]': 1,\n",
       "  'norm.max[outdegree over C->C responses]': 0.3333333333333333,\n",
       "  'norm.max[indegree over C->C responses]': 0.6666666666666666,\n",
       "  '2nd-largest[outdegree over C->C responses]': 1,\n",
       "  '2nd-largest[indegree over C->C responses]': 1,\n",
       "  '2nd-argmax[outdegree over C->C responses]': 1,\n",
       "  '2nd-argmax[indegree over C->C responses]': 0,\n",
       "  'norm.2nd-largest[outdegree over C->C responses]': 0.3333333333333333,\n",
       "  'norm.2nd-largest[indegree over C->C responses]': 0.3333333333333333,\n",
       "  'mean[outdegree over C->C responses]': 1.0,\n",
       "  'mean[indegree over C->C responses]': 1.0,\n",
       "  'mean-nonzero[outdegree over C->C responses]': 1.0,\n",
       "  'mean-nonzero[indegree over C->C responses]': 1.5,\n",
       "  'prop-nonzero[outdegree over C->C responses]': 1.0,\n",
       "  'prop-nonzero[indegree over C->C responses]': 0.6666666666666666,\n",
       "  'prop-multiple[outdegree over C->C responses]': 0.0,\n",
       "  'prop-multiple[indegree over C->C responses]': 0.5,\n",
       "  'entropy[outdegree over C->C responses]': 1.0986122886681096,\n",
       "  'entropy[indegree over C->C responses]': 0.6365141682948128,\n",
       "  '2nd-largest / max[outdegree over C->C responses]': 1.0,\n",
       "  '2nd-largest / max[indegree over C->C responses]': 0.5,\n",
       "  'is-present[reciprocity motif]': True,\n",
       "  'count[reciprocity motif]': 7,\n",
       "  'is-present[external reciprocity motif]': True,\n",
       "  'count[external reciprocity motif]': 1,\n",
       "  'is-present[dyadic interaction motif]': True,\n",
       "  'count[dyadic interaction motif]': 1,\n",
       "  'is-present[incoming triads]': True,\n",
       "  'count[incoming triads]': 1,\n",
       "  'is-present[outgoing triads]': False,\n",
       "  'count[outgoing triads]': 0,\n",
       "  'max[indegree over c->c mid-thread responses]': 2,\n",
       "  'argmax[indegree over c->c mid-thread responses]': 2,\n",
       "  'norm.max[indegree over c->c mid-thread responses]': 0.25,\n",
       "  '2nd-largest[indegree over c->c mid-thread responses]': 1,\n",
       "  '2nd-argmax[indegree over c->c mid-thread responses]': 0,\n",
       "  'norm.2nd-largest[indegree over c->c mid-thread responses]': 0.125,\n",
       "  'mean[indegree over c->c mid-thread responses]': 0.8888888888888888,\n",
       "  'mean-nonzero[indegree over c->c mid-thread responses]': 1.1428571428571428,\n",
       "  'prop-nonzero[indegree over c->c mid-thread responses]': 0.7777777777777778,\n",
       "  'prop-multiple[indegree over c->c mid-thread responses]': 0.14285714285714285,\n",
       "  'entropy[indegree over c->c mid-thread responses]': 1.9061547465398494,\n",
       "  '2nd-largest / max[indegree over c->c mid-thread responses]': 0.5,\n",
       "  'max[outdegree over C->c mid-thread responses]': 4,\n",
       "  'max[indegree over C->c mid-thread responses]': 2,\n",
       "  'argmax[outdegree over C->c mid-thread responses]': 1,\n",
       "  'argmax[indegree over C->c mid-thread responses]': 2,\n",
       "  'norm.max[outdegree over C->c mid-thread responses]': 0.5,\n",
       "  'norm.max[indegree over C->c mid-thread responses]': 0.25,\n",
       "  '2nd-largest[outdegree over C->c mid-thread responses]': 3,\n",
       "  '2nd-largest[indegree over C->c mid-thread responses]': 1,\n",
       "  '2nd-argmax[outdegree over C->c mid-thread responses]': 0,\n",
       "  '2nd-argmax[indegree over C->c mid-thread responses]': 0,\n",
       "  'norm.2nd-largest[outdegree over C->c mid-thread responses]': 0.375,\n",
       "  'norm.2nd-largest[indegree over C->c mid-thread responses]': 0.125,\n",
       "  'mean[outdegree over C->c mid-thread responses]': 2.6666666666666665,\n",
       "  'mean[indegree over C->c mid-thread responses]': 0.8888888888888888,\n",
       "  'mean-nonzero[outdegree over C->c mid-thread responses]': 2.6666666666666665,\n",
       "  'mean-nonzero[indegree over C->c mid-thread responses]': 1.1428571428571428,\n",
       "  'prop-nonzero[outdegree over C->c mid-thread responses]': 1.0,\n",
       "  'prop-nonzero[indegree over C->c mid-thread responses]': 0.7777777777777778,\n",
       "  'prop-multiple[outdegree over C->c mid-thread responses]': 0.6666666666666666,\n",
       "  'prop-multiple[indegree over C->c mid-thread responses]': 0.14285714285714285,\n",
       "  'entropy[outdegree over C->c mid-thread responses]': 0.9743147528693494,\n",
       "  'entropy[indegree over C->c mid-thread responses]': 1.9061547465398494,\n",
       "  '2nd-largest / max[outdegree over C->c mid-thread responses]': 0.75,\n",
       "  '2nd-largest / max[indegree over C->c mid-thread responses]': 0.5,\n",
       "  'max[outdegree over C->C mid-thread responses]': 1,\n",
       "  'max[indegree over C->C mid-thread responses]': 2,\n",
       "  'argmax[outdegree over C->C mid-thread responses]': 0,\n",
       "  'argmax[indegree over C->C mid-thread responses]': 0,\n",
       "  'norm.max[outdegree over C->C mid-thread responses]': 0.3333333333333333,\n",
       "  'norm.max[indegree over C->C mid-thread responses]': 0.6666666666666666,\n",
       "  '2nd-largest[outdegree over C->C mid-thread responses]': 1,\n",
       "  '2nd-largest[indegree over C->C mid-thread responses]': 1,\n",
       "  '2nd-argmax[outdegree over C->C mid-thread responses]': 1,\n",
       "  '2nd-argmax[indegree over C->C mid-thread responses]': 1,\n",
       "  'norm.2nd-largest[outdegree over C->C mid-thread responses]': 0.3333333333333333,\n",
       "  'norm.2nd-largest[indegree over C->C mid-thread responses]': 0.3333333333333333,\n",
       "  'mean[outdegree over C->C mid-thread responses]': 1.0,\n",
       "  'mean[indegree over C->C mid-thread responses]': 1.0,\n",
       "  'mean-nonzero[outdegree over C->C mid-thread responses]': 1.0,\n",
       "  'mean-nonzero[indegree over C->C mid-thread responses]': 1.5,\n",
       "  'prop-nonzero[outdegree over C->C mid-thread responses]': 1.0,\n",
       "  'prop-nonzero[indegree over C->C mid-thread responses]': 0.6666666666666666,\n",
       "  'prop-multiple[outdegree over C->C mid-thread responses]': 0.0,\n",
       "  'prop-multiple[indegree over C->C mid-thread responses]': 0.5,\n",
       "  'entropy[outdegree over C->C mid-thread responses]': 1.0986122886681096,\n",
       "  'entropy[indegree over C->C mid-thread responses]': 0.6365141682948128,\n",
       "  '2nd-largest / max[outdegree over C->C mid-thread responses]': 1.0,\n",
       "  '2nd-largest / max[indegree over C->C mid-thread responses]': 0.5,\n",
       "  'is-present[reciprocity motif over mid-thread]': True,\n",
       "  'count[reciprocity motif over mid-thread]': 6,\n",
       "  'is-present[external reciprocity motif over mid-thread]': True,\n",
       "  'count[external reciprocity motif over mid-thread]': 1,\n",
       "  'is-present[dyadic interaction motif over mid-thread]': True,\n",
       "  'count[dyadic interaction motif over mid-thread]': 1,\n",
       "  'is-present[incoming triads over mid-thread]': True,\n",
       "  'count[incoming triads over mid-thread]': 1,\n",
       "  'is-present[outgoing triads over mid-thread]': False,\n",
       "  'count[outgoing triads over mid-thread]': 0}}"
      ]
     },
     "execution_count": 42,
     "metadata": {},
     "output_type": "execute_result"
    }
   ],
   "source": [
    "convo1.meta"
   ]
  },
  {
   "cell_type": "markdown",
   "metadata": {},
   "source": [
    "As in the paper, for further interpretability we can consider embeddings of _communities_ (subreddits, standing for Facebook pages) in terms of the discussions they foster, by averaging the embeddings of all threads in a particular subreddit."
   ]
  },
  {
   "cell_type": "code",
   "execution_count": 43,
   "metadata": {},
   "outputs": [],
   "source": [
    "subreddits = [convo.meta['original_convo_meta']['subreddit'] for convo in threads_corpus.iter_conversations()]"
   ]
  },
  {
   "cell_type": "code",
   "execution_count": 44,
   "metadata": {},
   "outputs": [
    {
     "data": {
      "text/plain": [
       "10000"
      ]
     },
     "execution_count": 44,
     "metadata": {},
     "output_type": "execute_result"
    }
   ],
   "source": [
    "len(subreddits)"
   ]
  },
  {
   "cell_type": "code",
   "execution_count": 45,
   "metadata": {},
   "outputs": [],
   "source": [
    "U_df['subreddit'] = subreddits"
   ]
  },
  {
   "cell_type": "code",
   "execution_count": 46,
   "metadata": {},
   "outputs": [],
   "source": [
    "subreddit_means = U_df.groupby('subreddit').mean()\n",
    "subreddit_df = pd.DataFrame(\n",
    "        data=Normalizer().fit_transform(subreddit_means.values),\n",
    "        index = subreddit_means.index\n",
    "    )"
   ]
  },
  {
   "cell_type": "code",
   "execution_count": null,
   "metadata": {},
   "outputs": [],
   "source": []
  },
  {
   "cell_type": "markdown",
   "metadata": {},
   "source": [
    "First, let's give a rough overview of the space we've sketched out through this procedure, by visualizing the subreddit embeddings using the TSNE algorithm."
   ]
  },
  {
   "cell_type": "code",
   "execution_count": 47,
   "metadata": {},
   "outputs": [],
   "source": [
    "tsne = TSNE(random_state=2018)\n",
    "tsne_df = pd.DataFrame(data=tsne.fit_transform(subreddit_df.values),\n",
    "                      index=subreddit_df.index)"
   ]
  },
  {
   "cell_type": "code",
   "execution_count": 48,
   "metadata": {
    "scrolled": false
   },
   "outputs": [
    {
     "data": {
      "image/png": "[encoded data removed]",
      "text/plain": [
       "<Figure size 720x720 with 1 Axes>"
      ]
     },
     "metadata": {
      "needs_background": "light"
     },
     "output_type": "display_data"
    }
   ],
   "source": [
    "plt.figure(figsize=(10,10))\n",
    "plt.scatter(tsne_df[0].values, tsne_df[1].values)\n",
    "for i, txt in enumerate(tsne_df.index):\n",
    "    plt.annotate(txt, (tsne_df.values[i,0], tsne_df.values[i,1]))\n",
    "plt.show()"
   ]
  },
  {
   "cell_type": "markdown",
   "metadata": {},
   "source": [
    "Looking across this plot, we can spot a few interpretable-looking groupings:"
   ]
  },
  {
   "cell_type": "code",
   "execution_count": 49,
   "metadata": {},
   "outputs": [
    {
     "data": {
      "image/png": "[encoded data removed]",
      "text/plain": [
       "<Figure size 432x288 with 1 Axes>"
      ]
     },
     "metadata": {
      "needs_background": "light"
     },
     "output_type": "display_data"
    }
   ],
   "source": [
    "games = [\"battlefield3\", \"Diablo\", \"DotA2\", \"Guildwars2\", \"leagueoflegends\", \"magicTCG\", \"Minecraft\", \"pokemon\", \"skyrim\", \"starcraft\", \"tf2\", \"wow\"]\n",
    "trade = [\"Dota2Trade\", \"pokemontrades\", \"SteamGameSwap\", \"tf2trade\", \"Random_Acts_Of_Amazon\"]\n",
    "sports = [\"baseball\", \"CFB\", \"hockey\", \"MMA\", \"nba\", \"nfl\", \"soccer\"]\n",
    "\n",
    "link_aggregators = [\"AskReddit\", \"WTF\", \"pics\", \"gifs\", \"aww\", \"funny\", \"todayilearned\",\n",
    "                   \"AdviceAnimals\"]\n",
    "relationships = [\"AskMen\", \"AskWomen\", \"relationships\", \"relationship_advice\", \"OkCupid\"]\n",
    "\n",
    "plt.scatter(tsne_df[0].values, tsne_df[1].values, color=\"#dddddd\")\n",
    "plt.scatter(tsne_df[0].values, tsne_df[1].values, color=[\n",
    "    \"green\" if l in games else\n",
    "    \"gold\" if l in trade else\n",
    "    \"purple\" if l in relationships else\n",
    "    \"red\" if l in link_aggregators else\n",
    "    \"blue\" if l in sports else\n",
    "    \"#00000000\"\n",
    "    for l in tsne_df.index])\n",
    "plt.show()"
   ]
  },
  {
   "cell_type": "markdown",
   "metadata": {},
   "source": [
    "For instance, video games (e.g., tf2, DotA2; red) tend to group together, along with buy-sell subreddits (e.g., tf2trade, Dota2Trade, yellow), subreddits related to relationships (e.g., AskWomen, relationship_advice; green) and large default-subreddit hubs for sharing random links (e.g., pics, AskReddit; purple)."
   ]
  },
  {
   "cell_type": "markdown",
   "metadata": {},
   "source": [
    "There may be other interesting groupings that you may spot as well -- for instance, a vaguely right-wing MensRights cluster (with Libertarian, guns); a rather intriguing cluster consisting of politics, sex, business, etc."
   ]
  },
  {
   "cell_type": "markdown",
   "metadata": {},
   "source": [
    "Some topical groups are more diffuse -- for instance, sports-based subreddits (blue). Perhaps this is a limitation of our representation, or that these subreddits actually foster very different interactional dynamics."
   ]
  },
  {
   "cell_type": "code",
   "execution_count": null,
   "metadata": {},
   "outputs": [],
   "source": []
  },
  {
   "cell_type": "markdown",
   "metadata": {},
   "source": [
    "Another way to delve into these groupings is to look at nearest neighbors of subreddits, in terms of the embedding:"
   ]
  },
  {
   "cell_type": "code",
   "execution_count": 50,
   "metadata": {
    "scrolled": true
   },
   "outputs": [],
   "source": [
    "dists = pairwise_distances(subreddit_df.values, metric='cosine')\n",
    "flat_dists = np.ravel(dists)\n",
    "idx1, idx2 = np.unravel_index(np.arange(len(flat_dists)), dists.shape)\n",
    "pairwise_dist_df = pd.DataFrame.from_dict({'p1': subreddit_df.index[idx1],\n",
    "                                           'p2': subreddit_df.index[idx2],\n",
    "                                           'dist': flat_dists},\n",
    "                                           orient='columns')"
   ]
  },
  {
   "cell_type": "code",
   "execution_count": 51,
   "metadata": {},
   "outputs": [],
   "source": [
    "def print_nearest_neighbors(pairwise_dist_df, \n",
    "                           test_subreddits=[],\n",
    "                           top_N=10):\n",
    "    for subreddit in test_subreddits:\n",
    "        subset_df = pairwise_dist_df[(pairwise_dist_df.p1 == subreddit)\n",
    "                                 & (pairwise_dist_df.p2 != subreddit)]\n",
    "        print(subreddit)\n",
    "        print(subset_df.sort_values('dist')[['p2', 'dist']].head(top_N))\n",
    "        print()"
   ]
  },
  {
   "cell_type": "code",
   "execution_count": 52,
   "metadata": {
    "scrolled": true
   },
   "outputs": [
    {
     "name": "stdout",
     "output_type": "stream",
     "text": [
      "apple\n",
      "                    p2      dist\n",
      "3833  ShingekiNoKyojin  0.064355\n",
      "3810            Diablo  0.237938\n",
      "3884         singapore  0.278265\n",
      "3896     unitedkingdom  0.296576\n",
      "3888        technology  0.318410\n",
      "3837             anime  0.336249\n",
      "3898         worldnews  0.337585\n",
      "3870              news  0.345672\n",
      "3873       photography  0.352957\n",
      "3817        Guildwars2  0.413936\n",
      "\n",
      "politics\n",
      "                   p2      dist\n",
      "7707              CFB  0.093648\n",
      "7786           soccer  0.278990\n",
      "7762      hiphopheads  0.296813\n",
      "7745            books  0.306472\n",
      "7704        AskReddit  0.377294\n",
      "7727            Music  0.380204\n",
      "7705         AskWomen  0.406305\n",
      "7784        singapore  0.431269\n",
      "7788       technology  0.443600\n",
      "7756  fantasyfootball  0.468073\n",
      "\n",
      "leagueoflegends\n",
      "                   p2      dist\n",
      "6444         baseball  0.062662\n",
      "6493    todayilearned  0.162976\n",
      "6474             pics  0.182094\n",
      "6411            DotA2  0.205680\n",
      "6463           hockey  0.207365\n",
      "6481  rupaulsdragrace  0.208141\n",
      "6457            funny  0.208544\n",
      "6487        starcraft  0.222574\n",
      "6465         magicTCG  0.225004\n",
      "6468           movies  0.226094\n",
      "\n",
      "AskWomen\n",
      "                  p2      dist\n",
      "598        worldnews  0.162258\n",
      "545            books  0.218892\n",
      "570             news  0.311023\n",
      "577         politics  0.406305\n",
      "539       askscience  0.409038\n",
      "584        singapore  0.429271\n",
      "556  fantasyfootball  0.455718\n",
      "504        AskReddit  0.480711\n",
      "507              CFB  0.514848\n",
      "513        Economics  0.524743\n",
      "\n",
      "Music\n",
      "                 p2      dist\n",
      "2793  todayilearned  0.099075\n",
      "2720    LifeProTips  0.120374\n",
      "2736            WTF  0.129097\n",
      "2726   MovieDetails  0.131504\n",
      "2768         movies  0.131685\n",
      "2759           gifs  0.133869\n",
      "2757          funny  0.145609\n",
      "2734  SquaredCircle  0.149321\n",
      "2786         soccer  0.153401\n",
      "2752     cringepics  0.168228\n",
      "\n",
      "pics\n",
      "                 p2      dist\n",
      "7443            aww  0.036748\n",
      "7468         movies  0.052997\n",
      "7426   MovieDetails  0.079382\n",
      "7457          funny  0.086949\n",
      "7493  todayilearned  0.098030\n",
      "7451         cringe  0.112199\n",
      "7411          DotA2  0.112664\n",
      "7400  AdviceAnimals  0.119254\n",
      "7459           gifs  0.122317\n",
      "7452     cringepics  0.122725\n",
      "\n",
      "australia\n",
      "             p2      dist\n",
      "4265   magicTCG  0.038160\n",
      "4269        nba  0.150311\n",
      "4287  starcraft  0.179854\n",
      "4202    Android  0.192699\n",
      "4249       cars  0.202344\n",
      "4211      DotA2  0.216012\n",
      "4215     Frugal  0.253969\n",
      "4272    offbeat  0.283422\n",
      "4244   baseball  0.286793\n",
      "4251     cringe  0.295937\n",
      "\n",
      "Random_Acts_Of_Amazon\n",
      "                        p2      dist\n",
      "3266     malefashionadvice  0.141454\n",
      "3222       MakeupAddiction  0.201282\n",
      "3214               Fitness  0.253356\n",
      "3235       TwoXChromosomes  0.274888\n",
      "3230               OkCupid  0.307963\n",
      "3209        DebateReligion  0.329998\n",
      "3273           photography  0.363421\n",
      "3229                 NoFap  0.381370\n",
      "3254  electronic_cigarette  0.443374\n",
      "3208          Christianity  0.450864\n",
      "\n",
      "Bitcoin\n",
      "                p2      dist\n",
      "653           dayz  0.162085\n",
      "628         Naruto  0.188460\n",
      "694         travel  0.189510\n",
      "650     conspiracy  0.223139\n",
      "696  unitedkingdom  0.231258\n",
      "617     Guildwars2  0.234991\n",
      "610         Diablo  0.235560\n",
      "624     MensRights  0.306203\n",
      "673    photography  0.327558\n",
      "601  AmItheAsshole  0.328114\n",
      "\n",
      "MensRights\n",
      "                p2      dist\n",
      "2428        Naruto  0.117046\n",
      "2412         Drugs  0.139966\n",
      "2473   photography  0.166737\n",
      "2453          dayz  0.172513\n",
      "2441       atheism  0.203993\n",
      "2408  Christianity  0.244179\n",
      "2494        travel  0.269211\n",
      "2410        Diablo  0.283181\n",
      "2430       OkCupid  0.291532\n",
      "2406       Bitcoin  0.306203\n",
      "\n"
     ]
    }
   ],
   "source": [
    "print_nearest_neighbors(pairwise_dist_df, ['apple', 'politics', 'leagueoflegends',\n",
    "                                          'AskWomen', 'Music', 'pics',\n",
    "                                          'australia', 'Random_Acts_Of_Amazon',\n",
    "                                          'Bitcoin', 'MensRights'])"
   ]
  },
  {
   "cell_type": "markdown",
   "metadata": {},
   "source": [
    "We can also try to interpret each dimension of the embedding -- roughly speaking the threads, features and subreddits with extremal values along one dimension could be seen as characterizing a particular \"type\" of discussion, in terms of the discussion structure."
   ]
  },
  {
   "cell_type": "code",
   "execution_count": 53,
   "metadata": {},
   "outputs": [],
   "source": [
    "from IPython.display import display"
   ]
  },
  {
   "cell_type": "code",
   "execution_count": 54,
   "metadata": {},
   "outputs": [],
   "source": [
    "def display_dimension(dim, ascending=True, n=5):\n",
    "    top_threads = U_df.sort_values(dim, ascending=ascending).head(n)\n",
    "    display(top_threads)\n",
    "    display(V_df.sort_values(dim, ascending=ascending).head(n))\n",
    "    display(subreddit_df.sort_values(dim, ascending=ascending).head(n))\n",
    "    return top_threads.index"
   ]
  },
  {
   "cell_type": "code",
   "execution_count": null,
   "metadata": {},
   "outputs": [],
   "source": []
  },
  {
   "cell_type": "markdown",
   "metadata": {
    "collapsed": true
   },
   "source": [
    "For instance, the first latent dimension divides the space of Reddit discussions between focused dialogues involving 2 people who repeatedly interact, and \"expansionary\" threads involving multiple people who generally only engage once (as with the corresponding dimension discussed in the paper, this echoes the contrast explored in papers such as Backstrom et. al, 2013). At the subreddit level, we see a divide between subreddits that are selling things (perhaps the dialogues consist of a buyer and a seller) and large default link-sharing subreddits like AskReddit and pics."
   ]
  },
  {
   "cell_type": "code",
   "execution_count": 55,
   "metadata": {},
   "outputs": [
    {
     "data": {
      "text/html": [
       "<div>\n",
       "<style scoped>\n",
       "    .dataframe tbody tr th:only-of-type {\n",
       "        vertical-align: middle;\n",
       "    }\n",
       "\n",
       "    .dataframe tbody tr th {\n",
       "        vertical-align: top;\n",
       "    }\n",
       "\n",
       "    .dataframe thead th {\n",
       "        text-align: right;\n",
       "    }\n",
       "</style>\n",
       "<table border=\"1\" class=\"dataframe\">\n",
       "  <thead>\n",
       "    <tr style=\"text-align: right;\">\n",
       "      <th></th>\n",
       "      <th>0</th>\n",
       "      <th>1</th>\n",
       "      <th>2</th>\n",
       "      <th>3</th>\n",
       "      <th>4</th>\n",
       "      <th>5</th>\n",
       "      <th>6</th>\n",
       "      <th>subreddit</th>\n",
       "    </tr>\n",
       "  </thead>\n",
       "  <tbody>\n",
       "    <tr>\n",
       "      <th>e60kzm8</th>\n",
       "      <td>-0.963049</td>\n",
       "      <td>0.069720</td>\n",
       "      <td>0.012004</td>\n",
       "      <td>0.014941</td>\n",
       "      <td>-0.253023</td>\n",
       "      <td>-0.035112</td>\n",
       "      <td>0.045334</td>\n",
       "      <td>MensRights</td>\n",
       "    </tr>\n",
       "    <tr>\n",
       "      <th>e5q0p88</th>\n",
       "      <td>-0.963049</td>\n",
       "      <td>0.069720</td>\n",
       "      <td>0.012004</td>\n",
       "      <td>0.014941</td>\n",
       "      <td>-0.253023</td>\n",
       "      <td>-0.035112</td>\n",
       "      <td>0.045334</td>\n",
       "      <td>Christianity</td>\n",
       "    </tr>\n",
       "    <tr>\n",
       "      <th>e5m9w22</th>\n",
       "      <td>-0.963049</td>\n",
       "      <td>0.069720</td>\n",
       "      <td>0.012004</td>\n",
       "      <td>0.014941</td>\n",
       "      <td>-0.253023</td>\n",
       "      <td>-0.035112</td>\n",
       "      <td>0.045334</td>\n",
       "      <td>atheism</td>\n",
       "    </tr>\n",
       "    <tr>\n",
       "      <th>e5d4yag</th>\n",
       "      <td>-0.963049</td>\n",
       "      <td>0.069720</td>\n",
       "      <td>0.012004</td>\n",
       "      <td>0.014941</td>\n",
       "      <td>-0.253023</td>\n",
       "      <td>-0.035112</td>\n",
       "      <td>0.045334</td>\n",
       "      <td>Christianity</td>\n",
       "    </tr>\n",
       "    <tr>\n",
       "      <th>e59g1nk</th>\n",
       "      <td>-0.956579</td>\n",
       "      <td>0.050546</td>\n",
       "      <td>-0.028281</td>\n",
       "      <td>0.006982</td>\n",
       "      <td>-0.281819</td>\n",
       "      <td>-0.045649</td>\n",
       "      <td>-0.006813</td>\n",
       "      <td>Music</td>\n",
       "    </tr>\n",
       "    <tr>\n",
       "      <th>e6r4v8m</th>\n",
       "      <td>-0.935494</td>\n",
       "      <td>0.050881</td>\n",
       "      <td>0.060026</td>\n",
       "      <td>0.064334</td>\n",
       "      <td>-0.250417</td>\n",
       "      <td>-0.055384</td>\n",
       "      <td>0.220780</td>\n",
       "      <td>POLITIC</td>\n",
       "    </tr>\n",
       "    <tr>\n",
       "      <th>e5o4hip</th>\n",
       "      <td>-0.935494</td>\n",
       "      <td>0.050881</td>\n",
       "      <td>0.060026</td>\n",
       "      <td>0.064334</td>\n",
       "      <td>-0.250417</td>\n",
       "      <td>-0.055384</td>\n",
       "      <td>0.220780</td>\n",
       "      <td>gonewild</td>\n",
       "    </tr>\n",
       "    <tr>\n",
       "      <th>e68nlvd</th>\n",
       "      <td>-0.935494</td>\n",
       "      <td>0.050881</td>\n",
       "      <td>0.060026</td>\n",
       "      <td>0.064334</td>\n",
       "      <td>-0.250417</td>\n",
       "      <td>-0.055384</td>\n",
       "      <td>0.220780</td>\n",
       "      <td>Christianity</td>\n",
       "    </tr>\n",
       "    <tr>\n",
       "      <th>e5ojhdr</th>\n",
       "      <td>-0.935494</td>\n",
       "      <td>0.050881</td>\n",
       "      <td>0.060026</td>\n",
       "      <td>0.064334</td>\n",
       "      <td>-0.250417</td>\n",
       "      <td>-0.055384</td>\n",
       "      <td>0.220780</td>\n",
       "      <td>AskMen</td>\n",
       "    </tr>\n",
       "    <tr>\n",
       "      <th>e6jkkjw</th>\n",
       "      <td>-0.923477</td>\n",
       "      <td>0.027897</td>\n",
       "      <td>0.067691</td>\n",
       "      <td>0.035644</td>\n",
       "      <td>-0.276119</td>\n",
       "      <td>-0.062107</td>\n",
       "      <td>0.245887</td>\n",
       "      <td>POLITIC</td>\n",
       "    </tr>\n",
       "  </tbody>\n",
       "</table>\n",
       "</div>"
      ],
      "text/plain": [
       "                0         1         2         3         4         5         6  \\\n",
       "e60kzm8 -0.963049  0.069720  0.012004  0.014941 -0.253023 -0.035112  0.045334   \n",
       "e5q0p88 -0.963049  0.069720  0.012004  0.014941 -0.253023 -0.035112  0.045334   \n",
       "e5m9w22 -0.963049  0.069720  0.012004  0.014941 -0.253023 -0.035112  0.045334   \n",
       "e5d4yag -0.963049  0.069720  0.012004  0.014941 -0.253023 -0.035112  0.045334   \n",
       "e59g1nk -0.956579  0.050546 -0.028281  0.006982 -0.281819 -0.045649 -0.006813   \n",
       "e6r4v8m -0.935494  0.050881  0.060026  0.064334 -0.250417 -0.055384  0.220780   \n",
       "e5o4hip -0.935494  0.050881  0.060026  0.064334 -0.250417 -0.055384  0.220780   \n",
       "e68nlvd -0.935494  0.050881  0.060026  0.064334 -0.250417 -0.055384  0.220780   \n",
       "e5ojhdr -0.935494  0.050881  0.060026  0.064334 -0.250417 -0.055384  0.220780   \n",
       "e6jkkjw -0.923477  0.027897  0.067691  0.035644 -0.276119 -0.062107  0.245887   \n",
       "\n",
       "            subreddit  \n",
       "e60kzm8    MensRights  \n",
       "e5q0p88  Christianity  \n",
       "e5m9w22       atheism  \n",
       "e5d4yag  Christianity  \n",
       "e59g1nk         Music  \n",
       "e6r4v8m       POLITIC  \n",
       "e5o4hip      gonewild  \n",
       "e68nlvd  Christianity  \n",
       "e5ojhdr        AskMen  \n",
       "e6jkkjw       POLITIC  "
      ]
     },
     "metadata": {},
     "output_type": "display_data"
    },
    {
     "data": {
      "text/html": [
       "<div>\n",
       "<style scoped>\n",
       "    .dataframe tbody tr th:only-of-type {\n",
       "        vertical-align: middle;\n",
       "    }\n",
       "\n",
       "    .dataframe tbody tr th {\n",
       "        vertical-align: top;\n",
       "    }\n",
       "\n",
       "    .dataframe thead th {\n",
       "        text-align: right;\n",
       "    }\n",
       "</style>\n",
       "<table border=\"1\" class=\"dataframe\">\n",
       "  <thead>\n",
       "    <tr style=\"text-align: right;\">\n",
       "      <th></th>\n",
       "      <th>0</th>\n",
       "      <th>1</th>\n",
       "      <th>2</th>\n",
       "      <th>3</th>\n",
       "      <th>4</th>\n",
       "      <th>5</th>\n",
       "      <th>6</th>\n",
       "    </tr>\n",
       "  </thead>\n",
       "  <tbody>\n",
       "    <tr>\n",
       "      <th>prop-nonzero[indegree over C-&gt;C mid-thread responses]</th>\n",
       "      <td>-0.949239</td>\n",
       "      <td>-0.103855</td>\n",
       "      <td>0.199856</td>\n",
       "      <td>-0.090667</td>\n",
       "      <td>-0.140370</td>\n",
       "      <td>0.141015</td>\n",
       "      <td>-0.020169</td>\n",
       "    </tr>\n",
       "    <tr>\n",
       "      <th>prop-nonzero[indegree over C-&gt;C responses]</th>\n",
       "      <td>-0.945359</td>\n",
       "      <td>-0.101535</td>\n",
       "      <td>0.238357</td>\n",
       "      <td>-0.078078</td>\n",
       "      <td>-0.107471</td>\n",
       "      <td>0.146344</td>\n",
       "      <td>-0.010486</td>\n",
       "    </tr>\n",
       "    <tr>\n",
       "      <th>count[reciprocity motif over mid-thread]</th>\n",
       "      <td>-0.809754</td>\n",
       "      <td>0.105072</td>\n",
       "      <td>-0.429701</td>\n",
       "      <td>0.326016</td>\n",
       "      <td>0.036748</td>\n",
       "      <td>-0.019626</td>\n",
       "      <td>-0.201477</td>\n",
       "    </tr>\n",
       "    <tr>\n",
       "      <th>count[reciprocity motif]</th>\n",
       "      <td>-0.809152</td>\n",
       "      <td>0.173066</td>\n",
       "      <td>-0.206560</td>\n",
       "      <td>0.449086</td>\n",
       "      <td>0.224681</td>\n",
       "      <td>-0.060130</td>\n",
       "      <td>-0.129918</td>\n",
       "    </tr>\n",
       "    <tr>\n",
       "      <th>prop-nonzero[indegree over c-&gt;c responses]</th>\n",
       "      <td>-0.785073</td>\n",
       "      <td>-0.120033</td>\n",
       "      <td>-0.107805</td>\n",
       "      <td>-0.327275</td>\n",
       "      <td>-0.495253</td>\n",
       "      <td>0.058358</td>\n",
       "      <td>0.042901</td>\n",
       "    </tr>\n",
       "    <tr>\n",
       "      <th>prop-nonzero[indegree over c-&gt;c mid-thread responses]</th>\n",
       "      <td>-0.785073</td>\n",
       "      <td>-0.120033</td>\n",
       "      <td>-0.107805</td>\n",
       "      <td>-0.327275</td>\n",
       "      <td>-0.495253</td>\n",
       "      <td>0.058358</td>\n",
       "      <td>0.042901</td>\n",
       "    </tr>\n",
       "    <tr>\n",
       "      <th>prop-nonzero[indegree over C-&gt;c responses]</th>\n",
       "      <td>-0.785073</td>\n",
       "      <td>-0.120033</td>\n",
       "      <td>-0.107805</td>\n",
       "      <td>-0.327275</td>\n",
       "      <td>-0.495253</td>\n",
       "      <td>0.058358</td>\n",
       "      <td>0.042901</td>\n",
       "    </tr>\n",
       "    <tr>\n",
       "      <th>prop-nonzero[indegree over C-&gt;c mid-thread responses]</th>\n",
       "      <td>-0.785073</td>\n",
       "      <td>-0.120033</td>\n",
       "      <td>-0.107805</td>\n",
       "      <td>-0.327275</td>\n",
       "      <td>-0.495253</td>\n",
       "      <td>0.058358</td>\n",
       "      <td>0.042901</td>\n",
       "    </tr>\n",
       "    <tr>\n",
       "      <th>entropy[indegree over C-&gt;c responses]</th>\n",
       "      <td>-0.752376</td>\n",
       "      <td>-0.339732</td>\n",
       "      <td>-0.136839</td>\n",
       "      <td>-0.383152</td>\n",
       "      <td>-0.323822</td>\n",
       "      <td>0.136627</td>\n",
       "      <td>0.171623</td>\n",
       "    </tr>\n",
       "    <tr>\n",
       "      <th>is-present[reciprocity motif over mid-thread]</th>\n",
       "      <td>-0.746503</td>\n",
       "      <td>-0.388562</td>\n",
       "      <td>0.299804</td>\n",
       "      <td>0.194661</td>\n",
       "      <td>0.101641</td>\n",
       "      <td>-0.001041</td>\n",
       "      <td>-0.391977</td>\n",
       "    </tr>\n",
       "  </tbody>\n",
       "</table>\n",
       "</div>"
      ],
      "text/plain": [
       "                                                           0         1  \\\n",
       "prop-nonzero[indegree over C->C mid-thread resp... -0.949239 -0.103855   \n",
       "prop-nonzero[indegree over C->C responses]         -0.945359 -0.101535   \n",
       "count[reciprocity motif over mid-thread]           -0.809754  0.105072   \n",
       "count[reciprocity motif]                           -0.809152  0.173066   \n",
       "prop-nonzero[indegree over c->c responses]         -0.785073 -0.120033   \n",
       "prop-nonzero[indegree over c->c mid-thread resp... -0.785073 -0.120033   \n",
       "prop-nonzero[indegree over C->c responses]         -0.785073 -0.120033   \n",
       "prop-nonzero[indegree over C->c mid-thread resp... -0.785073 -0.120033   \n",
       "entropy[indegree over C->c responses]              -0.752376 -0.339732   \n",
       "is-present[reciprocity motif over mid-thread]      -0.746503 -0.388562   \n",
       "\n",
       "                                                           2         3  \\\n",
       "prop-nonzero[indegree over C->C mid-thread resp...  0.199856 -0.090667   \n",
       "prop-nonzero[indegree over C->C responses]          0.238357 -0.078078   \n",
       "count[reciprocity motif over mid-thread]           -0.429701  0.326016   \n",
       "count[reciprocity motif]                           -0.206560  0.449086   \n",
       "prop-nonzero[indegree over c->c responses]         -0.107805 -0.327275   \n",
       "prop-nonzero[indegree over c->c mid-thread resp... -0.107805 -0.327275   \n",
       "prop-nonzero[indegree over C->c responses]         -0.107805 -0.327275   \n",
       "prop-nonzero[indegree over C->c mid-thread resp... -0.107805 -0.327275   \n",
       "entropy[indegree over C->c responses]              -0.136839 -0.383152   \n",
       "is-present[reciprocity motif over mid-thread]       0.299804  0.194661   \n",
       "\n",
       "                                                           4         5  \\\n",
       "prop-nonzero[indegree over C->C mid-thread resp... -0.140370  0.141015   \n",
       "prop-nonzero[indegree over C->C responses]         -0.107471  0.146344   \n",
       "count[reciprocity motif over mid-thread]            0.036748 -0.019626   \n",
       "count[reciprocity motif]                            0.224681 -0.060130   \n",
       "prop-nonzero[indegree over c->c responses]         -0.495253  0.058358   \n",
       "prop-nonzero[indegree over c->c mid-thread resp... -0.495253  0.058358   \n",
       "prop-nonzero[indegree over C->c responses]         -0.495253  0.058358   \n",
       "prop-nonzero[indegree over C->c mid-thread resp... -0.495253  0.058358   \n",
       "entropy[indegree over C->c responses]              -0.323822  0.136627   \n",
       "is-present[reciprocity motif over mid-thread]       0.101641 -0.001041   \n",
       "\n",
       "                                                           6  \n",
       "prop-nonzero[indegree over C->C mid-thread resp... -0.020169  \n",
       "prop-nonzero[indegree over C->C responses]         -0.010486  \n",
       "count[reciprocity motif over mid-thread]           -0.201477  \n",
       "count[reciprocity motif]                           -0.129918  \n",
       "prop-nonzero[indegree over c->c responses]          0.042901  \n",
       "prop-nonzero[indegree over c->c mid-thread resp...  0.042901  \n",
       "prop-nonzero[indegree over C->c responses]          0.042901  \n",
       "prop-nonzero[indegree over C->c mid-thread resp...  0.042901  \n",
       "entropy[indegree over C->c responses]               0.171623  \n",
       "is-present[reciprocity motif over mid-thread]      -0.391977  "
      ]
     },
     "metadata": {},
     "output_type": "display_data"
    },
    {
     "data": {
      "text/html": [
       "<div>\n",
       "<style scoped>\n",
       "    .dataframe tbody tr th:only-of-type {\n",
       "        vertical-align: middle;\n",
       "    }\n",
       "\n",
       "    .dataframe tbody tr th {\n",
       "        vertical-align: top;\n",
       "    }\n",
       "\n",
       "    .dataframe thead th {\n",
       "        text-align: right;\n",
       "    }\n",
       "</style>\n",
       "<table border=\"1\" class=\"dataframe\">\n",
       "  <thead>\n",
       "    <tr style=\"text-align: right;\">\n",
       "      <th></th>\n",
       "      <th>0</th>\n",
       "      <th>1</th>\n",
       "      <th>2</th>\n",
       "      <th>3</th>\n",
       "      <th>4</th>\n",
       "      <th>5</th>\n",
       "      <th>6</th>\n",
       "    </tr>\n",
       "    <tr>\n",
       "      <th>subreddit</th>\n",
       "      <th></th>\n",
       "      <th></th>\n",
       "      <th></th>\n",
       "      <th></th>\n",
       "      <th></th>\n",
       "      <th></th>\n",
       "      <th></th>\n",
       "    </tr>\n",
       "  </thead>\n",
       "  <tbody>\n",
       "    <tr>\n",
       "      <th>electronic_cigarette</th>\n",
       "      <td>-0.947600</td>\n",
       "      <td>0.089287</td>\n",
       "      <td>-0.025684</td>\n",
       "      <td>0.180557</td>\n",
       "      <td>-0.022989</td>\n",
       "      <td>-0.031116</td>\n",
       "      <td>-0.243566</td>\n",
       "    </tr>\n",
       "    <tr>\n",
       "      <th>atheism</th>\n",
       "      <td>-0.944971</td>\n",
       "      <td>-0.132410</td>\n",
       "      <td>0.010816</td>\n",
       "      <td>0.035093</td>\n",
       "      <td>-0.034153</td>\n",
       "      <td>0.183621</td>\n",
       "      <td>0.230795</td>\n",
       "    </tr>\n",
       "    <tr>\n",
       "      <th>Christianity</th>\n",
       "      <td>-0.932033</td>\n",
       "      <td>-0.113561</td>\n",
       "      <td>0.126052</td>\n",
       "      <td>0.262578</td>\n",
       "      <td>0.121414</td>\n",
       "      <td>0.038306</td>\n",
       "      <td>-0.131808</td>\n",
       "    </tr>\n",
       "    <tr>\n",
       "      <th>DebateReligion</th>\n",
       "      <td>-0.882748</td>\n",
       "      <td>0.282781</td>\n",
       "      <td>-0.007018</td>\n",
       "      <td>0.290619</td>\n",
       "      <td>-0.070582</td>\n",
       "      <td>-0.050511</td>\n",
       "      <td>-0.220791</td>\n",
       "    </tr>\n",
       "    <tr>\n",
       "      <th>buildapc</th>\n",
       "      <td>-0.859962</td>\n",
       "      <td>0.261221</td>\n",
       "      <td>-0.372377</td>\n",
       "      <td>0.215269</td>\n",
       "      <td>-0.050439</td>\n",
       "      <td>-0.044139</td>\n",
       "      <td>-0.052271</td>\n",
       "    </tr>\n",
       "    <tr>\n",
       "      <th>teenagers</th>\n",
       "      <td>-0.850315</td>\n",
       "      <td>0.247178</td>\n",
       "      <td>-0.459673</td>\n",
       "      <td>-0.028138</td>\n",
       "      <td>-0.051477</td>\n",
       "      <td>-0.032562</td>\n",
       "      <td>0.008087</td>\n",
       "    </tr>\n",
       "    <tr>\n",
       "      <th>POLITIC</th>\n",
       "      <td>-0.846629</td>\n",
       "      <td>0.236965</td>\n",
       "      <td>-0.424698</td>\n",
       "      <td>0.144533</td>\n",
       "      <td>-0.085640</td>\n",
       "      <td>-0.080241</td>\n",
       "      <td>-0.109712</td>\n",
       "    </tr>\n",
       "    <tr>\n",
       "      <th>Drugs</th>\n",
       "      <td>-0.835943</td>\n",
       "      <td>-0.479926</td>\n",
       "      <td>0.109727</td>\n",
       "      <td>-0.047628</td>\n",
       "      <td>-0.216614</td>\n",
       "      <td>0.090222</td>\n",
       "      <td>0.038740</td>\n",
       "    </tr>\n",
       "    <tr>\n",
       "      <th>sex</th>\n",
       "      <td>-0.829892</td>\n",
       "      <td>-0.143341</td>\n",
       "      <td>-0.290393</td>\n",
       "      <td>0.444066</td>\n",
       "      <td>-0.019477</td>\n",
       "      <td>0.013011</td>\n",
       "      <td>0.093073</td>\n",
       "    </tr>\n",
       "    <tr>\n",
       "      <th>NoFap</th>\n",
       "      <td>-0.828169</td>\n",
       "      <td>0.071688</td>\n",
       "      <td>0.228992</td>\n",
       "      <td>0.223750</td>\n",
       "      <td>-0.041259</td>\n",
       "      <td>-0.193457</td>\n",
       "      <td>-0.409107</td>\n",
       "    </tr>\n",
       "  </tbody>\n",
       "</table>\n",
       "</div>"
      ],
      "text/plain": [
       "                             0         1         2         3         4  \\\n",
       "subreddit                                                                \n",
       "electronic_cigarette -0.947600  0.089287 -0.025684  0.180557 -0.022989   \n",
       "atheism              -0.944971 -0.132410  0.010816  0.035093 -0.034153   \n",
       "Christianity         -0.932033 -0.113561  0.126052  0.262578  0.121414   \n",
       "DebateReligion       -0.882748  0.282781 -0.007018  0.290619 -0.070582   \n",
       "buildapc             -0.859962  0.261221 -0.372377  0.215269 -0.050439   \n",
       "teenagers            -0.850315  0.247178 -0.459673 -0.028138 -0.051477   \n",
       "POLITIC              -0.846629  0.236965 -0.424698  0.144533 -0.085640   \n",
       "Drugs                -0.835943 -0.479926  0.109727 -0.047628 -0.216614   \n",
       "sex                  -0.829892 -0.143341 -0.290393  0.444066 -0.019477   \n",
       "NoFap                -0.828169  0.071688  0.228992  0.223750 -0.041259   \n",
       "\n",
       "                             5         6  \n",
       "subreddit                                 \n",
       "electronic_cigarette -0.031116 -0.243566  \n",
       "atheism               0.183621  0.230795  \n",
       "Christianity          0.038306 -0.131808  \n",
       "DebateReligion       -0.050511 -0.220791  \n",
       "buildapc             -0.044139 -0.052271  \n",
       "teenagers            -0.032562  0.008087  \n",
       "POLITIC              -0.080241 -0.109712  \n",
       "Drugs                 0.090222  0.038740  \n",
       "sex                   0.013011  0.093073  \n",
       "NoFap                -0.193457 -0.409107  "
      ]
     },
     "metadata": {},
     "output_type": "display_data"
    }
   ],
   "source": [
    "top_threads = display_dimension(0, n=10)"
   ]
  },
  {
   "cell_type": "code",
   "execution_count": null,
   "metadata": {},
   "outputs": [],
   "source": []
  }
 ],
 "metadata": {
  "kernelspec": {
   "display_name": "Python 3",
   "language": "python",
   "name": "python3"
  },
  "language_info": {
   "codemirror_mode": {
    "name": "ipython",
    "version": 3
   },
   "file_extension": ".py",
   "mimetype": "text/x-python",
   "name": "python",
   "nbconvert_exporter": "python",
   "pygments_lexer": "ipython3",
   "version": "3.7.6"
  }
 },
 "nbformat": 4,
 "nbformat_minor": 2
}
