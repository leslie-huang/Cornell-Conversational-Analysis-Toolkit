{
 "cells": [
  {
   "cell_type": "markdown",
   "metadata": {},
   "source": [
    "## Example 1"
   ]
  },
  {
   "cell_type": "markdown",
   "metadata": {},
   "source": [
    "This example uses the supreme court corpus to compute some simple information:\n",
    "- Which justices coordinate the most to others?\n",
    "- Which justices are coordinated to the most?"
   ]
  },
  {
   "cell_type": "code",
   "execution_count": 1,
   "metadata": {
    "collapsed": true
   },
   "outputs": [],
   "source": [
    "import convokit\n",
    "\n",
    "from convokit import Corpus"
   ]
  },
  {
   "cell_type": "code",
   "execution_count": 2,
   "metadata": {},
   "outputs": [],
   "source": [
    "# OPTION 1: DOWNLOAD CORPUS\n",
    "# UNCOMMENT THESE LINES TO DOWNLOAD CORPUS\n",
    "# DATA_DIR = '<YOUR DIRECTORY>'\n",
    "# ROOT_DIR = convokit.download('supreme-corpus', data_dir=DATA_DIR)\n",
    "\n",
    "# OPTION 2: READ PREVIOUSLY-DOWNLOADED CORPUS FROM DISK\n",
    "# UNCOMMENT THIS LINE AND REPLACE WITH THE DIRECTORY WHERE THE CORPUS IS LOCATED\n",
    "# ROOT_DIR = '<YOUR DIRECTORY>'\n",
    "\n",
    "corpus = Corpus(ROOT_DIR)"
   ]
  },
  {
   "cell_type": "code",
   "execution_count": 3,
   "metadata": {},
   "outputs": [
    {
     "name": "stdout",
     "output_type": "stream",
     "text": [
      "Justices, ranked by how much they coordinate to others:\n",
      "justice thomas 0.12485\n",
      "justice breyer 0.04606\n",
      "justice o'connor 0.04432\n",
      "justice souter 0.04118\n",
      "justice scalia 0.03885\n",
      "justice kennedy 0.03414\n",
      "justice stevens 0.03193\n",
      "justice ginsburg 0.02437\n",
      "chief justice rehnquist 0.01977\n",
      "chief justice roberts 0.01922\n",
      "justice alito 0.01045\n",
      "\n",
      "Justices, ranked by how much others coordinate to them:\n",
      "chief justice rehnquist 0.08959\n",
      "chief justice roberts 0.0664\n",
      "justice ginsburg 0.05971\n",
      "justice o'connor 0.056\n",
      "justice stevens 0.04988\n",
      "justice alito 0.0446\n",
      "justice kennedy 0.04276\n",
      "justice souter 0.04045\n",
      "justice scalia 0.03438\n",
      "justice thomas 0.03393\n",
      "justice breyer 0.02758\n",
      "\n"
     ]
    }
   ],
   "source": [
    "# compute coordination scores on this corpus\n",
    "coord = convokit.Coordination()\n",
    "coord.fit(corpus)\n",
    "\n",
    "# get coordination scores\n",
    "coord.transform(corpus)\n",
    "\n",
    "# get set of all justices\n",
    "justices = list(corpus.iter_speakers(lambda speaker: speaker.meta[\"is-justice\"]))\n",
    "# get set of all speakers\n",
    "everyone = list(corpus.iter_speakers())\n",
    "\n",
    "# compute coordination from each justice to everyone\n",
    "print(\"Justices, ranked by how much they coordinate to others:\")\n",
    "justices_to_everyone = coord.score(corpus, justices, everyone)\n",
    "for justice, score in sorted(justices_to_everyone.averages_by_speaker().items(),\n",
    "    key=lambda x: x[1], reverse=True):\n",
    "    print(justice.id, round(score, 5))\n",
    "print()\n",
    "\n",
    "# compute coordination from everyone to each justice\n",
    "print(\"Justices, ranked by how much others coordinate to them:\")\n",
    "everyone_to_justices = coord.score(corpus, everyone, justices, focus=\"targets\")\n",
    "for justice, score in sorted(everyone_to_justices.averages_by_speaker().items(), \n",
    "    key=lambda x: x[1], reverse=True):\n",
    "    print(justice.id, round(score, 5))\n",
    "print()"
   ]
  },
  {
   "cell_type": "markdown",
   "metadata": {},
   "source": [
    "## Example 2"
   ]
  },
  {
   "cell_type": "markdown",
   "metadata": {},
   "source": [
    "This example uses the supreme court corpus to reproduce figures 4 and 5 from\n",
    "  the echoes of power paper (https://www.cs.cornell.edu/~cristian/Echoes_of_power.html).\n",
    "\n",
    "The plots answer these questions:\n",
    "- Do lawyers coordinate more to justices than the other way around?\n",
    "- Do lawyers coordinate more to unfavorable or favorable justices?\n",
    "- Do unfavorable justices coordinate to lawyers more than favorable justices,\n",
    "    or vice versa?"
   ]
  },
  {
   "cell_type": "code",
   "execution_count": 4,
   "metadata": {
    "collapsed": true
   },
   "outputs": [],
   "source": [
    "from convokit import Utterance, Corpus, Coordination, download\n",
    "\n",
    "import matplotlib.pyplot as plt\n",
    "import matplotlib.patches as mpatches\n",
    "import numpy as np\n",
    "\n",
    "%matplotlib inline"
   ]
  },
  {
   "cell_type": "code",
   "execution_count": 6,
   "metadata": {
    "collapsed": true
   },
   "outputs": [],
   "source": [
    "# helper function to plot two coordination scores against each other as a chart,\n",
    "#   on aggregate and by coordination marker\n",
    "# a is a tuple (speakers, targets)\n",
    "# b is a tuple (speakers, targets)\n",
    "def make_chart(a_scores, b_scores, a_description, b_description, a_color=\"b\", b_color=\"g\"):\n",
    "    # get scores by marker and on aggregate\n",
    "    _, a_score_by_marker, a_agg1, a_agg2, a_agg3 = coord.score_report(corpus, a_scores)\n",
    "    _, b_score_by_marker, b_agg1, b_agg2, b_agg3 = coord.score_report(corpus, b_scores)\n",
    "\n",
    "    # the rest plots this data as a double bar graph\n",
    "    a_data_points = sorted(a_score_by_marker.items())\n",
    "    b_data_points = sorted(b_score_by_marker.items())\n",
    "    a_data_points, b_data_points = zip(*sorted(zip(a_data_points, b_data_points),\n",
    "        key=lambda x: x[0][1], reverse=True))\n",
    "    labels, a_data_points = zip(*a_data_points)\n",
    "    _, b_data_points = zip(*b_data_points)\n",
    "\n",
    "    labels = [\"aggregate 1\", \"aggregate 2\", \"aggregate 3\"] + list(labels)\n",
    "    a_data_points = [a_agg1, a_agg2, a_agg3] + list(a_data_points)\n",
    "    b_data_points = [b_agg1, b_agg2, b_agg3] + list(b_data_points)\n",
    "\n",
    "    fig, ax = plt.subplots()\n",
    "    ax.set_xticks(np.arange(len(a_data_points)) + 0.35)\n",
    "    ax.set_xticklabels(labels, rotation=\"vertical\")\n",
    "\n",
    "    ax.bar(np.arange(len(a_data_points)), a_data_points, 0.35, color=a_color)\n",
    "    ax.bar(np.arange(len(b_data_points)) + 0.35, b_data_points, 0.35, color=b_color)\n",
    "\n",
    "    a_scores_a1 = [s for s in a_scores if len(a_scores[s]) == 8]\n",
    "    b_scores_a1 = [s for s in b_scores\n",
    "            if len(b_scores[s]) == 8]\n",
    "    b_patch = mpatches.Patch(color=\"b\",\n",
    "                             label=a_description + \" (total: \" +\n",
    "                             str(len(a_scores_a1)) + \", \" +\n",
    "                             str(len(a_scores)) + \")\")\n",
    "    g_patch = mpatches.Patch(color=\"g\",\n",
    "                             label=b_description + \" (total: \"  +\n",
    "                             str(len(b_scores_a1)) + \", \" +\n",
    "                             str(len(b_scores)) + \")\")\n",
    "    plt.legend(handles=[b_patch, g_patch])\n",
    "\n",
    "    filename = str(a_description) + \" vs \" + str(b_description) + \".png\"\n",
    "    plt.savefig(filename, bbox_inches=\"tight\")\n",
    "    print('Created chart \"' + filename + '\"')"
   ]
  },
  {
   "cell_type": "code",
   "execution_count": 7,
   "metadata": {},
   "outputs": [
    {
     "name": "stdout",
     "output_type": "stream",
     "text": [
      "Created chart \"Target-unfavorable justice vs Target-favorable justice.png\"\n",
      "Created chart \"Speaker-unfavorable justice vs Speaker-favorable justice.png\"\n"
     ]
    },
    {
     "data": {
      "image/png": "[encoded data removed]",
      "text/plain": [
       "<Figure size 432x288 with 1 Axes>"
      ]
     },
     "metadata": {},
     "output_type": "display_data"
    },
    {
     "data": {
      "image/png": "[encoded data removed]",
      "text/plain": [
       "<Figure size 432x288 with 1 Axes>"
      ]
     },
     "metadata": {},
     "output_type": "display_data"
    }
   ],
   "source": [
    "# split speakers by case id and split the justices by whether they are favorable to the current presenting side\n",
    "# this treats the same person across two different cases as two different speakers\n",
    "split = [\"case\", \"justice-is-favorable\"]\n",
    "\n",
    "# create coordination object\n",
    "coord = Coordination()\n",
    "coord.fit(corpus)\n",
    "\n",
    "\n",
    "\n",
    "# get all groups of speakers that we want to compare\n",
    "everyone = list(corpus.iter_speakers())\n",
    "justices = list(corpus.iter_speakers(lambda speaker: speaker.meta[\"is-justice\"]))\n",
    "lawyers = list(corpus.iter_speakers(lambda speaker: not speaker.meta[\"is-justice\"]))\n",
    "\n",
    "# do lawyers coordinate more to unfavorable or favorable justices?\n",
    "make_chart(\n",
    "    coord.score(corpus, lawyers, justices, focus=\"targets\", target_thresh=6,\n",
    "        speaker_thresh=6, split_by_attribs=split,\n",
    "        target_attribs={\"justice-is-favorable\": False}),\n",
    "    coord.score(corpus, lawyers, justices, focus=\"targets\", target_thresh=6,\n",
    "        speaker_thresh=6, split_by_attribs=split,\n",
    "        target_attribs={\"justice-is-favorable\": True}),\n",
    "    \"Target-unfavorable justice\", \"Target-favorable justice\"\n",
    ")\n",
    "# do unfavorable justices coordinate to lawyers more than favorable justices, or\n",
    "#   vice versa?\n",
    "make_chart(\n",
    "    coord.score(corpus, justices, lawyers, target_thresh=6,\n",
    "        split_by_attribs=split,\n",
    "        speaker_attribs={\"justice-is-favorable\": False}),\n",
    "    coord.score(corpus, justices, lawyers, target_thresh=6,\n",
    "        split_by_attribs=split,\n",
    "        speaker_attribs={\"justice-is-favorable\": True}),\n",
    "    \"Speaker-unfavorable justice\", \"Speaker-favorable justice\"\n",
    ")"
   ]
  },
  {
   "cell_type": "markdown",
   "metadata": {},
   "source": [
    "## Example 3"
   ]
  },
  {
   "cell_type": "markdown",
   "metadata": {},
   "source": [
    "This example uses the wikipedia conversations corpus to reproduce figure 1\n",
    "  from the echoes of power paper (https://www.cs.cornell.edu/~cristian/Echoes_of_power.html).\n",
    "\n",
    "The plots answer these questions: \n",
    "- Do speakers on the whole coordinate more to admins or nonadmins?\n",
    "- Do admins coordinate to other people more than nonadmins do?"
   ]
  },
  {
   "cell_type": "code",
   "execution_count": 8,
   "metadata": {},
   "outputs": [],
   "source": [
    "# OPTION 1: DOWNLOAD CORPUS\n",
    "# UNCOMMENT THESE LINES TO DOWNLOAD CORPUS\n",
    "# DATA_DIR = '<YOUR DIRECTORY>'\n",
    "# ROOT_DIR = convokit.download('wiki-corpus', data_dir=DATA_DIR)\n",
    "\n",
    "# OPTION 2: READ PREVIOUSLY-DOWNLOADED CORPUS FROM DISK\n",
    "# UNCOMMENT THIS LINE AND REPLACE WITH THE DIRECTORY WHERE THE CORPUS IS LOCATED\n",
    "# ROOT_DIR = '<YOUR DIRECTORY>'\n",
    "\n",
    "corpus = Corpus(ROOT_DIR)\n",
    "split = [\"is_admin\"]"
   ]
  },
  {
   "cell_type": "code",
   "execution_count": 9,
   "metadata": {
    "collapsed": true
   },
   "outputs": [],
   "source": [
    "# helper function to plot two coordination scores against each other as a chart,\n",
    "#   on aggregate and by coordination marker\n",
    "# a is a tuple (speakers, targets)\n",
    "# b is a tuple (speakers, targets)\n",
    "def make_chart(a_scores, b_scores, a_description, b_description, a_color=\"b\", b_color=\"g\"):\n",
    "    # get scores by marker and on aggregate\n",
    "    _, a_score_by_marker, a_agg1, a_agg2, a_agg3 = coord.score_report(corpus, a_scores)\n",
    "    _, b_score_by_marker, b_agg1, b_agg2, b_agg3 = coord.score_report(corpus, b_scores)\n",
    "\n",
    "    # the rest plots this data as a double bar graph\n",
    "    a_data_points = sorted(a_score_by_marker.items())\n",
    "    b_data_points = sorted(b_score_by_marker.items())\n",
    "    a_data_points, b_data_points = zip(*sorted(zip(a_data_points, b_data_points),\n",
    "        key=lambda x: x[0][1], reverse=True))\n",
    "    labels, a_data_points = zip(*a_data_points)\n",
    "    _, b_data_points = zip(*b_data_points)\n",
    "\n",
    "    labels = [\"aggregate 1\", \"aggregate 2\", \"aggregate 3\"] + list(labels)\n",
    "    a_data_points = [a_agg1, a_agg2, a_agg3] + list(a_data_points)\n",
    "    b_data_points = [b_agg1, b_agg2, b_agg3] + list(b_data_points)\n",
    "\n",
    "    fig, ax = plt.subplots()\n",
    "    ax.set_xticks(np.arange(len(a_data_points)) + 0.35)\n",
    "    ax.set_xticklabels(labels, rotation=\"vertical\")\n",
    "\n",
    "    ax.bar(np.arange(len(a_data_points)), a_data_points, 0.35, color=a_color)\n",
    "    ax.bar(np.arange(len(b_data_points)) + 0.35, b_data_points, 0.35, color=b_color)\n",
    "\n",
    "    a_scores_a1 = [s for s in a_scores if len(a_scores[s]) == 8]\n",
    "    b_scores_a1 = [s for s in b_scores\n",
    "            if len(b_scores[s]) == 8]\n",
    "    b_patch = mpatches.Patch(color=\"b\",\n",
    "                             label=a_description + \" (total: \" +\n",
    "                             str(len(a_scores_a1)) + \", \" +\n",
    "                             str(len(a_scores)) + \")\")\n",
    "    g_patch = mpatches.Patch(color=\"g\",\n",
    "                             label=b_description + \" (total: \"  +\n",
    "                             str(len(b_scores_a1)) + \", \" +\n",
    "                             str(len(b_scores)) + \")\")\n",
    "    plt.legend(handles=[b_patch, g_patch])\n",
    "\n",
    "    filename = str(a_description) + \" vs \" + str(b_description) + \".png\"\n",
    "    plt.savefig(filename, bbox_inches=\"tight\")\n",
    "    print('Created chart \"' + filename + '\"')"
   ]
  },
  {
   "cell_type": "code",
   "execution_count": 10,
   "metadata": {},
   "outputs": [
    {
     "name": "stdout",
     "output_type": "stream",
     "text": [
      "Created chart \"Target-admins vs Target-nonadmins.png\"\n",
      "Created chart \"Speaker-admins vs Speaker-nonadmins.png\"\n"
     ]
    },
    {
     "data": {
      "image/png": "[encoded data removed]",
      "text/plain": [
       "<Figure size 432x288 with 1 Axes>"
      ]
     },
     "metadata": {},
     "output_type": "display_data"
    },
    {
     "data": {
      "image/png": "[encoded data removed]",
      "text/plain": [
       "<Figure size 432x288 with 1 Axes>"
      ]
     },
     "metadata": {},
     "output_type": "display_data"
    }
   ],
   "source": [
    "# create coordination object\n",
    "coord = Coordination()\n",
    "coord.fit(corpus)\n",
    "\n",
    "# get all groups of speakers that we want to compare\n",
    "everyone = set(corpus.iter_speakers())\n",
    "admins = set(corpus.iter_speakers(lambda speaker: speaker.meta[\"is-admin\"]))\n",
    "nonadmins = everyone - admins\n",
    "\n",
    "# do speakers on the whole coordinate more to admins or nonadmins?\n",
    "make_chart(\n",
    "    coord.score(corpus, everyone, admins, focus=\"targets\", target_thresh=7,\n",
    "        split_by_attribs=split),\n",
    "    coord.score(corpus, everyone, nonadmins, focus=\"targets\", target_thresh=7,\n",
    "        split_by_attribs=split),\n",
    "    \"Target-admins\", \"Target-nonadmins\"\n",
    ")\n",
    "# do admins coordinate to other people more than nonadmins do?\n",
    "make_chart(\n",
    "    coord.score(corpus, admins, everyone, speaker_thresh=7, target_thresh=7,\n",
    "        split_by_attribs=split),\n",
    "    coord.score(corpus, nonadmins, everyone, speaker_thresh=7, target_thresh=7,\n",
    "        split_by_attribs=split),\n",
    "    \"Speaker-admins\", \"Speaker-nonadmins\"\n",
    ")"
   ]
  },
  {
   "cell_type": "code",
   "execution_count": null,
   "metadata": {
    "collapsed": true
   },
   "outputs": [],
   "source": []
  },
  {
   "cell_type": "code",
   "execution_count": null,
   "metadata": {
    "collapsed": true
   },
   "outputs": [],
   "source": []
  }
 ],
 "metadata": {
  "kernelspec": {
   "display_name": "Python 3",
   "language": "python",
   "name": "python3"
  },
  "language_info": {
   "codemirror_mode": {
    "name": "ipython",
    "version": 3
   },
   "file_extension": ".py",
   "mimetype": "text/x-python",
   "name": "python",
   "nbconvert_exporter": "python",
   "pygments_lexer": "ipython3",
   "version": "3.6.3"
  }
 },
 "nbformat": 4,
 "nbformat_minor": 2
}
