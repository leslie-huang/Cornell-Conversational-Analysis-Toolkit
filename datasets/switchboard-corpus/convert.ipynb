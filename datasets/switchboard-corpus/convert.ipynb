{
 "cells": [
  {
   "cell_type": "markdown",
   "metadata": {},
   "source": [
    "### Code to Convert the Switchboard dataset into Convokit format"
   ]
  },
  {
   "cell_type": "code",
   "execution_count": 1,
   "metadata": {},
   "outputs": [],
   "source": [
    "import os\n",
    "os.chdir(\"../../\") # import convokit\n",
    "from convokit import Corpus, Speaker, Utterance\n",
    "os.chdir(\"datasets/switchboard-corpus\") # then come back for swda\n",
    "from swda import Transcript\n",
    "import glob"
   ]
  },
  {
   "cell_type": "markdown",
   "metadata": {},
   "source": [
    "#### Create Speakers\n",
    "\n",
    "Each caller is considered a user, and there are total of 440 different callers in this dataset. Each user is marked with a numerical id, and the metadata for each user includes the following information:\n",
    "\n",
    "- Gender (str): MALE or FEMALE\n",
    "- Education (int): 0, 1, 2, 3, 9\n",
    "- Birth Year (int): YYYY\n",
    "- Dialect Area (str): MIXED, NEW ENGLAND, NORTH MIDLAND, NORTHERN, NYC, SOUTH MIDLAND, SOUTHERN, UNK, WESTERN"
   ]
  },
  {
   "cell_type": "code",
   "execution_count": 2,
   "metadata": {},
   "outputs": [],
   "source": [
    "files = glob.glob(\"./swda/*/sw_*.utt.csv\") # Switchboard utterance files\n",
    "user_meta = {}\n",
    "\n",
    "for file in files:\n",
    "    trans = Transcript(file, './swda/swda-metadata.csv')\n",
    "    user_meta[str(trans.from_caller)] = {\"sex\": trans.from_caller_sex,\n",
    "                                    \"education\": trans.from_caller_education,\n",
    "                                    \"birth_year\": trans.from_caller_birth_year,\n",
    "                                    \"dialect_area\": trans.from_caller_dialect_area}\n",
    "    user_meta[str(trans.to_caller)] = {\"sex\": trans.to_caller_sex,\n",
    "                                  \"education\": trans.to_caller_education,\n",
    "                                  \"birth_year\": trans.to_caller_birth_year,\n",
    "                                  \"dialect_area\": trans.to_caller_dialect_area}"
   ]
  },
  {
   "cell_type": "markdown",
   "metadata": {},
   "source": [
    "Create a Speaker object for each unique user in the dataset"
   ]
  },
  {
   "cell_type": "code",
   "execution_count": 3,
   "metadata": {},
   "outputs": [],
   "source": [
    "corpus_speakers = {k: Speaker(id = k, meta = v) for k,v in user_meta.items()}"
   ]
  },
  {
   "cell_type": "markdown",
   "metadata": {},
   "source": [
    "Check number of users in the dataset"
   ]
  },
  {
   "cell_type": "code",
   "execution_count": 4,
   "metadata": {},
   "outputs": [
    {
     "name": "stdout",
     "output_type": "stream",
     "text": [
      "Number of users in the data = 440\n"
     ]
    }
   ],
   "source": [
    "print(\"Number of users in the data = {}\".format(len(corpus_speakers)))"
   ]
  },
  {
   "cell_type": "code",
   "execution_count": 5,
   "metadata": {
    "scrolled": true
   },
   "outputs": [
    {
     "data": {
      "text/plain": [
       "{'sex': 'FEMALE',\n",
       " 'education': 2,\n",
       " 'birth_year': 1962,\n",
       " 'dialect_area': 'WESTERN'}"
      ]
     },
     "execution_count": 5,
     "metadata": {},
     "output_type": "execute_result"
    }
   ],
   "source": [
    "# Example metadata from user 1632\n",
    "corpus_speakers['1632'].meta"
   ]
  },
  {
   "cell_type": "markdown",
   "metadata": {},
   "source": [
    "#### Create Utterances\n",
    "\n",
    "Utterances are found in the \"text\" field of each Transcript object. There are 221,616 utterances in total.\n",
    "\n",
    "Each Utterance object has the following fields:\n",
    "\n",
    "- id (str): the unique id of the utterance\n",
    "- user (Speaker): the Speaker giving the utterance\n",
    "- root (str): id of the root utterance of the conversation\n",
    "- reply_to (str): id of the utterance this replies to\n",
    "- timestamp: timestamp of the utterance (not applicable in Switchboard)\n",
    "- text (str): text of the utterance\n",
    "- metadata\n",
    "    - tag (str): the DAMSL act-tag of the utterance\n",
    "    - pos (str): the part-of-speech tagged portion of the utterance\n",
    "    - trees (nltk Tree): parsed tree of the utterance"
   ]
  },
  {
   "cell_type": "code",
   "execution_count": 6,
   "metadata": {},
   "outputs": [],
   "source": [
    "utterance_corpus = {}\n",
    "\n",
    "# Iterate thru each transcript\n",
    "for file in files:\n",
    "    \n",
    "    trans = Transcript(file, './swda/swda-metadata.csv')\n",
    "    utts = trans.utterances\n",
    "    root = str(trans.conversation_no) + \"-0\" # Get id of root utterance\n",
    "    \n",
    "    recent_A = None\n",
    "    recent_B = None\n",
    "    \n",
    "    # Iterate thru each utterance in transcript\n",
    "    last_speaker = ''\n",
    "    cur_speaker = ''\n",
    "    all_text = ''\n",
    "    text_pos = ''\n",
    "    text_tag_list = []\n",
    "    counter = 0\n",
    "    first_utt = True\n",
    "    \n",
    "    for i, utt in enumerate(utts):\n",
    "        \n",
    "        idx = str(utt.conversation_no) + \"-\" + str(counter)\n",
    "        text = utt.text\n",
    "        \n",
    "        # Check which user is talking\n",
    "        if 'A' in utt.caller:\n",
    "            recent_A = idx;\n",
    "            user = str(trans.from_caller)\n",
    "            cur_speaker = user\n",
    "        else:\n",
    "            recent_B = idx;\n",
    "            user = str(trans.to_caller)\n",
    "            cur_speaker = user\n",
    "        \n",
    "        # Only add as an utterance if the user has finished talking\n",
    "        if cur_speaker != last_speaker and i > 0:\n",
    "                \n",
    "            # Put act-tag and POS information into metadata\n",
    "            meta = {'tag': text_tag_list,\n",
    "                   }\n",
    "\n",
    "            # For reply_to, find the most recent utterance from the other caller\n",
    "            if first_utt:\n",
    "                reply_to = None\n",
    "                first_utt = False\n",
    "            elif 'A' in utt.caller:\n",
    "                reply_to = recent_B\n",
    "            else:\n",
    "                reply_to = recent_A\n",
    "            \n",
    "                \n",
    "            utterance_corpus[idx] = Utterance(idx, corpus_speakers[user], root,\n",
    "                                              reply_to, None, all_text, meta)\n",
    "\n",
    "            # Update with the current utterance information\n",
    "            # This is the first utterance of the next statement\n",
    "            all_text = utt.text\n",
    "            text_pos = utt.pos\n",
    "            text_tag_list = [(utt.text, utt.act_tag)]\n",
    "            \n",
    "            counter += 1\n",
    "            \n",
    "        else:\n",
    "            # Otherwise, combine all the text from the user\n",
    "            all_text += utt.text\n",
    "            text_pos += utt.pos\n",
    "            text_tag_list.append((utt.text, utt.act_tag))\n",
    "            \n",
    "        last_speaker = cur_speaker\n",
    "        last_speaker_idx = idx"
   ]
  },
  {
   "cell_type": "code",
   "execution_count": 7,
   "metadata": {},
   "outputs": [],
   "source": [
    "utterance_list = [utterance for k,utterance in utterance_corpus.items()]"
   ]
  },
  {
   "cell_type": "markdown",
   "metadata": {},
   "source": [
    "Check number of utterances in the dataset"
   ]
  },
  {
   "cell_type": "code",
   "execution_count": 8,
   "metadata": {},
   "outputs": [
    {
     "name": "stdout",
     "output_type": "stream",
     "text": [
      "Number of utterances in the data = 122646\n"
     ]
    }
   ],
   "source": [
    "print(\"Number of utterances in the data = {}\".format(len(utterance_corpus)))"
   ]
  },
  {
   "cell_type": "code",
   "execution_count": 9,
   "metadata": {},
   "outputs": [
    {
     "data": {
      "text/plain": [
       "Utterance({'id': '4325-2', 'speaker': Speaker([('id', '1519')]), 'conversation_id': '4325-0', 'reply_to': '4325-1', 'timestamp': None, 'text': 'What kind of experience [ do you, + do you ] have, then with child care? /', 'meta': {'tag': [('What kind of experience [ do you, + do you ] have, then with child care? /', '+')]}})"
      ]
     },
     "execution_count": 9,
     "metadata": {},
     "output_type": "execute_result"
    }
   ],
   "source": [
    "# Example utterance object\n",
    "utterance_corpus['4325-2']"
   ]
  },
  {
   "cell_type": "markdown",
   "metadata": {},
   "source": [
    "#### Create corpus from list of utterances"
   ]
  },
  {
   "cell_type": "code",
   "execution_count": 10,
   "metadata": {},
   "outputs": [
    {
     "name": "stdout",
     "output_type": "stream",
     "text": [
      "number of conversations in the dataset = 1155\n"
     ]
    }
   ],
   "source": [
    "switchboard_corpus = Corpus(utterances=utterance_list, version=1)\n",
    "print(\"number of conversations in the dataset = {}\".format(len(switchboard_corpus.get_conversation_ids())))"
   ]
  },
  {
   "cell_type": "markdown",
   "metadata": {},
   "source": [
    "### Create Conversations"
   ]
  },
  {
   "cell_type": "code",
   "execution_count": 11,
   "metadata": {},
   "outputs": [],
   "source": [
    "# Set conversation Metadata\n",
    "for i, c in enumerate(switchboard_corpus.conversations):\n",
    "    trans = Transcript(files[i], './swda/swda-metadata.csv')\n",
    "    idx = str(trans.conversation_no)\n",
    "    \n",
    "    convo = switchboard_corpus.conversations[c]\n",
    "    \n",
    "    convo.meta['filename'] = files[i]\n",
    "    date = trans.talk_day\n",
    "    convo_date = \"%d-%d-%d\" % (date.year, date.month, date.day)\n",
    "    convo.meta['talk_day'] = convo_date\n",
    "    convo.meta['topic_description'] = trans.topic_description\n",
    "    convo.meta['length'] = trans.length\n",
    "    convo.meta['prompt'] = trans.prompt\n",
    "    convo.meta['from_caller'] = str(trans.from_caller)\n",
    "    convo.meta['to_caller'] = str(trans.to_caller)"
   ]
  },
  {
   "cell_type": "code",
   "execution_count": 12,
   "metadata": {},
   "outputs": [
    {
     "name": "stdout",
     "output_type": "stream",
     "text": [
      "{'filename': './swda/sw13utt/sw_1325_4384.utt.csv', 'talk_day': '1992-3-25', 'topic_description': 'CHILD CARE', 'length': 5, 'prompt': 'FIND OUT WHAT CRITERIA THE OTHER CALLER WOULD USE IN SELECTING CHILD CARE SERVICES FOR A PRESCHOOLER.  IS IT EASY OR DIFFICULT TO FIND SUCH CARE?', 'from_caller': '1653', 'to_caller': '1646'}\n"
     ]
    }
   ],
   "source": [
    "print(switchboard_corpus.conversations['4384-0'].meta)"
   ]
  },
  {
   "cell_type": "markdown",
   "metadata": {},
   "source": [
    "#### Update corpus level metadata"
   ]
  },
  {
   "cell_type": "code",
   "execution_count": 13,
   "metadata": {},
   "outputs": [],
   "source": [
    "switchboard_meta = {}\n",
    "for file in files:\n",
    "    trans = Transcript(file, './swda/swda-metadata.csv')\n",
    "    idx = str(trans.conversation_no)\n",
    "    switchboard_meta[idx] = {}\n",
    "    \n",
    "switchboard_corpus.meta['metadata'] = switchboard_meta\n",
    "switchboard_corpus.meta['name'] = \"The Switchboard Dialog Act Corpus\""
   ]
  },
  {
   "cell_type": "code",
   "execution_count": 14,
   "metadata": {},
   "outputs": [
    {
     "data": {
      "text/plain": [
       "{}"
      ]
     },
     "execution_count": 14,
     "metadata": {},
     "output_type": "execute_result"
    }
   ],
   "source": [
    "switchboard_corpus.meta['metadata']['4325']"
   ]
  },
  {
   "cell_type": "markdown",
   "metadata": {},
   "source": [
    "#### Save created corpus"
   ]
  },
  {
   "cell_type": "code",
   "execution_count": 15,
   "metadata": {},
   "outputs": [],
   "source": [
    "switchboard_corpus.dump(\"corpus\", base_path = \"./\")"
   ]
  },
  {
   "cell_type": "markdown",
   "metadata": {},
   "source": [
    "Check if available info from dataset can be viewed directly"
   ]
  },
  {
   "cell_type": "code",
   "execution_count": 16,
   "metadata": {},
   "outputs": [
    {
     "data": {
      "text/plain": [
       "{'utterances-index': {'tag': \"<class 'list'>\"},\n",
       " 'users-index': {'sex': \"<class 'str'>\",\n",
       "  'education': \"<class 'int'>\",\n",
       "  'birth_year': \"<class 'int'>\",\n",
       "  'dialect_area': \"<class 'str'>\"},\n",
       " 'conversations-index': {'filename': \"<class 'str'>\",\n",
       "  'talk_day': \"<class 'str'>\",\n",
       "  'topic_description': \"<class 'str'>\",\n",
       "  'length': \"<class 'int'>\",\n",
       "  'prompt': \"<class 'str'>\",\n",
       "  'from_caller': \"<class 'str'>\",\n",
       "  'to_caller': \"<class 'str'>\"},\n",
       " 'overall-index': {'metadata': \"<class 'dict'>\", 'name': \"<class 'str'>\"},\n",
       " 'version': 1}"
      ]
     },
     "execution_count": 16,
     "metadata": {},
     "output_type": "execute_result"
    }
   ],
   "source": [
    "from convokit import meta_index\n",
    "meta_index(filename = \"./corpus\")"
   ]
  },
  {
   "cell_type": "code",
   "execution_count": 17,
   "metadata": {},
   "outputs": [
    {
     "name": "stdout",
     "output_type": "stream",
     "text": [
      "Number of Speakers: 440\n",
      "Number of Utterances: 122646\n",
      "Number of Conversations: 1155\n"
     ]
    }
   ],
   "source": [
    "switchboard_corpus = Corpus(filename = \"./corpus\")\n",
    "switchboard_corpus.print_summary_stats()"
   ]
  },
  {
   "cell_type": "code",
   "execution_count": null,
   "metadata": {},
   "outputs": [],
   "source": []
  }
 ],
 "metadata": {
  "kernelspec": {
   "display_name": "py37",
   "language": "python",
   "name": "py37"
  },
  "language_info": {
   "codemirror_mode": {
    "name": "ipython",
    "version": 3
   },
   "file_extension": ".py",
   "mimetype": "text/x-python",
   "name": "python",
   "nbconvert_exporter": "python",
   "pygments_lexer": "ipython3",
   "version": "3.7.3"
  }
 },
 "nbformat": 4,
 "nbformat_minor": 4
}
