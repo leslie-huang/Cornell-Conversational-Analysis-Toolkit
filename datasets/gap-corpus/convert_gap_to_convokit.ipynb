{
 "cells": [
  {
   "cell_type": "markdown",
   "metadata": {},
   "source": [
    "## Converting the GAP corpus into ConvoKit Format"
   ]
  },
  {
   "cell_type": "markdown",
   "metadata": {},
   "source": [
    "This notebook describes how to convert the GAP corpus into a corpus with ConvoKit format.\n",
    "\n",
    "The original version of the GAP corpus can be downloaded from:\n",
    "\n",
    "https://github.com/gmfraser/gap-corpus\n"
   ]
  },
  {
   "cell_type": "markdown",
   "metadata": {},
   "source": [
    "### The GAP corpus\n",
    "\n",
    "The Group Affect and Performance (GAP) Corpus has been collected at University of the Fraser Valley (UFV, Canada). The original dataset comprises of 28 group meetings of two to four group members, with a total of 84 participants. Group sizes vary from two to four participants. All the recorded conversations are in English. \n",
    "\n",
    "Group members must complete a Winter Survival Task (WST), a group decision-making exercise where participants must rank 15 items according to their importance in a hypothetical plane crash scenario. Participants first rank the items individually. Then, each group was given a maximum of 15 minutes to complete the WST. \n",
    "\n",
    "The original version of the GAP corpus can be downloaded from https://github.com/gmfraser/gap-corpus.\n",
    "For this notebook, we are using the following files:\n",
    "- <b>Individual-Level Meeting Data.xlsx</b> contains informnation about each speaker.\n",
    "- <b>Group-Level Meeting Data.xlsx</b> contains informnation about each group.\n",
    "- The folder <b>Merged/No-Punctuation/</b> contains 28  transcripts including the metadata about each utterance."
   ]
  },
  {
   "cell_type": "code",
   "execution_count": 1,
   "metadata": {},
   "outputs": [],
   "source": [
    "from tqdm import tqdm \n",
    "import pandas as pd\n",
    "from convokit import Corpus, Speaker, Utterance, download\n",
    "import re\n",
    "import glob, os, csv"
   ]
  },
  {
   "cell_type": "markdown",
   "metadata": {},
   "source": [
    "### 1. Creating Speakers\n",
    "\n",
    "There are a total of 28 speakers in the GAP corpus.\n",
    "We will read off the metadata for each speaker from <b>Individual-Level Meeting Data.xlsx</b>\n",
    "\n",
    "We include the following information for each participant:\n",
    "- Year at UFV\n",
    "- Gender\n",
    "- English: first or second language\n",
    "- AIS: Absolute Individual Score\n",
    "- AII: Absolute Individual Influence\n",
    "- Ind_TE: Time Expectations \n",
    "- Ind_WW: Worked Well Together\n",
    "- Ind_TM: Time Management\n",
    "- Ind_Eff: Efficiency\n",
    "- Ind_QW: Overall Quality of Work\n",
    "- Ind_Sat: Overall Satisfaction \n",
    "- Ind_Lead: Leadership\n",
    "- Group Number"
   ]
  },
  {
   "cell_type": "code",
   "execution_count": 2,
   "metadata": {},
   "outputs": [],
   "source": [
    "## replace with your directory\n",
    "speaker_data = \"gap-corpus-master/Final-Corpus-Transcripts-Annotations-Data/Group-Individual-Data/Individual-Level Meeting Data.xlsx\"\n",
    "speaker_df = pd.read_excel(speaker_data)\n",
    "#we add a additional column to indicate which group the speaker belongs to\n",
    "speaker_df[\"Group Number\"] = speaker_df[\"Group Member\"].str.split('.').str[0]"
   ]
  },
  {
   "cell_type": "code",
   "execution_count": 3,
   "metadata": {},
   "outputs": [
    {
     "data": {
      "text/html": [
       "<div>\n",
       "<style scoped>\n",
       "    .dataframe tbody tr th:only-of-type {\n",
       "        vertical-align: middle;\n",
       "    }\n",
       "\n",
       "    .dataframe tbody tr th {\n",
       "        vertical-align: top;\n",
       "    }\n",
       "\n",
       "    .dataframe thead th {\n",
       "        text-align: right;\n",
       "    }\n",
       "</style>\n",
       "<table border=\"1\" class=\"dataframe\">\n",
       "  <thead>\n",
       "    <tr style=\"text-align: right;\">\n",
       "      <th></th>\n",
       "      <th>Group Member</th>\n",
       "      <th>Year at UFV</th>\n",
       "      <th>Gender</th>\n",
       "      <th>English</th>\n",
       "      <th>AIS</th>\n",
       "      <th>AII</th>\n",
       "      <th>Ind_TE</th>\n",
       "      <th>Ind_WW</th>\n",
       "      <th>Ind_TM</th>\n",
       "      <th>Ind_Eff</th>\n",
       "      <th>Ind_QW</th>\n",
       "      <th>Ind_Sat</th>\n",
       "      <th>Ind_Lead</th>\n",
       "      <th>Group Number</th>\n",
       "    </tr>\n",
       "  </thead>\n",
       "  <tbody>\n",
       "    <tr>\n",
       "      <th>0</th>\n",
       "      <td>1.Blue</td>\n",
       "      <td>1</td>\n",
       "      <td>2</td>\n",
       "      <td>1</td>\n",
       "      <td>64.0</td>\n",
       "      <td>76.0</td>\n",
       "      <td>5</td>\n",
       "      <td>5.0</td>\n",
       "      <td>5.0</td>\n",
       "      <td>5.0</td>\n",
       "      <td>5.0</td>\n",
       "      <td>5.0</td>\n",
       "      <td>2</td>\n",
       "      <td>1</td>\n",
       "    </tr>\n",
       "    <tr>\n",
       "      <th>1</th>\n",
       "      <td>1.Pink</td>\n",
       "      <td>4</td>\n",
       "      <td>2</td>\n",
       "      <td>1</td>\n",
       "      <td>88.0</td>\n",
       "      <td>40.0</td>\n",
       "      <td>5</td>\n",
       "      <td>5.0</td>\n",
       "      <td>5.0</td>\n",
       "      <td>5.0</td>\n",
       "      <td>5.0</td>\n",
       "      <td>5.0</td>\n",
       "      <td>5</td>\n",
       "      <td>1</td>\n",
       "    </tr>\n",
       "    <tr>\n",
       "      <th>2</th>\n",
       "      <td>1.Green</td>\n",
       "      <td>6</td>\n",
       "      <td>1</td>\n",
       "      <td>2</td>\n",
       "      <td>85.0</td>\n",
       "      <td>12.0</td>\n",
       "      <td>4</td>\n",
       "      <td>5.0</td>\n",
       "      <td>5.0</td>\n",
       "      <td>4.0</td>\n",
       "      <td>5.0</td>\n",
       "      <td>4.6</td>\n",
       "      <td>4</td>\n",
       "      <td>1</td>\n",
       "    </tr>\n",
       "    <tr>\n",
       "      <th>3</th>\n",
       "      <td>2.Pink</td>\n",
       "      <td>3</td>\n",
       "      <td>1</td>\n",
       "      <td>1</td>\n",
       "      <td>92.0</td>\n",
       "      <td>48.0</td>\n",
       "      <td>4</td>\n",
       "      <td>4.0</td>\n",
       "      <td>5.0</td>\n",
       "      <td>5.0</td>\n",
       "      <td>4.0</td>\n",
       "      <td>4.4</td>\n",
       "      <td>3</td>\n",
       "      <td>2</td>\n",
       "    </tr>\n",
       "    <tr>\n",
       "      <th>4</th>\n",
       "      <td>2.Blue</td>\n",
       "      <td>4</td>\n",
       "      <td>2</td>\n",
       "      <td>1</td>\n",
       "      <td>68.0</td>\n",
       "      <td>20.0</td>\n",
       "      <td>5</td>\n",
       "      <td>5.0</td>\n",
       "      <td>5.0</td>\n",
       "      <td>5.0</td>\n",
       "      <td>5.0</td>\n",
       "      <td>5.0</td>\n",
       "      <td>4</td>\n",
       "      <td>2</td>\n",
       "    </tr>\n",
       "  </tbody>\n",
       "</table>\n",
       "</div>"
      ],
      "text/plain": [
       "  Group Member  Year at UFV  Gender  English   AIS   AII  Ind_TE  Ind_WW  \\\n",
       "0       1.Blue            1       2        1  64.0  76.0       5     5.0   \n",
       "1       1.Pink            4       2        1  88.0  40.0       5     5.0   \n",
       "2      1.Green            6       1        2  85.0  12.0       4     5.0   \n",
       "3       2.Pink            3       1        1  92.0  48.0       4     4.0   \n",
       "4       2.Blue            4       2        1  68.0  20.0       5     5.0   \n",
       "\n",
       "   Ind_TM  Ind_Eff  Ind_QW  Ind_Sat  Ind_Lead Group Number  \n",
       "0     5.0      5.0     5.0      5.0         2            1  \n",
       "1     5.0      5.0     5.0      5.0         5            1  \n",
       "2     5.0      4.0     5.0      4.6         4            1  \n",
       "3     5.0      5.0     4.0      4.4         3            2  \n",
       "4     5.0      5.0     5.0      5.0         4            2  "
      ]
     },
     "execution_count": 3,
     "metadata": {},
     "output_type": "execute_result"
    }
   ],
   "source": [
    "speaker_df.head()"
   ]
  },
  {
   "cell_type": "markdown",
   "metadata": {},
   "source": [
    "We convert the dataframe to a dictionary and create a Speaker object for each group member, adding the metadata."
   ]
  },
  {
   "cell_type": "code",
   "execution_count": 4,
   "metadata": {},
   "outputs": [],
   "source": [
    "speaker_meta = speaker_df.set_index('Group Member').T.to_dict()"
   ]
  },
  {
   "cell_type": "code",
   "execution_count": 5,
   "metadata": {},
   "outputs": [],
   "source": [
    "corpus_speakers = {k: Speaker(id = k, meta = v) for k,v in speaker_meta.items()}"
   ]
  },
  {
   "cell_type": "markdown",
   "metadata": {},
   "source": [
    "We can now verify that there 84 participants in the GAP corpus."
   ]
  },
  {
   "cell_type": "code",
   "execution_count": 6,
   "metadata": {},
   "outputs": [
    {
     "name": "stdout",
     "output_type": "stream",
     "text": [
      "Number of speaker in the corpus: 84/84\n"
     ]
    }
   ],
   "source": [
    "print(\"Number of speaker in the corpus: {}/84\".format(len(corpus_speakers)))"
   ]
  },
  {
   "cell_type": "markdown",
   "metadata": {},
   "source": [
    "Checking a speaker from the corpus, we see that the metadata is now included."
   ]
  },
  {
   "cell_type": "code",
   "execution_count": 7,
   "metadata": {},
   "outputs": [
    {
     "name": "stdout",
     "output_type": "stream",
     "text": [
      "Metadata for the speaker:  {'Year at UFV': 3, 'Gender': 2, 'English': 1, 'AIS': 70.0, 'AII': 38.0, 'Ind_TE': 2, 'Ind_WW': 3.0, 'Ind_TM': 4.0, 'Ind_Eff': 2.0, 'Ind_QW': 3.0, 'Ind_Sat': 2.8, 'Ind_Lead': 4, 'Group Number': '11'}\n"
     ]
    }
   ],
   "source": [
    "print(\"Metadata for the speaker: \", corpus_speakers[\"11.Pink\"].meta)"
   ]
  },
  {
   "cell_type": "markdown",
   "metadata": {},
   "source": [
    "### 2. Creating Utterance Objects\n",
    "\n",
    "Utterances can be found in the folder <b>Merged/No-Punctuation/</b>. Each group conversation is recorded in a separate CSV including the sentence-level annotations.\n",
    "\n",
    "Each utterance from the GAP corpus possesses the following informations, which are aligned with the Utterance schema from ConvoKit:\n",
    "\n",
    "- idx: unique speaker utterance, e.g. 1.Green.70\n",
    "- speaker: speaker name with group number, e.g. 1.Green\n",
    "- root: id of the first utterance of each group, e.g. 1.Pink.1\n",
    "- reply_to: previous idx, e.g. 1.Blue.105\n",
    "- timestamp: start time in format HH:MM:SS\n",
    "- text: sentence of utterance, without punctuation\n",
    "\n",
    "Additional metadata includes:\n",
    "\n",
    "- Duration: in seconds and milliseconds\n",
    "- Sentiment: whether the sentence bears any positive or negative sentiment\n",
    "- Decision: denotes a group-decision process; possible values include Proposal, Acceptance, Rejection, and Confirmation\n",
    "- Private: if the speaker is refering to a private item\n",
    "- Survival Item: what survival item was mentioned\n"
   ]
  },
  {
   "cell_type": "code",
   "execution_count": 8,
   "metadata": {},
   "outputs": [],
   "source": [
    "# The folder \"Transcripts-NoPunct(csv)\" contains 28 CSV files.\n",
    "\n",
    "all_meetings = glob.glob(\"gap-corpus-master/Final-Corpus-Transcripts-Annotations-Data/Merged/No-Punctuation/*.csv\")"
   ]
  },
  {
   "cell_type": "code",
   "execution_count": 9,
   "metadata": {},
   "outputs": [
    {
     "name": "stderr",
     "output_type": "stream",
     "text": [
      "100%|██████████████████████████████████████████████████████████████████████████████████| 28/28 [00:45<00:00,  1.63s/it]\n"
     ]
    }
   ],
   "source": [
    "utterance_corpus = {}\n",
    "\n",
    "for meeting in tqdm(all_meetings):\n",
    "    \n",
    "    #print(\"Meeting Name: \",  meeting)\n",
    "    df = pd.read_csv(meeting)\n",
    "    root = df[\"Participant\"][0]\n",
    "\n",
    "    for index in range(len(df)):\n",
    "        idx = df[\"Participant\"][index]\n",
    "        speaker = re.sub(\"\\.\\d+\",\"\", idx)\n",
    "        start = df[\"Start\"][index]\n",
    "        sentence = df[\"Sentence\"][index]\n",
    "        if index > 0:\n",
    "            reply_to = df[\"Participant\"][index - 1]\n",
    "        else:\n",
    "            reply_to = None\n",
    "        \n",
    "        meta = df.drop(columns = [\"Participant\", \"Start\", \"Sentence\"]).to_dict(\"records\")[index]\n",
    "        \n",
    "        utterance_corpus[idx] = Utterance(id=idx, speaker=corpus_speakers[speaker], root = root, reply_to = reply_to, timestamp = start, text=sentence, meta = meta)"
   ]
  },
  {
   "cell_type": "markdown",
   "metadata": {},
   "source": [
    "We can examine an Utterance object to verify that it contains among others an id, the speaker, the actual sentence and the metadata."
   ]
  },
  {
   "cell_type": "code",
   "execution_count": 10,
   "metadata": {},
   "outputs": [
    {
     "data": {
      "text/plain": [
       "Utterance({'obj_type': 'utterance', '_owner': None, 'meta': {'End': '00:21.6', 'Duration': '00:01.8', 'Sentiment': nan, 'Decision': 'Proposal', 'Private': nan, 'Survival Item': 'Cigarette Lighter'}, '_id': '1.Pink.5', 'speaker': Speaker({'obj_type': 'speaker', '_owner': None, 'meta': {'Year at UFV': 4, 'Gender': 2, 'English': 1, 'AIS': 88.0, 'AII': 40.0, 'Ind_TE': 5, 'Ind_WW': 5.0, 'Ind_TM': 5.0, 'Ind_Eff': 5.0, 'Ind_QW': 5.0, 'Ind_Sat': 5.0, 'Ind_Lead': 5, 'Group Number': '1'}, '_id': '1.Pink'}), 'conversation_id': '1.Pink.1', '_root': '1.Pink.1', 'reply_to': '1.Blue.6', 'timestamp': '00:19.7', 'text': '\"So I would say cigarette lighter is two\"'})"
      ]
     },
     "execution_count": 10,
     "metadata": {},
     "output_type": "execute_result"
    }
   ],
   "source": [
    "utterance_corpus['1.Pink.5']"
   ]
  },
  {
   "cell_type": "markdown",
   "metadata": {},
   "source": [
    "### 3. Creating corpus from list of utterances\n",
    "\n",
    "To instantiate a Corpus, we will use a list of Utterances, from the Utterance corpus."
   ]
  },
  {
   "cell_type": "code",
   "execution_count": 11,
   "metadata": {
    "scrolled": true
   },
   "outputs": [],
   "source": [
    "utterance_list = utterance_corpus.values()\n",
    "gap_corpus = Corpus(utterances=utterance_list, version = 1)"
   ]
  },
  {
   "cell_type": "markdown",
   "metadata": {},
   "source": [
    "Let's take a look at a random utterance in the corpus."
   ]
  },
  {
   "cell_type": "code",
   "execution_count": 12,
   "metadata": {},
   "outputs": [
    {
     "data": {
      "text/plain": [
       "Utterance({'obj_type': 'utterance', '_owner': <convokit.model.corpus.Corpus object at 0x0000022E0B52B7C0>, 'meta': {'End': '00:14.6', 'Duration': '00:01.0', 'Sentiment': nan, 'Decision': nan, 'Private': nan, 'Survival Item': 'Cigarette Lighter'}, '_id': '13.Yellow.6', 'speaker': Speaker({'obj_type': 'speaker', '_owner': <convokit.model.corpus.Corpus object at 0x0000022E0B52B7C0>, 'meta': {'Year at UFV': 2, 'Gender': 1, 'English': 1, 'AIS': 77.0, 'AII': 24.0, 'Ind_TE': 4, 'Ind_WW': 4.0, 'Ind_TM': 3.0, 'Ind_Eff': 4.0, 'Ind_QW': 3.0, 'Ind_Sat': 3.6, 'Ind_Lead': 4, 'Group Number': '13'}, '_id': '13.Yellow'}), 'conversation_id': '13.Yellow.1', '_root': '13.Yellow.1', 'reply_to': '13.Yellow.5', 'timestamp': '00:13.6', 'text': '\"Cigarette lighter\"'})"
      ]
     },
     "execution_count": 12,
     "metadata": {},
     "output_type": "execute_result"
    }
   ],
   "source": [
    "gap_corpus.random_utterance()"
   ]
  },
  {
   "cell_type": "markdown",
   "metadata": {},
   "source": [
    "Looking at some quick stats:"
   ]
  },
  {
   "cell_type": "code",
   "execution_count": 13,
   "metadata": {},
   "outputs": [
    {
     "name": "stdout",
     "output_type": "stream",
     "text": [
      "Number of Speakers: 84\n",
      "Number of Utterances: 8009\n",
      "Number of Conversations: 28\n"
     ]
    }
   ],
   "source": [
    "gap_corpus.print_summary_stats()"
   ]
  },
  {
   "cell_type": "markdown",
   "metadata": {},
   "source": [
    "### 4. Adding Metadata"
   ]
  },
  {
   "cell_type": "markdown",
   "metadata": {},
   "source": [
    "Each conversation has associated metadata, which can be found in <b>Group-Level Meeting Data.xlsx</b>. We will read off the metadata and attach them to each conversation from the corpus.\n",
    "\n",
    "The metadata we will include is:\n",
    "\n",
    "- Group Number\n",
    "- Meeting Size\n",
    "- Meeting Length in Minutes\n",
    "- AGS: Absolute Group Score\n",
    "- Group_TE: Time Expectations\n",
    "- Group_WW: Worked Well Together\n",
    "- Group_TM: Time Management\n",
    "- Group_Eff: Efficiency\n",
    "- Group_QW: Overall Quality of Work\n",
    "- Group_Sat: Overall Satisfaction\n"
   ]
  },
  {
   "cell_type": "code",
   "execution_count": 14,
   "metadata": {},
   "outputs": [
    {
     "data": {
      "text/html": [
       "<div>\n",
       "<style scoped>\n",
       "    .dataframe tbody tr th:only-of-type {\n",
       "        vertical-align: middle;\n",
       "    }\n",
       "\n",
       "    .dataframe tbody tr th {\n",
       "        vertical-align: top;\n",
       "    }\n",
       "\n",
       "    .dataframe thead th {\n",
       "        text-align: right;\n",
       "    }\n",
       "</style>\n",
       "<table border=\"1\" class=\"dataframe\">\n",
       "  <thead>\n",
       "    <tr style=\"text-align: right;\">\n",
       "      <th></th>\n",
       "      <th>Meeting</th>\n",
       "      <th>Meeting Size</th>\n",
       "      <th>Meeting Length in Minutes</th>\n",
       "      <th>AGS</th>\n",
       "      <th>Group_TE</th>\n",
       "      <th>Group_WW</th>\n",
       "      <th>Group_TM</th>\n",
       "      <th>Group_Eff</th>\n",
       "      <th>Group_QW</th>\n",
       "      <th>Group_Sat</th>\n",
       "    </tr>\n",
       "  </thead>\n",
       "  <tbody>\n",
       "    <tr>\n",
       "      <th>0</th>\n",
       "      <td>1</td>\n",
       "      <td>3</td>\n",
       "      <td>9.75</td>\n",
       "      <td>78</td>\n",
       "      <td>4.67</td>\n",
       "      <td>5.00</td>\n",
       "      <td>5.00</td>\n",
       "      <td>4.67</td>\n",
       "      <td>5.00</td>\n",
       "      <td>4.87</td>\n",
       "    </tr>\n",
       "    <tr>\n",
       "      <th>1</th>\n",
       "      <td>2</td>\n",
       "      <td>2</td>\n",
       "      <td>9.83</td>\n",
       "      <td>68</td>\n",
       "      <td>4.50</td>\n",
       "      <td>4.50</td>\n",
       "      <td>5.00</td>\n",
       "      <td>5.00</td>\n",
       "      <td>4.50</td>\n",
       "      <td>4.70</td>\n",
       "    </tr>\n",
       "    <tr>\n",
       "      <th>2</th>\n",
       "      <td>3</td>\n",
       "      <td>2</td>\n",
       "      <td>8.05</td>\n",
       "      <td>68</td>\n",
       "      <td>4.50</td>\n",
       "      <td>4.50</td>\n",
       "      <td>4.50</td>\n",
       "      <td>5.00</td>\n",
       "      <td>4.50</td>\n",
       "      <td>4.70</td>\n",
       "    </tr>\n",
       "    <tr>\n",
       "      <th>3</th>\n",
       "      <td>4</td>\n",
       "      <td>3</td>\n",
       "      <td>3.95</td>\n",
       "      <td>86</td>\n",
       "      <td>4.67</td>\n",
       "      <td>4.33</td>\n",
       "      <td>4.67</td>\n",
       "      <td>4.33</td>\n",
       "      <td>4.67</td>\n",
       "      <td>4.53</td>\n",
       "    </tr>\n",
       "    <tr>\n",
       "      <th>4</th>\n",
       "      <td>5</td>\n",
       "      <td>4</td>\n",
       "      <td>12.60</td>\n",
       "      <td>80</td>\n",
       "      <td>3.25</td>\n",
       "      <td>4.00</td>\n",
       "      <td>4.25</td>\n",
       "      <td>4.25</td>\n",
       "      <td>3.75</td>\n",
       "      <td>3.90</td>\n",
       "    </tr>\n",
       "  </tbody>\n",
       "</table>\n",
       "</div>"
      ],
      "text/plain": [
       "   Meeting  Meeting Size  Meeting Length in Minutes  AGS  Group_TE  Group_WW  \\\n",
       "0        1             3                       9.75   78      4.67      5.00   \n",
       "1        2             2                       9.83   68      4.50      4.50   \n",
       "2        3             2                       8.05   68      4.50      4.50   \n",
       "3        4             3                       3.95   86      4.67      4.33   \n",
       "4        5             4                      12.60   80      3.25      4.00   \n",
       "\n",
       "   Group_TM  Group_Eff  Group_QW  Group_Sat  \n",
       "0      5.00       4.67      5.00       4.87  \n",
       "1      5.00       5.00      4.50       4.70  \n",
       "2      4.50       5.00      4.50       4.70  \n",
       "3      4.67       4.33      4.67       4.53  \n",
       "4      4.25       4.25      3.75       3.90  "
      ]
     },
     "execution_count": 14,
     "metadata": {},
     "output_type": "execute_result"
    }
   ],
   "source": [
    "group_data = \"gap-corpus-master/Final-Corpus-Transcripts-Annotations-Data/Group-Individual-Data/Group-Level Meeting Data.xlsx\"\n",
    "group_df = pd.read_excel(group_data)\n",
    "group_df.head()"
   ]
  },
  {
   "cell_type": "code",
   "execution_count": 15,
   "metadata": {},
   "outputs": [],
   "source": [
    "group_meta = group_df.set_index('Meeting').T.to_dict()"
   ]
  },
  {
   "cell_type": "code",
   "execution_count": 16,
   "metadata": {},
   "outputs": [],
   "source": [
    "for convo in gap_corpus.iter_conversations():\n",
    "    \n",
    "    convo_id = convo.get_id()\n",
    "    group_number = convo_id.split(\".\")[0]\n",
    "    \n",
    "    convo.meta['Group Number'] = group_number\n",
    "    convo.meta.update(group_meta[int(group_number)])"
   ]
  },
  {
   "cell_type": "markdown",
   "metadata": {},
   "source": [
    "If we check the second conversation, it will now include the added metadata."
   ]
  },
  {
   "cell_type": "code",
   "execution_count": 17,
   "metadata": {},
   "outputs": [
    {
     "data": {
      "text/plain": [
       "{'Group Number': '2',\n",
       " 'Meeting Size': 2.0,\n",
       " 'Meeting Length in Minutes': 9.83,\n",
       " 'AGS': 68.0,\n",
       " 'Group_TE': 4.5,\n",
       " 'Group_WW': 4.5,\n",
       " 'Group_TM': 5.0,\n",
       " 'Group_Eff': 5.0,\n",
       " 'Group_QW': 4.5,\n",
       " 'Group_Sat': 4.7}"
      ]
     },
     "execution_count": 17,
     "metadata": {},
     "output_type": "execute_result"
    }
   ],
   "source": [
    "gap_corpus.get_conversation(\"2.Pink.1\").meta"
   ]
  },
  {
   "cell_type": "markdown",
   "metadata": {},
   "source": [
    "We will finally add the corpus name as corpus-level metadata."
   ]
  },
  {
   "cell_type": "code",
   "execution_count": 18,
   "metadata": {},
   "outputs": [],
   "source": [
    "gap_corpus.meta['name'] = 'GAP corpus'"
   ]
  },
  {
   "cell_type": "markdown",
   "metadata": {},
   "source": [
    "### 5. Saving to disk"
   ]
  },
  {
   "cell_type": "markdown",
   "metadata": {},
   "source": [
    "As the last step, we will be saving the corpus for later use. The default location to find the saved datasets will be ./convokit/saved-copora in your home directory."
   ]
  },
  {
   "cell_type": "code",
   "execution_count": 19,
   "metadata": {},
   "outputs": [],
   "source": [
    "gap_corpus.dump(\"gap-corpus\")"
   ]
  },
  {
   "cell_type": "markdown",
   "metadata": {},
   "source": [
    "After saving, we will check the available info from dataset directly, without loading."
   ]
  },
  {
   "cell_type": "code",
   "execution_count": 20,
   "metadata": {},
   "outputs": [
    {
     "data": {
      "text/plain": [
       "{'utterances-index': {'End': \"<class 'str'>\",\n",
       "  'Duration': \"<class 'str'>\",\n",
       "  'Sentiment': \"<class 'float'>\",\n",
       "  'Decision': \"<class 'float'>\",\n",
       "  'Private': \"<class 'float'>\",\n",
       "  'Survival Item': \"<class 'float'>\"},\n",
       " 'speakers-index': {'Year at UFV': \"<class 'int'>\",\n",
       "  'Gender': \"<class 'int'>\",\n",
       "  'English': \"<class 'int'>\",\n",
       "  'AIS': \"<class 'float'>\",\n",
       "  'AII': \"<class 'float'>\",\n",
       "  'Ind_TE': \"<class 'int'>\",\n",
       "  'Ind_WW': \"<class 'float'>\",\n",
       "  'Ind_TM': \"<class 'float'>\",\n",
       "  'Ind_Eff': \"<class 'float'>\",\n",
       "  'Ind_QW': \"<class 'float'>\",\n",
       "  'Ind_Sat': \"<class 'float'>\",\n",
       "  'Ind_Lead': \"<class 'int'>\",\n",
       "  'Group Number': \"<class 'str'>\"},\n",
       " 'conversations-index': {'Group Number': \"<class 'str'>\",\n",
       "  'Meeting Size': \"<class 'float'>\",\n",
       "  'Meeting Length in Minutes': \"<class 'float'>\",\n",
       "  'AGS': \"<class 'float'>\",\n",
       "  'Group_TE': \"<class 'float'>\",\n",
       "  'Group_WW': \"<class 'float'>\",\n",
       "  'Group_TM': \"<class 'float'>\",\n",
       "  'Group_Eff': \"<class 'float'>\",\n",
       "  'Group_QW': \"<class 'float'>\",\n",
       "  'Group_Sat': \"<class 'float'>\"},\n",
       " 'overall-index': {'name': \"<class 'str'>\"},\n",
       " 'version': 1}"
      ]
     },
     "execution_count": 20,
     "metadata": {},
     "output_type": "execute_result"
    }
   ],
   "source": [
    "from convokit import meta_index\n",
    "import os.path\n",
    "meta_index(filename = os.path.join(os.path.expanduser(\"~\"), \".convokit/saved-corpora/gap-corpus\"))"
   ]
  }
 ],
 "metadata": {
  "kernelspec": {
   "display_name": "Python 3",
   "language": "python",
   "name": "python3"
  },
  "language_info": {
   "codemirror_mode": {
    "name": "ipython",
    "version": 3
   },
   "file_extension": ".py",
   "mimetype": "text/x-python",
   "name": "python",
   "nbconvert_exporter": "python",
   "pygments_lexer": "ipython3",
   "version": "3.8.2"
  }
 },
 "nbformat": 4,
 "nbformat_minor": 4
}
