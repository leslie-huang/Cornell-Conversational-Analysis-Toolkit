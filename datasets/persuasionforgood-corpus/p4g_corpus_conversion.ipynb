{
 "cells": [
  {
   "cell_type": "code",
   "execution_count": 1,
   "metadata": {
    "collapsed": true
   },
   "outputs": [],
   "source": [
    "import os\n",
    "import pandas as pd\n",
    "import numpy as np\n",
    "\n",
    "from convokit import Corpus, Speaker, Utterance\n"
   ]
  },
  {
   "cell_type": "markdown",
   "metadata": {},
   "source": [
    "(a directory containing all files used in the original dataset, found [here](https://gitlab.com/ucdavisnlp/persuasionforgood/tree/master/data). replace with your own directory.)"
   ]
  },
  {
   "cell_type": "code",
   "execution_count": 2,
   "metadata": {
    "collapsed": true
   },
   "outputs": [],
   "source": [
    "ROOT_DIR = '<YOUR DIRECTORY>'"
   ]
  },
  {
   "cell_type": "markdown",
   "metadata": {},
   "source": [
    "Converting user-level information. We'll assume that each user, across all the conversations they've participated in, will have the same survey information."
   ]
  },
  {
   "cell_type": "code",
   "execution_count": 3,
   "metadata": {
    "collapsed": true
   },
   "outputs": [],
   "source": [
    "user_df = pd.read_csv(os.path.join(ROOT_DIR, 'full_info.csv'))"
   ]
  },
  {
   "cell_type": "code",
   "execution_count": 4,
   "metadata": {
    "collapsed": true
   },
   "outputs": [],
   "source": [
    "user_df.columns = [c.replace('.x','') for c in user_df.columns]"
   ]
  },
  {
   "cell_type": "code",
   "execution_count": 5,
   "metadata": {
    "collapsed": true
   },
   "outputs": [],
   "source": [
    "survey_cols = [c for c in user_df.columns if not c.startswith('B')]"
   ]
  },
  {
   "cell_type": "code",
   "execution_count": 6,
   "metadata": {
    "collapsed": true
   },
   "outputs": [],
   "source": [
    "user_df.columns = ['dialogue_id', 'speaker', 'role', 'donation', 'n_turns'] + survey_cols"
   ]
  },
  {
   "cell_type": "code",
   "execution_count": 7,
   "metadata": {},
   "outputs": [
    {
     "data": {
      "text/html": [
       "<div>\n",
       "<style scoped>\n",
       "    .dataframe tbody tr th:only-of-type {\n",
       "        vertical-align: middle;\n",
       "    }\n",
       "\n",
       "    .dataframe tbody tr th {\n",
       "        vertical-align: top;\n",
       "    }\n",
       "\n",
       "    .dataframe thead th {\n",
       "        text-align: right;\n",
       "    }\n",
       "</style>\n",
       "<table border=\"1\" class=\"dataframe\">\n",
       "  <thead>\n",
       "    <tr style=\"text-align: right;\">\n",
       "      <th></th>\n",
       "      <th>dialogue_id</th>\n",
       "      <th>user</th>\n",
       "      <th>role</th>\n",
       "      <th>donation</th>\n",
       "      <th>n_turns</th>\n",
       "      <th>extrovert</th>\n",
       "      <th>agreeable</th>\n",
       "      <th>conscientious</th>\n",
       "      <th>neurotic</th>\n",
       "      <th>open</th>\n",
       "      <th>...</th>\n",
       "      <th>intuitive</th>\n",
       "      <th>age</th>\n",
       "      <th>sex</th>\n",
       "      <th>race</th>\n",
       "      <th>edu</th>\n",
       "      <th>marital</th>\n",
       "      <th>employment</th>\n",
       "      <th>income</th>\n",
       "      <th>religion</th>\n",
       "      <th>ideology</th>\n",
       "    </tr>\n",
       "  </thead>\n",
       "  <tbody>\n",
       "    <tr>\n",
       "      <th>0</th>\n",
       "      <td>20180904-045349_715_live</td>\n",
       "      <td>A3A07QA5U733HQ</td>\n",
       "      <td>0</td>\n",
       "      <td>0.00</td>\n",
       "      <td>11</td>\n",
       "      <td>3.2</td>\n",
       "      <td>3.2</td>\n",
       "      <td>3.6</td>\n",
       "      <td>1.6</td>\n",
       "      <td>3.6</td>\n",
       "      <td>...</td>\n",
       "      <td>2.0</td>\n",
       "      <td>34.0</td>\n",
       "      <td>Male</td>\n",
       "      <td>White</td>\n",
       "      <td>Less than four-year college</td>\n",
       "      <td>Unmarried</td>\n",
       "      <td>Employed for wages</td>\n",
       "      <td>5.0</td>\n",
       "      <td>Other religion</td>\n",
       "      <td>Liberal</td>\n",
       "    </tr>\n",
       "    <tr>\n",
       "      <th>1</th>\n",
       "      <td>20180904-045349_715_live</td>\n",
       "      <td>A25L985XCNESXE</td>\n",
       "      <td>1</td>\n",
       "      <td>0.00</td>\n",
       "      <td>11</td>\n",
       "      <td>3.2</td>\n",
       "      <td>4.0</td>\n",
       "      <td>3.8</td>\n",
       "      <td>2.0</td>\n",
       "      <td>3.2</td>\n",
       "      <td>...</td>\n",
       "      <td>4.0</td>\n",
       "      <td>50.0</td>\n",
       "      <td>Female</td>\n",
       "      <td>White</td>\n",
       "      <td>Less than four-year college</td>\n",
       "      <td>Married</td>\n",
       "      <td>Employed for wages</td>\n",
       "      <td>10.0</td>\n",
       "      <td>Protestant</td>\n",
       "      <td>Conservative</td>\n",
       "    </tr>\n",
       "    <tr>\n",
       "      <th>2</th>\n",
       "      <td>20180904-154250_98_live</td>\n",
       "      <td>A3GGA28ZY5CYTH</td>\n",
       "      <td>0</td>\n",
       "      <td>0.00</td>\n",
       "      <td>10</td>\n",
       "      <td>3.6</td>\n",
       "      <td>3.8</td>\n",
       "      <td>4.0</td>\n",
       "      <td>4.0</td>\n",
       "      <td>3.6</td>\n",
       "      <td>...</td>\n",
       "      <td>4.0</td>\n",
       "      <td>25.0</td>\n",
       "      <td>Female</td>\n",
       "      <td>White</td>\n",
       "      <td>Four-year college</td>\n",
       "      <td>Married</td>\n",
       "      <td>Other</td>\n",
       "      <td>6.0</td>\n",
       "      <td>Atheist</td>\n",
       "      <td>Moderate</td>\n",
       "    </tr>\n",
       "    <tr>\n",
       "      <th>3</th>\n",
       "      <td>20180904-154250_98_live</td>\n",
       "      <td>AG3ISFZMFGDQ9</td>\n",
       "      <td>1</td>\n",
       "      <td>2.00</td>\n",
       "      <td>10</td>\n",
       "      <td>3.0</td>\n",
       "      <td>3.6</td>\n",
       "      <td>3.2</td>\n",
       "      <td>3.0</td>\n",
       "      <td>3.0</td>\n",
       "      <td>...</td>\n",
       "      <td>2.0</td>\n",
       "      <td>30.0</td>\n",
       "      <td>Male</td>\n",
       "      <td>White</td>\n",
       "      <td>Less than four-year college</td>\n",
       "      <td>Unmarried</td>\n",
       "      <td>Employed for wages</td>\n",
       "      <td>2.0</td>\n",
       "      <td>Atheist</td>\n",
       "      <td>Liberal</td>\n",
       "    </tr>\n",
       "    <tr>\n",
       "      <th>4</th>\n",
       "      <td>20180904-024226_703_live</td>\n",
       "      <td>A22WWSTT8TU7G1</td>\n",
       "      <td>0</td>\n",
       "      <td>0.05</td>\n",
       "      <td>10</td>\n",
       "      <td>1.0</td>\n",
       "      <td>5.0</td>\n",
       "      <td>2.8</td>\n",
       "      <td>1.0</td>\n",
       "      <td>4.6</td>\n",
       "      <td>...</td>\n",
       "      <td>1.0</td>\n",
       "      <td>36.0</td>\n",
       "      <td>Female</td>\n",
       "      <td>White</td>\n",
       "      <td>Less than four-year college</td>\n",
       "      <td>Unmarried</td>\n",
       "      <td>Employed for wages</td>\n",
       "      <td>1.0</td>\n",
       "      <td>Catholic</td>\n",
       "      <td>Moderate</td>\n",
       "    </tr>\n",
       "  </tbody>\n",
       "</table>\n",
       "<p>5 rows × 37 columns</p>\n",
       "</div>"
      ],
      "text/plain": [
       "                dialogue_id            user  role  donation  n_turns  \\\n",
       "0  20180904-045349_715_live  A3A07QA5U733HQ     0      0.00       11   \n",
       "1  20180904-045349_715_live  A25L985XCNESXE     1      0.00       11   \n",
       "2   20180904-154250_98_live  A3GGA28ZY5CYTH     0      0.00       10   \n",
       "3   20180904-154250_98_live   AG3ISFZMFGDQ9     1      2.00       10   \n",
       "4  20180904-024226_703_live  A22WWSTT8TU7G1     0      0.05       10   \n",
       "\n",
       "   extrovert  agreeable  conscientious  neurotic  open  ...  intuitive   age  \\\n",
       "0        3.2        3.2            3.6       1.6   3.6  ...        2.0  34.0   \n",
       "1        3.2        4.0            3.8       2.0   3.2  ...        4.0  50.0   \n",
       "2        3.6        3.8            4.0       4.0   3.6  ...        4.0  25.0   \n",
       "3        3.0        3.6            3.2       3.0   3.0  ...        2.0  30.0   \n",
       "4        1.0        5.0            2.8       1.0   4.6  ...        1.0  36.0   \n",
       "\n",
       "      sex   race                          edu    marital          employment  \\\n",
       "0    Male  White  Less than four-year college  Unmarried  Employed for wages   \n",
       "1  Female  White  Less than four-year college    Married  Employed for wages   \n",
       "2  Female  White            Four-year college    Married               Other   \n",
       "3    Male  White  Less than four-year college  Unmarried  Employed for wages   \n",
       "4  Female  White  Less than four-year college  Unmarried  Employed for wages   \n",
       "\n",
       "   income        religion      ideology  \n",
       "0     5.0  Other religion       Liberal  \n",
       "1    10.0      Protestant  Conservative  \n",
       "2     6.0         Atheist      Moderate  \n",
       "3     2.0         Atheist       Liberal  \n",
       "4     1.0        Catholic      Moderate  \n",
       "\n",
       "[5 rows x 37 columns]"
      ]
     },
     "execution_count": 7,
     "metadata": {},
     "output_type": "execute_result"
    }
   ],
   "source": [
    "user_df.head()"
   ]
  },
  {
   "cell_type": "code",
   "execution_count": 8,
   "metadata": {},
   "outputs": [],
   "source": [
    "user_meta_dict = user_df.drop_duplicates('speaker').set_index('speaker')[survey_cols].to_dict(orient='index')"
   ]
  },
  {
   "cell_type": "code",
   "execution_count": 9,
   "metadata": {},
   "outputs": [],
   "source": [
    "corpus_speakers = {k: Speaker(id=k, meta=v) for k,v in user_meta_dict.items()}"
   ]
  },
  {
   "cell_type": "markdown",
   "metadata": {},
   "source": [
    "we'll also keep track of which users are involved in which dialogue."
   ]
  },
  {
   "cell_type": "code",
   "execution_count": 10,
   "metadata": {},
   "outputs": [],
   "source": [
    "er_info = user_df[user_df.role == 0].set_index('dialogue_id')[['speaker','donation']]\n",
    "ee_info = user_df[user_df.role == 1].set_index('dialogue_id')[['speaker','donation']]"
   ]
  },
  {
   "cell_type": "code",
   "execution_count": 11,
   "metadata": {},
   "outputs": [],
   "source": [
    "convo_info = er_info.join(ee_info, lsuffix='_er', rsuffix='_ee')"
   ]
  },
  {
   "cell_type": "code",
   "execution_count": 12,
   "metadata": {
    "scrolled": true
   },
   "outputs": [
    {
     "data": {
      "text/html": [
       "<div>\n",
       "<style scoped>\n",
       "    .dataframe tbody tr th:only-of-type {\n",
       "        vertical-align: middle;\n",
       "    }\n",
       "\n",
       "    .dataframe tbody tr th {\n",
       "        vertical-align: top;\n",
       "    }\n",
       "\n",
       "    .dataframe thead th {\n",
       "        text-align: right;\n",
       "    }\n",
       "</style>\n",
       "<table border=\"1\" class=\"dataframe\">\n",
       "  <thead>\n",
       "    <tr style=\"text-align: right;\">\n",
       "      <th></th>\n",
       "      <th>user_er</th>\n",
       "      <th>donation_er</th>\n",
       "      <th>user_ee</th>\n",
       "      <th>donation_ee</th>\n",
       "    </tr>\n",
       "    <tr>\n",
       "      <th>dialogue_id</th>\n",
       "      <th></th>\n",
       "      <th></th>\n",
       "      <th></th>\n",
       "      <th></th>\n",
       "    </tr>\n",
       "  </thead>\n",
       "  <tbody>\n",
       "    <tr>\n",
       "      <th>20180904-045349_715_live</th>\n",
       "      <td>A3A07QA5U733HQ</td>\n",
       "      <td>0.00</td>\n",
       "      <td>A25L985XCNESXE</td>\n",
       "      <td>0.00</td>\n",
       "    </tr>\n",
       "    <tr>\n",
       "      <th>20180904-154250_98_live</th>\n",
       "      <td>A3GGA28ZY5CYTH</td>\n",
       "      <td>0.00</td>\n",
       "      <td>AG3ISFZMFGDQ9</td>\n",
       "      <td>2.00</td>\n",
       "    </tr>\n",
       "    <tr>\n",
       "      <th>20180904-024226_703_live</th>\n",
       "      <td>A22WWSTT8TU7G1</td>\n",
       "      <td>0.05</td>\n",
       "      <td>A2JQOU78XJA6VP</td>\n",
       "      <td>0.05</td>\n",
       "    </tr>\n",
       "    <tr>\n",
       "      <th>20180904-100019_870_live</th>\n",
       "      <td>A29NICQTS9B05U</td>\n",
       "      <td>0.00</td>\n",
       "      <td>A302K8B1H9ISJA</td>\n",
       "      <td>0.00</td>\n",
       "    </tr>\n",
       "    <tr>\n",
       "      <th>20180904-001208_706_live</th>\n",
       "      <td>A3LQ2F30FKC0CZ</td>\n",
       "      <td>0.00</td>\n",
       "      <td>A1RGD548VIVY96</td>\n",
       "      <td>1.00</td>\n",
       "    </tr>\n",
       "  </tbody>\n",
       "</table>\n",
       "</div>"
      ],
      "text/plain": [
       "                                 user_er  donation_er         user_ee  \\\n",
       "dialogue_id                                                             \n",
       "20180904-045349_715_live  A3A07QA5U733HQ         0.00  A25L985XCNESXE   \n",
       "20180904-154250_98_live   A3GGA28ZY5CYTH         0.00   AG3ISFZMFGDQ9   \n",
       "20180904-024226_703_live  A22WWSTT8TU7G1         0.05  A2JQOU78XJA6VP   \n",
       "20180904-100019_870_live  A29NICQTS9B05U         0.00  A302K8B1H9ISJA   \n",
       "20180904-001208_706_live  A3LQ2F30FKC0CZ         0.00  A1RGD548VIVY96   \n",
       "\n",
       "                          donation_ee  \n",
       "dialogue_id                            \n",
       "20180904-045349_715_live         0.00  \n",
       "20180904-154250_98_live          2.00  \n",
       "20180904-024226_703_live         0.05  \n",
       "20180904-100019_870_live         0.00  \n",
       "20180904-001208_706_live         1.00  "
      ]
     },
     "execution_count": 12,
     "metadata": {},
     "output_type": "execute_result"
    }
   ],
   "source": [
    "convo_info.head()"
   ]
  },
  {
   "cell_type": "markdown",
   "metadata": {},
   "source": [
    "Converting utterances."
   ]
  },
  {
   "cell_type": "code",
   "execution_count": 13,
   "metadata": {
    "collapsed": true
   },
   "outputs": [],
   "source": [
    "utt_df = pd.read_csv(os.path.join(ROOT_DIR, 'full_dialog.csv'))"
   ]
  },
  {
   "cell_type": "code",
   "execution_count": 14,
   "metadata": {
    "scrolled": true
   },
   "outputs": [],
   "source": [
    "utt_df.columns = ['turn_id', 'text', 'user_turn_id', 'role', 'dialogue_id']"
   ]
  },
  {
   "cell_type": "code",
   "execution_count": 15,
   "metadata": {},
   "outputs": [
    {
     "data": {
      "text/html": [
       "<div>\n",
       "<style scoped>\n",
       "    .dataframe tbody tr th:only-of-type {\n",
       "        vertical-align: middle;\n",
       "    }\n",
       "\n",
       "    .dataframe tbody tr th {\n",
       "        vertical-align: top;\n",
       "    }\n",
       "\n",
       "    .dataframe thead th {\n",
       "        text-align: right;\n",
       "    }\n",
       "</style>\n",
       "<table border=\"1\" class=\"dataframe\">\n",
       "  <thead>\n",
       "    <tr style=\"text-align: right;\">\n",
       "      <th></th>\n",
       "      <th>turn_id</th>\n",
       "      <th>text</th>\n",
       "      <th>user_turn_id</th>\n",
       "      <th>role</th>\n",
       "      <th>dialogue_id</th>\n",
       "    </tr>\n",
       "  </thead>\n",
       "  <tbody>\n",
       "    <tr>\n",
       "      <th>0</th>\n",
       "      <td>0</td>\n",
       "      <td>Good morning. How are you doing today?</td>\n",
       "      <td>0</td>\n",
       "      <td>0</td>\n",
       "      <td>20180904-045349_715_live</td>\n",
       "    </tr>\n",
       "    <tr>\n",
       "      <th>1</th>\n",
       "      <td>1</td>\n",
       "      <td>Hi. I am doing good. How about you?</td>\n",
       "      <td>0</td>\n",
       "      <td>1</td>\n",
       "      <td>20180904-045349_715_live</td>\n",
       "    </tr>\n",
       "    <tr>\n",
       "      <th>2</th>\n",
       "      <td>2</td>\n",
       "      <td>I'm doing pretty good for a Tuesday morning.</td>\n",
       "      <td>1</td>\n",
       "      <td>0</td>\n",
       "      <td>20180904-045349_715_live</td>\n",
       "    </tr>\n",
       "    <tr>\n",
       "      <th>3</th>\n",
       "      <td>3</td>\n",
       "      <td>Haha. Same here, but it really feels like a Mo...</td>\n",
       "      <td>1</td>\n",
       "      <td>1</td>\n",
       "      <td>20180904-045349_715_live</td>\n",
       "    </tr>\n",
       "    <tr>\n",
       "      <th>4</th>\n",
       "      <td>4</td>\n",
       "      <td>Ugh yes it does!</td>\n",
       "      <td>2</td>\n",
       "      <td>0</td>\n",
       "      <td>20180904-045349_715_live</td>\n",
       "    </tr>\n",
       "  </tbody>\n",
       "</table>\n",
       "</div>"
      ],
      "text/plain": [
       "   turn_id                                               text  user_turn_id  \\\n",
       "0        0             Good morning. How are you doing today?             0   \n",
       "1        1                Hi. I am doing good. How about you?             0   \n",
       "2        2      I'm doing pretty good for a Tuesday morning.              1   \n",
       "3        3  Haha. Same here, but it really feels like a Mo...             1   \n",
       "4        4                                   Ugh yes it does!             2   \n",
       "\n",
       "   role               dialogue_id  \n",
       "0     0  20180904-045349_715_live  \n",
       "1     1  20180904-045349_715_live  \n",
       "2     0  20180904-045349_715_live  \n",
       "3     1  20180904-045349_715_live  \n",
       "4     0  20180904-045349_715_live  "
      ]
     },
     "execution_count": 15,
     "metadata": {},
     "output_type": "execute_result"
    }
   ],
   "source": [
    "utt_df.head()"
   ]
  },
  {
   "cell_type": "markdown",
   "metadata": {},
   "source": [
    "Here, we get the user_ids of the author of each utterance."
   ]
  },
  {
   "cell_type": "code",
   "execution_count": 16,
   "metadata": {},
   "outputs": [],
   "source": [
    "utt_df = utt_df.join(convo_info[['user_er','user_ee']], on='dialogue_id')"
   ]
  },
  {
   "cell_type": "code",
   "execution_count": 17,
   "metadata": {},
   "outputs": [],
   "source": [
    "utt_df['speaker'] = utt_df[['user_er','user_ee']].values[np.arange(len(utt_df)), utt_df.role.values]"
   ]
  },
  {
   "cell_type": "markdown",
   "metadata": {},
   "source": [
    "since convokit conversation ids use the id of the root utterance (i.e., the first utterance), we'll keep track of the mapping from dialogue_ids to convokit's conversation ids."
   ]
  },
  {
   "cell_type": "code",
   "execution_count": 18,
   "metadata": {
    "collapsed": true
   },
   "outputs": [],
   "source": [
    "utt_df['id'] = utt_df.index"
   ]
  },
  {
   "cell_type": "code",
   "execution_count": 19,
   "metadata": {},
   "outputs": [],
   "source": [
    "dialogue_to_convo_id = utt_df.groupby('dialogue_id')['id'].min()"
   ]
  },
  {
   "cell_type": "code",
   "execution_count": 20,
   "metadata": {},
   "outputs": [
    {
     "data": {
      "text/plain": [
       "dialogue_id\n",
       "20180904-045349_715_live     0\n",
       "20180904-154250_98_live     21\n",
       "20180904-024226_703_live    41\n",
       "20180904-100019_870_live    61\n",
       "20180904-001208_706_live    82\n",
       "Name: id, dtype: int64"
      ]
     },
     "execution_count": 20,
     "metadata": {},
     "output_type": "execute_result"
    }
   ],
   "source": [
    "dialogue_to_convo_id.sort_values().head()"
   ]
  },
  {
   "cell_type": "markdown",
   "metadata": {},
   "source": [
    "Adds the reply and root info."
   ]
  },
  {
   "cell_type": "code",
   "execution_count": 21,
   "metadata": {
    "scrolled": true
   },
   "outputs": [],
   "source": [
    "utt_df['reply_to'] = utt_df['id'].shift()"
   ]
  },
  {
   "cell_type": "code",
   "execution_count": 22,
   "metadata": {},
   "outputs": [],
   "source": [
    "utt_df.loc[utt_df.turn_id==0,'reply_to'] = np.nan"
   ]
  },
  {
   "cell_type": "code",
   "execution_count": 23,
   "metadata": {},
   "outputs": [],
   "source": [
    "utt_df = utt_df.join(dialogue_to_convo_id.rename('conversation_id'), on='dialogue_id')"
   ]
  },
  {
   "cell_type": "code",
   "execution_count": 24,
   "metadata": {
    "scrolled": true
   },
   "outputs": [
    {
     "data": {
      "text/html": [
       "<div>\n",
       "<style scoped>\n",
       "    .dataframe tbody tr th:only-of-type {\n",
       "        vertical-align: middle;\n",
       "    }\n",
       "\n",
       "    .dataframe tbody tr th {\n",
       "        vertical-align: top;\n",
       "    }\n",
       "\n",
       "    .dataframe thead th {\n",
       "        text-align: right;\n",
       "    }\n",
       "</style>\n",
       "<table border=\"1\" class=\"dataframe\">\n",
       "  <thead>\n",
       "    <tr style=\"text-align: right;\">\n",
       "      <th></th>\n",
       "      <th>turn_id</th>\n",
       "      <th>text</th>\n",
       "      <th>user_turn_id</th>\n",
       "      <th>role</th>\n",
       "      <th>dialogue_id</th>\n",
       "      <th>user_er</th>\n",
       "      <th>user_ee</th>\n",
       "      <th>user</th>\n",
       "      <th>id</th>\n",
       "      <th>reply_to</th>\n",
       "      <th>root</th>\n",
       "    </tr>\n",
       "  </thead>\n",
       "  <tbody>\n",
       "    <tr>\n",
       "      <th>0</th>\n",
       "      <td>0</td>\n",
       "      <td>Good morning. How are you doing today?</td>\n",
       "      <td>0</td>\n",
       "      <td>0</td>\n",
       "      <td>20180904-045349_715_live</td>\n",
       "      <td>A3A07QA5U733HQ</td>\n",
       "      <td>A25L985XCNESXE</td>\n",
       "      <td>A3A07QA5U733HQ</td>\n",
       "      <td>0</td>\n",
       "      <td>NaN</td>\n",
       "      <td>0</td>\n",
       "    </tr>\n",
       "    <tr>\n",
       "      <th>1</th>\n",
       "      <td>1</td>\n",
       "      <td>Hi. I am doing good. How about you?</td>\n",
       "      <td>0</td>\n",
       "      <td>1</td>\n",
       "      <td>20180904-045349_715_live</td>\n",
       "      <td>A3A07QA5U733HQ</td>\n",
       "      <td>A25L985XCNESXE</td>\n",
       "      <td>A25L985XCNESXE</td>\n",
       "      <td>1</td>\n",
       "      <td>0.0</td>\n",
       "      <td>0</td>\n",
       "    </tr>\n",
       "    <tr>\n",
       "      <th>2</th>\n",
       "      <td>2</td>\n",
       "      <td>I'm doing pretty good for a Tuesday morning.</td>\n",
       "      <td>1</td>\n",
       "      <td>0</td>\n",
       "      <td>20180904-045349_715_live</td>\n",
       "      <td>A3A07QA5U733HQ</td>\n",
       "      <td>A25L985XCNESXE</td>\n",
       "      <td>A3A07QA5U733HQ</td>\n",
       "      <td>2</td>\n",
       "      <td>1.0</td>\n",
       "      <td>0</td>\n",
       "    </tr>\n",
       "    <tr>\n",
       "      <th>3</th>\n",
       "      <td>3</td>\n",
       "      <td>Haha. Same here, but it really feels like a Mo...</td>\n",
       "      <td>1</td>\n",
       "      <td>1</td>\n",
       "      <td>20180904-045349_715_live</td>\n",
       "      <td>A3A07QA5U733HQ</td>\n",
       "      <td>A25L985XCNESXE</td>\n",
       "      <td>A25L985XCNESXE</td>\n",
       "      <td>3</td>\n",
       "      <td>2.0</td>\n",
       "      <td>0</td>\n",
       "    </tr>\n",
       "    <tr>\n",
       "      <th>4</th>\n",
       "      <td>4</td>\n",
       "      <td>Ugh yes it does!</td>\n",
       "      <td>2</td>\n",
       "      <td>0</td>\n",
       "      <td>20180904-045349_715_live</td>\n",
       "      <td>A3A07QA5U733HQ</td>\n",
       "      <td>A25L985XCNESXE</td>\n",
       "      <td>A3A07QA5U733HQ</td>\n",
       "      <td>4</td>\n",
       "      <td>3.0</td>\n",
       "      <td>0</td>\n",
       "    </tr>\n",
       "  </tbody>\n",
       "</table>\n",
       "</div>"
      ],
      "text/plain": [
       "   turn_id                                               text  user_turn_id  \\\n",
       "0        0             Good morning. How are you doing today?             0   \n",
       "1        1                Hi. I am doing good. How about you?             0   \n",
       "2        2      I'm doing pretty good for a Tuesday morning.              1   \n",
       "3        3  Haha. Same here, but it really feels like a Mo...             1   \n",
       "4        4                                   Ugh yes it does!             2   \n",
       "\n",
       "   role               dialogue_id         user_er         user_ee  \\\n",
       "0     0  20180904-045349_715_live  A3A07QA5U733HQ  A25L985XCNESXE   \n",
       "1     1  20180904-045349_715_live  A3A07QA5U733HQ  A25L985XCNESXE   \n",
       "2     0  20180904-045349_715_live  A3A07QA5U733HQ  A25L985XCNESXE   \n",
       "3     1  20180904-045349_715_live  A3A07QA5U733HQ  A25L985XCNESXE   \n",
       "4     0  20180904-045349_715_live  A3A07QA5U733HQ  A25L985XCNESXE   \n",
       "\n",
       "             user  id  reply_to  root  \n",
       "0  A3A07QA5U733HQ   0       NaN     0  \n",
       "1  A25L985XCNESXE   1       0.0     0  \n",
       "2  A3A07QA5U733HQ   2       1.0     0  \n",
       "3  A25L985XCNESXE   3       2.0     0  \n",
       "4  A3A07QA5U733HQ   4       3.0     0  "
      ]
     },
     "execution_count": 24,
     "metadata": {},
     "output_type": "execute_result"
    }
   ],
   "source": [
    "utt_df.head()"
   ]
  },
  {
   "cell_type": "code",
   "execution_count": 25,
   "metadata": {},
   "outputs": [
    {
     "data": {
      "text/html": [
       "<div>\n",
       "<style scoped>\n",
       "    .dataframe tbody tr th:only-of-type {\n",
       "        vertical-align: middle;\n",
       "    }\n",
       "\n",
       "    .dataframe tbody tr th {\n",
       "        vertical-align: top;\n",
       "    }\n",
       "\n",
       "    .dataframe thead th {\n",
       "        text-align: right;\n",
       "    }\n",
       "</style>\n",
       "<table border=\"1\" class=\"dataframe\">\n",
       "  <thead>\n",
       "    <tr style=\"text-align: right;\">\n",
       "      <th></th>\n",
       "      <th>turn_id</th>\n",
       "      <th>text</th>\n",
       "      <th>user_turn_id</th>\n",
       "      <th>role</th>\n",
       "      <th>dialogue_id</th>\n",
       "      <th>user_er</th>\n",
       "      <th>user_ee</th>\n",
       "      <th>user</th>\n",
       "      <th>id</th>\n",
       "      <th>reply_to</th>\n",
       "      <th>root</th>\n",
       "    </tr>\n",
       "  </thead>\n",
       "  <tbody>\n",
       "    <tr>\n",
       "      <th>0</th>\n",
       "      <td>0</td>\n",
       "      <td>Good morning. How are you doing today?</td>\n",
       "      <td>0</td>\n",
       "      <td>0</td>\n",
       "      <td>20180904-045349_715_live</td>\n",
       "      <td>A3A07QA5U733HQ</td>\n",
       "      <td>A25L985XCNESXE</td>\n",
       "      <td>A3A07QA5U733HQ</td>\n",
       "      <td>0</td>\n",
       "      <td>NaN</td>\n",
       "      <td>0</td>\n",
       "    </tr>\n",
       "    <tr>\n",
       "      <th>1</th>\n",
       "      <td>1</td>\n",
       "      <td>Hi. I am doing good. How about you?</td>\n",
       "      <td>0</td>\n",
       "      <td>1</td>\n",
       "      <td>20180904-045349_715_live</td>\n",
       "      <td>A3A07QA5U733HQ</td>\n",
       "      <td>A25L985XCNESXE</td>\n",
       "      <td>A25L985XCNESXE</td>\n",
       "      <td>1</td>\n",
       "      <td>0.0</td>\n",
       "      <td>0</td>\n",
       "    </tr>\n",
       "    <tr>\n",
       "      <th>2</th>\n",
       "      <td>2</td>\n",
       "      <td>I'm doing pretty good for a Tuesday morning.</td>\n",
       "      <td>1</td>\n",
       "      <td>0</td>\n",
       "      <td>20180904-045349_715_live</td>\n",
       "      <td>A3A07QA5U733HQ</td>\n",
       "      <td>A25L985XCNESXE</td>\n",
       "      <td>A3A07QA5U733HQ</td>\n",
       "      <td>2</td>\n",
       "      <td>1.0</td>\n",
       "      <td>0</td>\n",
       "    </tr>\n",
       "    <tr>\n",
       "      <th>3</th>\n",
       "      <td>3</td>\n",
       "      <td>Haha. Same here, but it really feels like a Mo...</td>\n",
       "      <td>1</td>\n",
       "      <td>1</td>\n",
       "      <td>20180904-045349_715_live</td>\n",
       "      <td>A3A07QA5U733HQ</td>\n",
       "      <td>A25L985XCNESXE</td>\n",
       "      <td>A25L985XCNESXE</td>\n",
       "      <td>3</td>\n",
       "      <td>2.0</td>\n",
       "      <td>0</td>\n",
       "    </tr>\n",
       "    <tr>\n",
       "      <th>4</th>\n",
       "      <td>4</td>\n",
       "      <td>Ugh yes it does!</td>\n",
       "      <td>2</td>\n",
       "      <td>0</td>\n",
       "      <td>20180904-045349_715_live</td>\n",
       "      <td>A3A07QA5U733HQ</td>\n",
       "      <td>A25L985XCNESXE</td>\n",
       "      <td>A3A07QA5U733HQ</td>\n",
       "      <td>4</td>\n",
       "      <td>3.0</td>\n",
       "      <td>0</td>\n",
       "    </tr>\n",
       "  </tbody>\n",
       "</table>\n",
       "</div>"
      ],
      "text/plain": [
       "   turn_id                                               text  user_turn_id  \\\n",
       "0        0             Good morning. How are you doing today?             0   \n",
       "1        1                Hi. I am doing good. How about you?             0   \n",
       "2        2      I'm doing pretty good for a Tuesday morning.              1   \n",
       "3        3  Haha. Same here, but it really feels like a Mo...             1   \n",
       "4        4                                   Ugh yes it does!             2   \n",
       "\n",
       "   role               dialogue_id         user_er         user_ee  \\\n",
       "0     0  20180904-045349_715_live  A3A07QA5U733HQ  A25L985XCNESXE   \n",
       "1     1  20180904-045349_715_live  A3A07QA5U733HQ  A25L985XCNESXE   \n",
       "2     0  20180904-045349_715_live  A3A07QA5U733HQ  A25L985XCNESXE   \n",
       "3     1  20180904-045349_715_live  A3A07QA5U733HQ  A25L985XCNESXE   \n",
       "4     0  20180904-045349_715_live  A3A07QA5U733HQ  A25L985XCNESXE   \n",
       "\n",
       "             user  id  reply_to  root  \n",
       "0  A3A07QA5U733HQ   0       NaN     0  \n",
       "1  A25L985XCNESXE   1       0.0     0  \n",
       "2  A3A07QA5U733HQ   2       1.0     0  \n",
       "3  A25L985XCNESXE   3       2.0     0  \n",
       "4  A3A07QA5U733HQ   4       3.0     0  "
      ]
     },
     "execution_count": 25,
     "metadata": {},
     "output_type": "execute_result"
    }
   ],
   "source": [
    "utt_df.head()"
   ]
  },
  {
   "cell_type": "code",
   "execution_count": null,
   "metadata": {
    "collapsed": true
   },
   "outputs": [],
   "source": []
  },
  {
   "cell_type": "markdown",
   "metadata": {},
   "source": [
    "keeps track of intended donations. note these are only available for persuadees (`role==1`) for 300 manually-annotated dialogues."
   ]
  },
  {
   "cell_type": "code",
   "execution_count": 26,
   "metadata": {
    "collapsed": true
   },
   "outputs": [],
   "source": [
    "intended_df = pd.read_excel(os.path.join(ROOT_DIR, '300_info.xlsx'))"
   ]
  },
  {
   "cell_type": "code",
   "execution_count": 27,
   "metadata": {},
   "outputs": [],
   "source": [
    "intended_df.columns = ['dialogue_id','speaker','role','intended', 'actual', 'n_turns']"
   ]
  },
  {
   "cell_type": "code",
   "execution_count": 28,
   "metadata": {},
   "outputs": [],
   "source": [
    "intended_df = intended_df[intended_df.role == 1].set_index('dialogue_id')"
   ]
  },
  {
   "cell_type": "code",
   "execution_count": 29,
   "metadata": {},
   "outputs": [
    {
     "data": {
      "text/html": [
       "<div>\n",
       "<style scoped>\n",
       "    .dataframe tbody tr th:only-of-type {\n",
       "        vertical-align: middle;\n",
       "    }\n",
       "\n",
       "    .dataframe tbody tr th {\n",
       "        vertical-align: top;\n",
       "    }\n",
       "\n",
       "    .dataframe thead th {\n",
       "        text-align: right;\n",
       "    }\n",
       "</style>\n",
       "<table border=\"1\" class=\"dataframe\">\n",
       "  <thead>\n",
       "    <tr style=\"text-align: right;\">\n",
       "      <th></th>\n",
       "      <th>user</th>\n",
       "      <th>role</th>\n",
       "      <th>intended</th>\n",
       "      <th>actual</th>\n",
       "      <th>n_turns</th>\n",
       "    </tr>\n",
       "    <tr>\n",
       "      <th>dialogue_id</th>\n",
       "      <th></th>\n",
       "      <th></th>\n",
       "      <th></th>\n",
       "      <th></th>\n",
       "      <th></th>\n",
       "    </tr>\n",
       "  </thead>\n",
       "  <tbody>\n",
       "    <tr>\n",
       "      <th>20180717-200206_41_live</th>\n",
       "      <td>A3JLE2LJ5I17E2</td>\n",
       "      <td>1</td>\n",
       "      <td>0.5</td>\n",
       "      <td>0.50</td>\n",
       "      <td>10.0</td>\n",
       "    </tr>\n",
       "    <tr>\n",
       "      <th>20180719-120436_413_live</th>\n",
       "      <td>A5NE8TWS8ZV7B</td>\n",
       "      <td>1</td>\n",
       "      <td>NaN</td>\n",
       "      <td>0.00</td>\n",
       "      <td>10.0</td>\n",
       "    </tr>\n",
       "    <tr>\n",
       "      <th>20180719-122534_38_live</th>\n",
       "      <td>A2T007HZK66WM</td>\n",
       "      <td>1</td>\n",
       "      <td>5.0</td>\n",
       "      <td>0.50</td>\n",
       "      <td>11.0</td>\n",
       "    </tr>\n",
       "    <tr>\n",
       "      <th>20180719-165941_192_live</th>\n",
       "      <td>A290OV59Q76QC8</td>\n",
       "      <td>1</td>\n",
       "      <td>50.0</td>\n",
       "      <td>0.00</td>\n",
       "      <td>10.0</td>\n",
       "    </tr>\n",
       "    <tr>\n",
       "      <th>20180719-175233_833_live</th>\n",
       "      <td>A2GV9WSNSPX53</td>\n",
       "      <td>1</td>\n",
       "      <td>NaN</td>\n",
       "      <td>0.05</td>\n",
       "      <td>10.0</td>\n",
       "    </tr>\n",
       "  </tbody>\n",
       "</table>\n",
       "</div>"
      ],
      "text/plain": [
       "                                    user  role  intended  actual  n_turns\n",
       "dialogue_id                                                              \n",
       "20180717-200206_41_live   A3JLE2LJ5I17E2     1       0.5    0.50     10.0\n",
       "20180719-120436_413_live   A5NE8TWS8ZV7B     1       NaN    0.00     10.0\n",
       "20180719-122534_38_live    A2T007HZK66WM     1       5.0    0.50     11.0\n",
       "20180719-165941_192_live  A290OV59Q76QC8     1      50.0    0.00     10.0\n",
       "20180719-175233_833_live   A2GV9WSNSPX53     1       NaN    0.05     10.0"
      ]
     },
     "execution_count": 29,
     "metadata": {},
     "output_type": "execute_result"
    }
   ],
   "source": [
    "intended_df.head()"
   ]
  },
  {
   "cell_type": "code",
   "execution_count": 30,
   "metadata": {
    "scrolled": true
   },
   "outputs": [],
   "source": [
    "convo_info = convo_info.join(intended_df.intended)"
   ]
  },
  {
   "cell_type": "code",
   "execution_count": 31,
   "metadata": {},
   "outputs": [],
   "source": [
    "convo_info['is_annotated'] = convo_info.intended.notnull()"
   ]
  },
  {
   "cell_type": "code",
   "execution_count": 32,
   "metadata": {},
   "outputs": [
    {
     "data": {
      "text/html": [
       "<div>\n",
       "<style scoped>\n",
       "    .dataframe tbody tr th:only-of-type {\n",
       "        vertical-align: middle;\n",
       "    }\n",
       "\n",
       "    .dataframe tbody tr th {\n",
       "        vertical-align: top;\n",
       "    }\n",
       "\n",
       "    .dataframe thead th {\n",
       "        text-align: right;\n",
       "    }\n",
       "</style>\n",
       "<table border=\"1\" class=\"dataframe\">\n",
       "  <thead>\n",
       "    <tr style=\"text-align: right;\">\n",
       "      <th></th>\n",
       "      <th>user_er</th>\n",
       "      <th>donation_er</th>\n",
       "      <th>user_ee</th>\n",
       "      <th>donation_ee</th>\n",
       "      <th>intended</th>\n",
       "      <th>is_annotated</th>\n",
       "    </tr>\n",
       "    <tr>\n",
       "      <th>dialogue_id</th>\n",
       "      <th></th>\n",
       "      <th></th>\n",
       "      <th></th>\n",
       "      <th></th>\n",
       "      <th></th>\n",
       "      <th></th>\n",
       "    </tr>\n",
       "  </thead>\n",
       "  <tbody>\n",
       "    <tr>\n",
       "      <th>20180904-045349_715_live</th>\n",
       "      <td>A3A07QA5U733HQ</td>\n",
       "      <td>0.00</td>\n",
       "      <td>A25L985XCNESXE</td>\n",
       "      <td>0.00</td>\n",
       "      <td>0.20</td>\n",
       "      <td>True</td>\n",
       "    </tr>\n",
       "    <tr>\n",
       "      <th>20180904-154250_98_live</th>\n",
       "      <td>A3GGA28ZY5CYTH</td>\n",
       "      <td>0.00</td>\n",
       "      <td>AG3ISFZMFGDQ9</td>\n",
       "      <td>2.00</td>\n",
       "      <td>NaN</td>\n",
       "      <td>False</td>\n",
       "    </tr>\n",
       "    <tr>\n",
       "      <th>20180904-024226_703_live</th>\n",
       "      <td>A22WWSTT8TU7G1</td>\n",
       "      <td>0.05</td>\n",
       "      <td>A2JQOU78XJA6VP</td>\n",
       "      <td>0.05</td>\n",
       "      <td>0.05</td>\n",
       "      <td>True</td>\n",
       "    </tr>\n",
       "    <tr>\n",
       "      <th>20180904-100019_870_live</th>\n",
       "      <td>A29NICQTS9B05U</td>\n",
       "      <td>0.00</td>\n",
       "      <td>A302K8B1H9ISJA</td>\n",
       "      <td>0.00</td>\n",
       "      <td>NaN</td>\n",
       "      <td>False</td>\n",
       "    </tr>\n",
       "    <tr>\n",
       "      <th>20180904-001208_706_live</th>\n",
       "      <td>A3LQ2F30FKC0CZ</td>\n",
       "      <td>0.00</td>\n",
       "      <td>A1RGD548VIVY96</td>\n",
       "      <td>1.00</td>\n",
       "      <td>NaN</td>\n",
       "      <td>False</td>\n",
       "    </tr>\n",
       "  </tbody>\n",
       "</table>\n",
       "</div>"
      ],
      "text/plain": [
       "                                 user_er  donation_er         user_ee  \\\n",
       "dialogue_id                                                             \n",
       "20180904-045349_715_live  A3A07QA5U733HQ         0.00  A25L985XCNESXE   \n",
       "20180904-154250_98_live   A3GGA28ZY5CYTH         0.00   AG3ISFZMFGDQ9   \n",
       "20180904-024226_703_live  A22WWSTT8TU7G1         0.05  A2JQOU78XJA6VP   \n",
       "20180904-100019_870_live  A29NICQTS9B05U         0.00  A302K8B1H9ISJA   \n",
       "20180904-001208_706_live  A3LQ2F30FKC0CZ         0.00  A1RGD548VIVY96   \n",
       "\n",
       "                          donation_ee  intended  is_annotated  \n",
       "dialogue_id                                                    \n",
       "20180904-045349_715_live         0.00      0.20          True  \n",
       "20180904-154250_98_live          2.00       NaN         False  \n",
       "20180904-024226_703_live         0.05      0.05          True  \n",
       "20180904-100019_870_live         0.00       NaN         False  \n",
       "20180904-001208_706_live         1.00       NaN         False  "
      ]
     },
     "execution_count": 32,
     "metadata": {},
     "output_type": "execute_result"
    }
   ],
   "source": [
    "convo_info.head()"
   ]
  },
  {
   "cell_type": "code",
   "execution_count": null,
   "metadata": {
    "collapsed": true
   },
   "outputs": [],
   "source": []
  },
  {
   "cell_type": "markdown",
   "metadata": {},
   "source": [
    "Reads the annotated subset. Note that annotations are per sentence. We'll store these as a list of annotations; we'll also keep around the sentence-tokenized text for these annotated utterances to facilitate corresponding the annotations with the texts."
   ]
  },
  {
   "cell_type": "code",
   "execution_count": 33,
   "metadata": {},
   "outputs": [],
   "source": [
    "annot_df = pd.read_excel(os.path.join(ROOT_DIR, 'data_AnnotatedData_300_dialog.xlsx'), index_col=0)"
   ]
  },
  {
   "cell_type": "code",
   "execution_count": 34,
   "metadata": {},
   "outputs": [],
   "source": [
    "annot_df.columns = ['dialogue_id', 'role', 'user_turn_id', 'text', 'er_label_1', 'ee_label_1',\n",
    "                   'er_label_2', 'ee_label_2', 'neg','neu','pos']"
   ]
  },
  {
   "cell_type": "code",
   "execution_count": 35,
   "metadata": {},
   "outputs": [],
   "source": [
    "annot_df['turn_id'] = annot_df.dialogue_id + '__' + annot_df.role.map(str) + '__' + annot_df.user_turn_id.map(str)"
   ]
  },
  {
   "cell_type": "code",
   "execution_count": 36,
   "metadata": {},
   "outputs": [],
   "source": [
    "agg_annots = annot_df.groupby('turn_id')[['er_label_1','er_label_2','ee_label_1','ee_label_2',\n",
    "                            'neg','neu','pos']].agg(list)"
   ]
  },
  {
   "cell_type": "code",
   "execution_count": 37,
   "metadata": {},
   "outputs": [],
   "source": [
    "agg_sents = annot_df.groupby('turn_id').text.agg(lambda x: ' <s> '.join(x)).rename('text_by_sent')"
   ]
  },
  {
   "cell_type": "code",
   "execution_count": 38,
   "metadata": {
    "collapsed": true
   },
   "outputs": [],
   "source": [
    "sents_per_utt = annot_df.turn_id.value_counts().rename('n_sents')"
   ]
  },
  {
   "cell_type": "markdown",
   "metadata": {},
   "source": [
    "Join the annotations to the utterances. "
   ]
  },
  {
   "cell_type": "code",
   "execution_count": 39,
   "metadata": {},
   "outputs": [],
   "source": [
    "utt_df['turn_id'] = utt_df.dialogue_id + '__' + utt_df.role.map(str) + '__' + utt_df.user_turn_id.map(str)"
   ]
  },
  {
   "cell_type": "code",
   "execution_count": 40,
   "metadata": {},
   "outputs": [],
   "source": [
    "utt_df = utt_df.join(agg_annots, on='turn_id').join(agg_sents, on='turn_id').join(sents_per_utt, on='turn_id')"
   ]
  },
  {
   "cell_type": "code",
   "execution_count": 41,
   "metadata": {},
   "outputs": [],
   "source": [
    "utt_df['label_1'] = utt_df[['er_label_1','ee_label_1']].values[np.arange(len(utt_df)), utt_df.role.values]\n",
    "utt_df['label_2'] = utt_df[['er_label_2','ee_label_2']].values[np.arange(len(utt_df)), utt_df.role.values]"
   ]
  },
  {
   "cell_type": "code",
   "execution_count": 42,
   "metadata": {},
   "outputs": [
    {
     "data": {
      "text/html": [
       "<div>\n",
       "<style scoped>\n",
       "    .dataframe tbody tr th:only-of-type {\n",
       "        vertical-align: middle;\n",
       "    }\n",
       "\n",
       "    .dataframe tbody tr th {\n",
       "        vertical-align: top;\n",
       "    }\n",
       "\n",
       "    .dataframe thead th {\n",
       "        text-align: right;\n",
       "    }\n",
       "</style>\n",
       "<table border=\"1\" class=\"dataframe\">\n",
       "  <thead>\n",
       "    <tr style=\"text-align: right;\">\n",
       "      <th></th>\n",
       "      <th>turn_id</th>\n",
       "      <th>text</th>\n",
       "      <th>user_turn_id</th>\n",
       "      <th>role</th>\n",
       "      <th>dialogue_id</th>\n",
       "      <th>user_er</th>\n",
       "      <th>user_ee</th>\n",
       "      <th>user</th>\n",
       "      <th>id</th>\n",
       "      <th>reply_to</th>\n",
       "      <th>...</th>\n",
       "      <th>er_label_2</th>\n",
       "      <th>ee_label_1</th>\n",
       "      <th>ee_label_2</th>\n",
       "      <th>neg</th>\n",
       "      <th>neu</th>\n",
       "      <th>pos</th>\n",
       "      <th>text_by_sent</th>\n",
       "      <th>n_sents</th>\n",
       "      <th>label_1</th>\n",
       "      <th>label_2</th>\n",
       "    </tr>\n",
       "  </thead>\n",
       "  <tbody>\n",
       "    <tr>\n",
       "      <th>0</th>\n",
       "      <td>20180904-045349_715_live__0__0</td>\n",
       "      <td>Good morning. How are you doing today?</td>\n",
       "      <td>0</td>\n",
       "      <td>0</td>\n",
       "      <td>20180904-045349_715_live</td>\n",
       "      <td>A3A07QA5U733HQ</td>\n",
       "      <td>A25L985XCNESXE</td>\n",
       "      <td>A3A07QA5U733HQ</td>\n",
       "      <td>0</td>\n",
       "      <td>NaN</td>\n",
       "      <td>...</td>\n",
       "      <td>[nan, nan]</td>\n",
       "      <td>[nan, nan]</td>\n",
       "      <td>[nan, nan]</td>\n",
       "      <td>[0.0, 0.0]</td>\n",
       "      <td>[0.256, 1.0]</td>\n",
       "      <td>[0.7440000000000001, 0.0]</td>\n",
       "      <td>Good morning. &lt;s&gt; How are you doing today?</td>\n",
       "      <td>2.0</td>\n",
       "      <td>[greeting, greeting]</td>\n",
       "      <td>[nan, nan]</td>\n",
       "    </tr>\n",
       "    <tr>\n",
       "      <th>1</th>\n",
       "      <td>20180904-045349_715_live__1__0</td>\n",
       "      <td>Hi. I am doing good. How about you?</td>\n",
       "      <td>0</td>\n",
       "      <td>1</td>\n",
       "      <td>20180904-045349_715_live</td>\n",
       "      <td>A3A07QA5U733HQ</td>\n",
       "      <td>A25L985XCNESXE</td>\n",
       "      <td>A25L985XCNESXE</td>\n",
       "      <td>1</td>\n",
       "      <td>0.0</td>\n",
       "      <td>...</td>\n",
       "      <td>[nan, nan, nan]</td>\n",
       "      <td>[greeting, greeting, greeting]</td>\n",
       "      <td>[nan, nan, nan]</td>\n",
       "      <td>[0.0, 0.0, 0.0]</td>\n",
       "      <td>[1.0, 0.408, 1.0]</td>\n",
       "      <td>[0.0, 0.5920000000000001, 0.0]</td>\n",
       "      <td>Hi. &lt;s&gt; I am doing good. &lt;s&gt; How about you?</td>\n",
       "      <td>3.0</td>\n",
       "      <td>[greeting, greeting, greeting]</td>\n",
       "      <td>[nan, nan, nan]</td>\n",
       "    </tr>\n",
       "    <tr>\n",
       "      <th>2</th>\n",
       "      <td>20180904-045349_715_live__0__1</td>\n",
       "      <td>I'm doing pretty good for a Tuesday morning.</td>\n",
       "      <td>1</td>\n",
       "      <td>0</td>\n",
       "      <td>20180904-045349_715_live</td>\n",
       "      <td>A3A07QA5U733HQ</td>\n",
       "      <td>A25L985XCNESXE</td>\n",
       "      <td>A3A07QA5U733HQ</td>\n",
       "      <td>2</td>\n",
       "      <td>1.0</td>\n",
       "      <td>...</td>\n",
       "      <td>[nan]</td>\n",
       "      <td>[nan]</td>\n",
       "      <td>[nan]</td>\n",
       "      <td>[0.0]</td>\n",
       "      <td>[0.45]</td>\n",
       "      <td>[0.55]</td>\n",
       "      <td>I'm doing pretty good for a Tuesday morning.</td>\n",
       "      <td>1.0</td>\n",
       "      <td>[greeting]</td>\n",
       "      <td>[nan]</td>\n",
       "    </tr>\n",
       "    <tr>\n",
       "      <th>3</th>\n",
       "      <td>20180904-045349_715_live__1__1</td>\n",
       "      <td>Haha. Same here, but it really feels like a Mo...</td>\n",
       "      <td>1</td>\n",
       "      <td>1</td>\n",
       "      <td>20180904-045349_715_live</td>\n",
       "      <td>A3A07QA5U733HQ</td>\n",
       "      <td>A25L985XCNESXE</td>\n",
       "      <td>A25L985XCNESXE</td>\n",
       "      <td>3</td>\n",
       "      <td>2.0</td>\n",
       "      <td>...</td>\n",
       "      <td>[nan, nan]</td>\n",
       "      <td>[other, off-task]</td>\n",
       "      <td>[nan, nan]</td>\n",
       "      <td>[0.0, 0.0]</td>\n",
       "      <td>[0.0, 0.6559999999999999]</td>\n",
       "      <td>[1.0, 0.344]</td>\n",
       "      <td>Haha. &lt;s&gt; Same here, but it really feels like ...</td>\n",
       "      <td>2.0</td>\n",
       "      <td>[other, off-task]</td>\n",
       "      <td>[nan, nan]</td>\n",
       "    </tr>\n",
       "    <tr>\n",
       "      <th>4</th>\n",
       "      <td>20180904-045349_715_live__0__2</td>\n",
       "      <td>Ugh yes it does!</td>\n",
       "      <td>2</td>\n",
       "      <td>0</td>\n",
       "      <td>20180904-045349_715_live</td>\n",
       "      <td>A3A07QA5U733HQ</td>\n",
       "      <td>A25L985XCNESXE</td>\n",
       "      <td>A3A07QA5U733HQ</td>\n",
       "      <td>4</td>\n",
       "      <td>3.0</td>\n",
       "      <td>...</td>\n",
       "      <td>[nan]</td>\n",
       "      <td>[nan]</td>\n",
       "      <td>[nan]</td>\n",
       "      <td>[0.397]</td>\n",
       "      <td>[0.257]</td>\n",
       "      <td>[0.347]</td>\n",
       "      <td>Ugh yes it does!</td>\n",
       "      <td>1.0</td>\n",
       "      <td>[off-task]</td>\n",
       "      <td>[nan]</td>\n",
       "    </tr>\n",
       "  </tbody>\n",
       "</table>\n",
       "<p>5 rows × 22 columns</p>\n",
       "</div>"
      ],
      "text/plain": [
       "                          turn_id  \\\n",
       "0  20180904-045349_715_live__0__0   \n",
       "1  20180904-045349_715_live__1__0   \n",
       "2  20180904-045349_715_live__0__1   \n",
       "3  20180904-045349_715_live__1__1   \n",
       "4  20180904-045349_715_live__0__2   \n",
       "\n",
       "                                                text  user_turn_id  role  \\\n",
       "0             Good morning. How are you doing today?             0     0   \n",
       "1                Hi. I am doing good. How about you?             0     1   \n",
       "2      I'm doing pretty good for a Tuesday morning.              1     0   \n",
       "3  Haha. Same here, but it really feels like a Mo...             1     1   \n",
       "4                                   Ugh yes it does!             2     0   \n",
       "\n",
       "                dialogue_id         user_er         user_ee            user  \\\n",
       "0  20180904-045349_715_live  A3A07QA5U733HQ  A25L985XCNESXE  A3A07QA5U733HQ   \n",
       "1  20180904-045349_715_live  A3A07QA5U733HQ  A25L985XCNESXE  A25L985XCNESXE   \n",
       "2  20180904-045349_715_live  A3A07QA5U733HQ  A25L985XCNESXE  A3A07QA5U733HQ   \n",
       "3  20180904-045349_715_live  A3A07QA5U733HQ  A25L985XCNESXE  A25L985XCNESXE   \n",
       "4  20180904-045349_715_live  A3A07QA5U733HQ  A25L985XCNESXE  A3A07QA5U733HQ   \n",
       "\n",
       "   id  reply_to  ...       er_label_2                      ee_label_1  \\\n",
       "0   0       NaN  ...       [nan, nan]                      [nan, nan]   \n",
       "1   1       0.0  ...  [nan, nan, nan]  [greeting, greeting, greeting]   \n",
       "2   2       1.0  ...            [nan]                           [nan]   \n",
       "3   3       2.0  ...       [nan, nan]               [other, off-task]   \n",
       "4   4       3.0  ...            [nan]                           [nan]   \n",
       "\n",
       "        ee_label_2              neg                        neu  \\\n",
       "0       [nan, nan]       [0.0, 0.0]               [0.256, 1.0]   \n",
       "1  [nan, nan, nan]  [0.0, 0.0, 0.0]          [1.0, 0.408, 1.0]   \n",
       "2            [nan]            [0.0]                     [0.45]   \n",
       "3       [nan, nan]       [0.0, 0.0]  [0.0, 0.6559999999999999]   \n",
       "4            [nan]          [0.397]                    [0.257]   \n",
       "\n",
       "                              pos  \\\n",
       "0       [0.7440000000000001, 0.0]   \n",
       "1  [0.0, 0.5920000000000001, 0.0]   \n",
       "2                          [0.55]   \n",
       "3                    [1.0, 0.344]   \n",
       "4                         [0.347]   \n",
       "\n",
       "                                        text_by_sent n_sents  \\\n",
       "0         Good morning. <s> How are you doing today?     2.0   \n",
       "1        Hi. <s> I am doing good. <s> How about you?     3.0   \n",
       "2       I'm doing pretty good for a Tuesday morning.     1.0   \n",
       "3  Haha. <s> Same here, but it really feels like ...     2.0   \n",
       "4                                   Ugh yes it does!     1.0   \n",
       "\n",
       "                          label_1          label_2  \n",
       "0            [greeting, greeting]       [nan, nan]  \n",
       "1  [greeting, greeting, greeting]  [nan, nan, nan]  \n",
       "2                      [greeting]            [nan]  \n",
       "3               [other, off-task]       [nan, nan]  \n",
       "4                      [off-task]            [nan]  \n",
       "\n",
       "[5 rows x 22 columns]"
      ]
     },
     "execution_count": 42,
     "metadata": {},
     "output_type": "execute_result"
    }
   ],
   "source": [
    "utt_df.head()"
   ]
  },
  {
   "cell_type": "markdown",
   "metadata": {},
   "source": [
    "We're now ready to construct a new Corpus object given the utterances. Note a gotcha (to be fixed or documented in a future release) -- to facilitate reading the corpus back into memory later, utterance and hence conversation IDs must be stored as strings."
   ]
  },
  {
   "cell_type": "code",
   "execution_count": 66,
   "metadata": {},
   "outputs": [],
   "source": [
    "# to deal with some data type problems\n",
    "def safe_convert_str(x):\n",
    "    if np.isnan(x): return None\n",
    "    else: return str(int(x))"
   ]
  },
  {
   "cell_type": "code",
   "execution_count": 67,
   "metadata": {},
   "outputs": [],
   "source": [
    "utterances = []\n",
    "for utt_id, row in utt_df.iterrows():\n",
    "    utterance = Utterance(id=str(utt_id), speaker=corpus_speakers[row.speaker], conversation_id=str(row.root),\n",
    "                         reply_to=safe_convert_str(row.reply_to),text=row.text,\n",
    "                         meta={\n",
    "                             'user_turn_id': row.user_turn_id,\n",
    "                             'role': row.role,\n",
    "                             'text_by_sent': row.text_by_sent,\n",
    "                             'n_sents': safe_convert_int(row.n_sents),\n",
    "                             'label_1': row.label_1,\n",
    "                             'label_2': row.label_2,\n",
    "                             'sentiment': {'neg': row.neg, 'neu': row.neu, 'pos': row.pos}\n",
    "                             \n",
    "                         })\n",
    "    utterances.append(utterance)"
   ]
  },
  {
   "cell_type": "code",
   "execution_count": 68,
   "metadata": {},
   "outputs": [
    {
     "data": {
      "text/plain": [
       "Utterance({'id': '13', 'speaker': Speaker([('id', 'A25L985XCNESXE')]), 'conversation_id': '0', 'reply_to': '12', 'timestamp': None, 'text': 'Yes, I am sure you get a lot of storms.', 'meta': {'user_turn_id': 6, 'role': 1, 'text_by_sent': 'Yes, I am sure you get a lot of storms.', 'n_sents': 1, 'label_1': ['off-task'], 'label_2': [nan], 'sentiment': {'neg': [0.0], 'neu': [0.545], 'pos': [0.455]}}})"
      ]
     },
     "execution_count": 68,
     "metadata": {},
     "output_type": "execute_result"
    }
   ],
   "source": [
    "utterances[13]"
   ]
  },
  {
   "cell_type": "code",
   "execution_count": 69,
   "metadata": {},
   "outputs": [
    {
     "data": {
      "text/plain": [
       "Utterance({'id': '1993', 'speaker': Speaker([('id', 'A3VYD9XUBY7RVO')]), 'conversation_id': '1980', 'reply_to': '1992', 'timestamp': None, 'text': \"That's great! Although charity is a good cause, I want to feel like my time is being valued so I want to leave $1 for myself\", 'meta': {'user_turn_id': 6, 'role': 1, 'text_by_sent': nan, 'n_sents': None, 'label_1': nan, 'label_2': nan, 'sentiment': {'neg': nan, 'neu': nan, 'pos': nan}}})"
      ]
     },
     "execution_count": 69,
     "metadata": {},
     "output_type": "execute_result"
    }
   ],
   "source": [
    "utterances[1993]"
   ]
  },
  {
   "cell_type": "code",
   "execution_count": 70,
   "metadata": {
    "collapsed": true
   },
   "outputs": [],
   "source": [
    "corpus = Corpus(utterances=utterances, version=1)"
   ]
  },
  {
   "cell_type": "code",
   "execution_count": 72,
   "metadata": {
    "collapsed": true
   },
   "outputs": [],
   "source": [
    "corpus.meta['name'] = \"Persuasion For Good Corpus\""
   ]
  },
  {
   "cell_type": "code",
   "execution_count": 73,
   "metadata": {},
   "outputs": [
    {
     "name": "stdout",
     "output_type": "stream",
     "text": [
      "Number of Speakers: 1285\n",
      "Number of Utterances: 20932\n",
      "Number of Conversations: 1017\n"
     ]
    }
   ],
   "source": [
    "corpus.print_summary_stats()"
   ]
  },
  {
   "cell_type": "markdown",
   "metadata": {},
   "source": [
    "update convo-level metadata"
   ]
  },
  {
   "cell_type": "code",
   "execution_count": 51,
   "metadata": {},
   "outputs": [],
   "source": [
    "convo_info = convo_info.join(dialogue_to_convo_id.rename('convo_id'))"
   ]
  },
  {
   "cell_type": "code",
   "execution_count": 52,
   "metadata": {},
   "outputs": [],
   "source": [
    "convo_info['dialogue_id'] = convo_info.index\n",
    "convo_info = convo_info.set_index('convo_id')"
   ]
  },
  {
   "cell_type": "code",
   "execution_count": 53,
   "metadata": {},
   "outputs": [],
   "source": [
    "convo_info_dict = convo_info.to_dict(orient='index')"
   ]
  },
  {
   "cell_type": "code",
   "execution_count": 75,
   "metadata": {},
   "outputs": [],
   "source": [
    "for convo_id in corpus.get_conversation_ids():\n",
    "    conversation = corpus.get_conversation(convo_id)\n",
    "    conversation.meta = convo_info_dict[int(convo_id)]"
   ]
  },
  {
   "cell_type": "code",
   "execution_count": null,
   "metadata": {
    "collapsed": true
   },
   "outputs": [],
   "source": []
  },
  {
   "cell_type": "markdown",
   "metadata": {},
   "source": [
    "finally, write to disk."
   ]
  },
  {
   "cell_type": "code",
   "execution_count": 76,
   "metadata": {},
   "outputs": [],
   "source": [
    "corpus.dump('persuasionforgood_corpus', base_path=os.path.dirname(ROOT_DIR))"
   ]
  },
  {
   "cell_type": "code",
   "execution_count": null,
   "metadata": {
    "collapsed": true
   },
   "outputs": [],
   "source": []
  }
 ],
 "metadata": {
  "kernelspec": {
   "display_name": "Python 3",
   "language": "python",
   "name": "python3"
  },
  "language_info": {
   "codemirror_mode": {
    "name": "ipython",
    "version": 3
   },
   "file_extension": ".py",
   "mimetype": "text/x-python",
   "name": "python",
   "nbconvert_exporter": "python",
   "pygments_lexer": "ipython3",
   "version": "3.6.3"
  }
 },
 "nbformat": 4,
 "nbformat_minor": 2
}
